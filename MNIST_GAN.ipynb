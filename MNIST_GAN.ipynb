{
  "nbformat": 4,
  "nbformat_minor": 0,
  "metadata": {
    "colab": {
      "name": "MNIST_GAN.ipynb",
      "provenance": [],
      "authorship_tag": "ABX9TyMwUyO3wXvWR0Oj8MvAA/hS",
      "include_colab_link": true
    },
    "kernelspec": {
      "name": "python3",
      "display_name": "Python 3"
    },
    "language_info": {
      "name": "python"
    },
    "accelerator": "GPU",
    "gpuClass": "standard",
    "widgets": {
      "application/vnd.jupyter.widget-state+json": {
        "8ef3a5cbd086437e8fe7d4e1c78ea066": {
          "model_module": "@jupyter-widgets/controls",
          "model_name": "HBoxModel",
          "model_module_version": "1.5.0",
          "state": {
            "_dom_classes": [],
            "_model_module": "@jupyter-widgets/controls",
            "_model_module_version": "1.5.0",
            "_model_name": "HBoxModel",
            "_view_count": null,
            "_view_module": "@jupyter-widgets/controls",
            "_view_module_version": "1.5.0",
            "_view_name": "HBoxView",
            "box_style": "",
            "children": [
              "IPY_MODEL_acf3cc4ff2864f70b9c12120e86a4cc8",
              "IPY_MODEL_941e87c46cbc439b851641742943ea0c",
              "IPY_MODEL_be2406f7377b4b84b85ab2e1b02b7a8b"
            ],
            "layout": "IPY_MODEL_a42dc8b9368d47e5828a2727d7d14cfa"
          }
        },
        "acf3cc4ff2864f70b9c12120e86a4cc8": {
          "model_module": "@jupyter-widgets/controls",
          "model_name": "HTMLModel",
          "model_module_version": "1.5.0",
          "state": {
            "_dom_classes": [],
            "_model_module": "@jupyter-widgets/controls",
            "_model_module_version": "1.5.0",
            "_model_name": "HTMLModel",
            "_view_count": null,
            "_view_module": "@jupyter-widgets/controls",
            "_view_module_version": "1.5.0",
            "_view_name": "HTMLView",
            "description": "",
            "description_tooltip": null,
            "layout": "IPY_MODEL_cec612e83dce43de97c6e756acd0155e",
            "placeholder": "​",
            "style": "IPY_MODEL_9e11f7f5119549a588756734677cae8a",
            "value": ""
          }
        },
        "941e87c46cbc439b851641742943ea0c": {
          "model_module": "@jupyter-widgets/controls",
          "model_name": "FloatProgressModel",
          "model_module_version": "1.5.0",
          "state": {
            "_dom_classes": [],
            "_model_module": "@jupyter-widgets/controls",
            "_model_module_version": "1.5.0",
            "_model_name": "FloatProgressModel",
            "_view_count": null,
            "_view_module": "@jupyter-widgets/controls",
            "_view_module_version": "1.5.0",
            "_view_name": "ProgressView",
            "bar_style": "success",
            "description": "",
            "description_tooltip": null,
            "layout": "IPY_MODEL_f433f8eedcaa4a39ade1c720514b31c2",
            "max": 9912422,
            "min": 0,
            "orientation": "horizontal",
            "style": "IPY_MODEL_6e1807161d1c4dd8b073483325153397",
            "value": 9912422
          }
        },
        "be2406f7377b4b84b85ab2e1b02b7a8b": {
          "model_module": "@jupyter-widgets/controls",
          "model_name": "HTMLModel",
          "model_module_version": "1.5.0",
          "state": {
            "_dom_classes": [],
            "_model_module": "@jupyter-widgets/controls",
            "_model_module_version": "1.5.0",
            "_model_name": "HTMLModel",
            "_view_count": null,
            "_view_module": "@jupyter-widgets/controls",
            "_view_module_version": "1.5.0",
            "_view_name": "HTMLView",
            "description": "",
            "description_tooltip": null,
            "layout": "IPY_MODEL_a503740c19f046359ed697f69a33cb7f",
            "placeholder": "​",
            "style": "IPY_MODEL_ad7d12cccb3e4abfbf23f231f70f0722",
            "value": " 9913344/? [00:00&lt;00:00, 30000653.63it/s]"
          }
        },
        "a42dc8b9368d47e5828a2727d7d14cfa": {
          "model_module": "@jupyter-widgets/base",
          "model_name": "LayoutModel",
          "model_module_version": "1.2.0",
          "state": {
            "_model_module": "@jupyter-widgets/base",
            "_model_module_version": "1.2.0",
            "_model_name": "LayoutModel",
            "_view_count": null,
            "_view_module": "@jupyter-widgets/base",
            "_view_module_version": "1.2.0",
            "_view_name": "LayoutView",
            "align_content": null,
            "align_items": null,
            "align_self": null,
            "border": null,
            "bottom": null,
            "display": null,
            "flex": null,
            "flex_flow": null,
            "grid_area": null,
            "grid_auto_columns": null,
            "grid_auto_flow": null,
            "grid_auto_rows": null,
            "grid_column": null,
            "grid_gap": null,
            "grid_row": null,
            "grid_template_areas": null,
            "grid_template_columns": null,
            "grid_template_rows": null,
            "height": null,
            "justify_content": null,
            "justify_items": null,
            "left": null,
            "margin": null,
            "max_height": null,
            "max_width": null,
            "min_height": null,
            "min_width": null,
            "object_fit": null,
            "object_position": null,
            "order": null,
            "overflow": null,
            "overflow_x": null,
            "overflow_y": null,
            "padding": null,
            "right": null,
            "top": null,
            "visibility": null,
            "width": null
          }
        },
        "cec612e83dce43de97c6e756acd0155e": {
          "model_module": "@jupyter-widgets/base",
          "model_name": "LayoutModel",
          "model_module_version": "1.2.0",
          "state": {
            "_model_module": "@jupyter-widgets/base",
            "_model_module_version": "1.2.0",
            "_model_name": "LayoutModel",
            "_view_count": null,
            "_view_module": "@jupyter-widgets/base",
            "_view_module_version": "1.2.0",
            "_view_name": "LayoutView",
            "align_content": null,
            "align_items": null,
            "align_self": null,
            "border": null,
            "bottom": null,
            "display": null,
            "flex": null,
            "flex_flow": null,
            "grid_area": null,
            "grid_auto_columns": null,
            "grid_auto_flow": null,
            "grid_auto_rows": null,
            "grid_column": null,
            "grid_gap": null,
            "grid_row": null,
            "grid_template_areas": null,
            "grid_template_columns": null,
            "grid_template_rows": null,
            "height": null,
            "justify_content": null,
            "justify_items": null,
            "left": null,
            "margin": null,
            "max_height": null,
            "max_width": null,
            "min_height": null,
            "min_width": null,
            "object_fit": null,
            "object_position": null,
            "order": null,
            "overflow": null,
            "overflow_x": null,
            "overflow_y": null,
            "padding": null,
            "right": null,
            "top": null,
            "visibility": null,
            "width": null
          }
        },
        "9e11f7f5119549a588756734677cae8a": {
          "model_module": "@jupyter-widgets/controls",
          "model_name": "DescriptionStyleModel",
          "model_module_version": "1.5.0",
          "state": {
            "_model_module": "@jupyter-widgets/controls",
            "_model_module_version": "1.5.0",
            "_model_name": "DescriptionStyleModel",
            "_view_count": null,
            "_view_module": "@jupyter-widgets/base",
            "_view_module_version": "1.2.0",
            "_view_name": "StyleView",
            "description_width": ""
          }
        },
        "f433f8eedcaa4a39ade1c720514b31c2": {
          "model_module": "@jupyter-widgets/base",
          "model_name": "LayoutModel",
          "model_module_version": "1.2.0",
          "state": {
            "_model_module": "@jupyter-widgets/base",
            "_model_module_version": "1.2.0",
            "_model_name": "LayoutModel",
            "_view_count": null,
            "_view_module": "@jupyter-widgets/base",
            "_view_module_version": "1.2.0",
            "_view_name": "LayoutView",
            "align_content": null,
            "align_items": null,
            "align_self": null,
            "border": null,
            "bottom": null,
            "display": null,
            "flex": null,
            "flex_flow": null,
            "grid_area": null,
            "grid_auto_columns": null,
            "grid_auto_flow": null,
            "grid_auto_rows": null,
            "grid_column": null,
            "grid_gap": null,
            "grid_row": null,
            "grid_template_areas": null,
            "grid_template_columns": null,
            "grid_template_rows": null,
            "height": null,
            "justify_content": null,
            "justify_items": null,
            "left": null,
            "margin": null,
            "max_height": null,
            "max_width": null,
            "min_height": null,
            "min_width": null,
            "object_fit": null,
            "object_position": null,
            "order": null,
            "overflow": null,
            "overflow_x": null,
            "overflow_y": null,
            "padding": null,
            "right": null,
            "top": null,
            "visibility": null,
            "width": null
          }
        },
        "6e1807161d1c4dd8b073483325153397": {
          "model_module": "@jupyter-widgets/controls",
          "model_name": "ProgressStyleModel",
          "model_module_version": "1.5.0",
          "state": {
            "_model_module": "@jupyter-widgets/controls",
            "_model_module_version": "1.5.0",
            "_model_name": "ProgressStyleModel",
            "_view_count": null,
            "_view_module": "@jupyter-widgets/base",
            "_view_module_version": "1.2.0",
            "_view_name": "StyleView",
            "bar_color": null,
            "description_width": ""
          }
        },
        "a503740c19f046359ed697f69a33cb7f": {
          "model_module": "@jupyter-widgets/base",
          "model_name": "LayoutModel",
          "model_module_version": "1.2.0",
          "state": {
            "_model_module": "@jupyter-widgets/base",
            "_model_module_version": "1.2.0",
            "_model_name": "LayoutModel",
            "_view_count": null,
            "_view_module": "@jupyter-widgets/base",
            "_view_module_version": "1.2.0",
            "_view_name": "LayoutView",
            "align_content": null,
            "align_items": null,
            "align_self": null,
            "border": null,
            "bottom": null,
            "display": null,
            "flex": null,
            "flex_flow": null,
            "grid_area": null,
            "grid_auto_columns": null,
            "grid_auto_flow": null,
            "grid_auto_rows": null,
            "grid_column": null,
            "grid_gap": null,
            "grid_row": null,
            "grid_template_areas": null,
            "grid_template_columns": null,
            "grid_template_rows": null,
            "height": null,
            "justify_content": null,
            "justify_items": null,
            "left": null,
            "margin": null,
            "max_height": null,
            "max_width": null,
            "min_height": null,
            "min_width": null,
            "object_fit": null,
            "object_position": null,
            "order": null,
            "overflow": null,
            "overflow_x": null,
            "overflow_y": null,
            "padding": null,
            "right": null,
            "top": null,
            "visibility": null,
            "width": null
          }
        },
        "ad7d12cccb3e4abfbf23f231f70f0722": {
          "model_module": "@jupyter-widgets/controls",
          "model_name": "DescriptionStyleModel",
          "model_module_version": "1.5.0",
          "state": {
            "_model_module": "@jupyter-widgets/controls",
            "_model_module_version": "1.5.0",
            "_model_name": "DescriptionStyleModel",
            "_view_count": null,
            "_view_module": "@jupyter-widgets/base",
            "_view_module_version": "1.2.0",
            "_view_name": "StyleView",
            "description_width": ""
          }
        },
        "570eefab4b714bec8412aa842987b60e": {
          "model_module": "@jupyter-widgets/controls",
          "model_name": "HBoxModel",
          "model_module_version": "1.5.0",
          "state": {
            "_dom_classes": [],
            "_model_module": "@jupyter-widgets/controls",
            "_model_module_version": "1.5.0",
            "_model_name": "HBoxModel",
            "_view_count": null,
            "_view_module": "@jupyter-widgets/controls",
            "_view_module_version": "1.5.0",
            "_view_name": "HBoxView",
            "box_style": "",
            "children": [
              "IPY_MODEL_8cb7f8fac0bc4638a67a8aa7f73ba6b8",
              "IPY_MODEL_f49b7e91cfea4667b84db6a058ac5f65",
              "IPY_MODEL_531d6fbbeca34c5a91f4b2f8267a212c"
            ],
            "layout": "IPY_MODEL_1a04be6f555049e88304c0983ddfcfac"
          }
        },
        "8cb7f8fac0bc4638a67a8aa7f73ba6b8": {
          "model_module": "@jupyter-widgets/controls",
          "model_name": "HTMLModel",
          "model_module_version": "1.5.0",
          "state": {
            "_dom_classes": [],
            "_model_module": "@jupyter-widgets/controls",
            "_model_module_version": "1.5.0",
            "_model_name": "HTMLModel",
            "_view_count": null,
            "_view_module": "@jupyter-widgets/controls",
            "_view_module_version": "1.5.0",
            "_view_name": "HTMLView",
            "description": "",
            "description_tooltip": null,
            "layout": "IPY_MODEL_76f4739eeab24c60ad5799dec06c0988",
            "placeholder": "​",
            "style": "IPY_MODEL_632a5009302a444c8cff92816c08c1c1",
            "value": ""
          }
        },
        "f49b7e91cfea4667b84db6a058ac5f65": {
          "model_module": "@jupyter-widgets/controls",
          "model_name": "FloatProgressModel",
          "model_module_version": "1.5.0",
          "state": {
            "_dom_classes": [],
            "_model_module": "@jupyter-widgets/controls",
            "_model_module_version": "1.5.0",
            "_model_name": "FloatProgressModel",
            "_view_count": null,
            "_view_module": "@jupyter-widgets/controls",
            "_view_module_version": "1.5.0",
            "_view_name": "ProgressView",
            "bar_style": "success",
            "description": "",
            "description_tooltip": null,
            "layout": "IPY_MODEL_20eaea3152f842e789dd445a1a3cb1c5",
            "max": 28881,
            "min": 0,
            "orientation": "horizontal",
            "style": "IPY_MODEL_2df6f704f3a7471ca2961aaf785bf43b",
            "value": 28881
          }
        },
        "531d6fbbeca34c5a91f4b2f8267a212c": {
          "model_module": "@jupyter-widgets/controls",
          "model_name": "HTMLModel",
          "model_module_version": "1.5.0",
          "state": {
            "_dom_classes": [],
            "_model_module": "@jupyter-widgets/controls",
            "_model_module_version": "1.5.0",
            "_model_name": "HTMLModel",
            "_view_count": null,
            "_view_module": "@jupyter-widgets/controls",
            "_view_module_version": "1.5.0",
            "_view_name": "HTMLView",
            "description": "",
            "description_tooltip": null,
            "layout": "IPY_MODEL_8fa8dfb7beb64da7a40a0d4a57b5d1a5",
            "placeholder": "​",
            "style": "IPY_MODEL_07c4d93f255348638ea7e2f7bf818458",
            "value": " 29696/? [00:00&lt;00:00, 863040.82it/s]"
          }
        },
        "1a04be6f555049e88304c0983ddfcfac": {
          "model_module": "@jupyter-widgets/base",
          "model_name": "LayoutModel",
          "model_module_version": "1.2.0",
          "state": {
            "_model_module": "@jupyter-widgets/base",
            "_model_module_version": "1.2.0",
            "_model_name": "LayoutModel",
            "_view_count": null,
            "_view_module": "@jupyter-widgets/base",
            "_view_module_version": "1.2.0",
            "_view_name": "LayoutView",
            "align_content": null,
            "align_items": null,
            "align_self": null,
            "border": null,
            "bottom": null,
            "display": null,
            "flex": null,
            "flex_flow": null,
            "grid_area": null,
            "grid_auto_columns": null,
            "grid_auto_flow": null,
            "grid_auto_rows": null,
            "grid_column": null,
            "grid_gap": null,
            "grid_row": null,
            "grid_template_areas": null,
            "grid_template_columns": null,
            "grid_template_rows": null,
            "height": null,
            "justify_content": null,
            "justify_items": null,
            "left": null,
            "margin": null,
            "max_height": null,
            "max_width": null,
            "min_height": null,
            "min_width": null,
            "object_fit": null,
            "object_position": null,
            "order": null,
            "overflow": null,
            "overflow_x": null,
            "overflow_y": null,
            "padding": null,
            "right": null,
            "top": null,
            "visibility": null,
            "width": null
          }
        },
        "76f4739eeab24c60ad5799dec06c0988": {
          "model_module": "@jupyter-widgets/base",
          "model_name": "LayoutModel",
          "model_module_version": "1.2.0",
          "state": {
            "_model_module": "@jupyter-widgets/base",
            "_model_module_version": "1.2.0",
            "_model_name": "LayoutModel",
            "_view_count": null,
            "_view_module": "@jupyter-widgets/base",
            "_view_module_version": "1.2.0",
            "_view_name": "LayoutView",
            "align_content": null,
            "align_items": null,
            "align_self": null,
            "border": null,
            "bottom": null,
            "display": null,
            "flex": null,
            "flex_flow": null,
            "grid_area": null,
            "grid_auto_columns": null,
            "grid_auto_flow": null,
            "grid_auto_rows": null,
            "grid_column": null,
            "grid_gap": null,
            "grid_row": null,
            "grid_template_areas": null,
            "grid_template_columns": null,
            "grid_template_rows": null,
            "height": null,
            "justify_content": null,
            "justify_items": null,
            "left": null,
            "margin": null,
            "max_height": null,
            "max_width": null,
            "min_height": null,
            "min_width": null,
            "object_fit": null,
            "object_position": null,
            "order": null,
            "overflow": null,
            "overflow_x": null,
            "overflow_y": null,
            "padding": null,
            "right": null,
            "top": null,
            "visibility": null,
            "width": null
          }
        },
        "632a5009302a444c8cff92816c08c1c1": {
          "model_module": "@jupyter-widgets/controls",
          "model_name": "DescriptionStyleModel",
          "model_module_version": "1.5.0",
          "state": {
            "_model_module": "@jupyter-widgets/controls",
            "_model_module_version": "1.5.0",
            "_model_name": "DescriptionStyleModel",
            "_view_count": null,
            "_view_module": "@jupyter-widgets/base",
            "_view_module_version": "1.2.0",
            "_view_name": "StyleView",
            "description_width": ""
          }
        },
        "20eaea3152f842e789dd445a1a3cb1c5": {
          "model_module": "@jupyter-widgets/base",
          "model_name": "LayoutModel",
          "model_module_version": "1.2.0",
          "state": {
            "_model_module": "@jupyter-widgets/base",
            "_model_module_version": "1.2.0",
            "_model_name": "LayoutModel",
            "_view_count": null,
            "_view_module": "@jupyter-widgets/base",
            "_view_module_version": "1.2.0",
            "_view_name": "LayoutView",
            "align_content": null,
            "align_items": null,
            "align_self": null,
            "border": null,
            "bottom": null,
            "display": null,
            "flex": null,
            "flex_flow": null,
            "grid_area": null,
            "grid_auto_columns": null,
            "grid_auto_flow": null,
            "grid_auto_rows": null,
            "grid_column": null,
            "grid_gap": null,
            "grid_row": null,
            "grid_template_areas": null,
            "grid_template_columns": null,
            "grid_template_rows": null,
            "height": null,
            "justify_content": null,
            "justify_items": null,
            "left": null,
            "margin": null,
            "max_height": null,
            "max_width": null,
            "min_height": null,
            "min_width": null,
            "object_fit": null,
            "object_position": null,
            "order": null,
            "overflow": null,
            "overflow_x": null,
            "overflow_y": null,
            "padding": null,
            "right": null,
            "top": null,
            "visibility": null,
            "width": null
          }
        },
        "2df6f704f3a7471ca2961aaf785bf43b": {
          "model_module": "@jupyter-widgets/controls",
          "model_name": "ProgressStyleModel",
          "model_module_version": "1.5.0",
          "state": {
            "_model_module": "@jupyter-widgets/controls",
            "_model_module_version": "1.5.0",
            "_model_name": "ProgressStyleModel",
            "_view_count": null,
            "_view_module": "@jupyter-widgets/base",
            "_view_module_version": "1.2.0",
            "_view_name": "StyleView",
            "bar_color": null,
            "description_width": ""
          }
        },
        "8fa8dfb7beb64da7a40a0d4a57b5d1a5": {
          "model_module": "@jupyter-widgets/base",
          "model_name": "LayoutModel",
          "model_module_version": "1.2.0",
          "state": {
            "_model_module": "@jupyter-widgets/base",
            "_model_module_version": "1.2.0",
            "_model_name": "LayoutModel",
            "_view_count": null,
            "_view_module": "@jupyter-widgets/base",
            "_view_module_version": "1.2.0",
            "_view_name": "LayoutView",
            "align_content": null,
            "align_items": null,
            "align_self": null,
            "border": null,
            "bottom": null,
            "display": null,
            "flex": null,
            "flex_flow": null,
            "grid_area": null,
            "grid_auto_columns": null,
            "grid_auto_flow": null,
            "grid_auto_rows": null,
            "grid_column": null,
            "grid_gap": null,
            "grid_row": null,
            "grid_template_areas": null,
            "grid_template_columns": null,
            "grid_template_rows": null,
            "height": null,
            "justify_content": null,
            "justify_items": null,
            "left": null,
            "margin": null,
            "max_height": null,
            "max_width": null,
            "min_height": null,
            "min_width": null,
            "object_fit": null,
            "object_position": null,
            "order": null,
            "overflow": null,
            "overflow_x": null,
            "overflow_y": null,
            "padding": null,
            "right": null,
            "top": null,
            "visibility": null,
            "width": null
          }
        },
        "07c4d93f255348638ea7e2f7bf818458": {
          "model_module": "@jupyter-widgets/controls",
          "model_name": "DescriptionStyleModel",
          "model_module_version": "1.5.0",
          "state": {
            "_model_module": "@jupyter-widgets/controls",
            "_model_module_version": "1.5.0",
            "_model_name": "DescriptionStyleModel",
            "_view_count": null,
            "_view_module": "@jupyter-widgets/base",
            "_view_module_version": "1.2.0",
            "_view_name": "StyleView",
            "description_width": ""
          }
        },
        "784d5dfd36ed4b4c86194410e3693321": {
          "model_module": "@jupyter-widgets/controls",
          "model_name": "HBoxModel",
          "model_module_version": "1.5.0",
          "state": {
            "_dom_classes": [],
            "_model_module": "@jupyter-widgets/controls",
            "_model_module_version": "1.5.0",
            "_model_name": "HBoxModel",
            "_view_count": null,
            "_view_module": "@jupyter-widgets/controls",
            "_view_module_version": "1.5.0",
            "_view_name": "HBoxView",
            "box_style": "",
            "children": [
              "IPY_MODEL_7a532a4e53c343fd9c59ef5b92d0c716",
              "IPY_MODEL_81db968b97514ef5a2fb93ad2ab5f24a",
              "IPY_MODEL_290b5ad74b8e42fb9174ad8b446f91d6"
            ],
            "layout": "IPY_MODEL_7518ce6adb334187bcc830736bc51065"
          }
        },
        "7a532a4e53c343fd9c59ef5b92d0c716": {
          "model_module": "@jupyter-widgets/controls",
          "model_name": "HTMLModel",
          "model_module_version": "1.5.0",
          "state": {
            "_dom_classes": [],
            "_model_module": "@jupyter-widgets/controls",
            "_model_module_version": "1.5.0",
            "_model_name": "HTMLModel",
            "_view_count": null,
            "_view_module": "@jupyter-widgets/controls",
            "_view_module_version": "1.5.0",
            "_view_name": "HTMLView",
            "description": "",
            "description_tooltip": null,
            "layout": "IPY_MODEL_34095fb216fb40848af4ecbf6ffa9830",
            "placeholder": "​",
            "style": "IPY_MODEL_7379611c8fb34c048b767a324c73b213",
            "value": ""
          }
        },
        "81db968b97514ef5a2fb93ad2ab5f24a": {
          "model_module": "@jupyter-widgets/controls",
          "model_name": "FloatProgressModel",
          "model_module_version": "1.5.0",
          "state": {
            "_dom_classes": [],
            "_model_module": "@jupyter-widgets/controls",
            "_model_module_version": "1.5.0",
            "_model_name": "FloatProgressModel",
            "_view_count": null,
            "_view_module": "@jupyter-widgets/controls",
            "_view_module_version": "1.5.0",
            "_view_name": "ProgressView",
            "bar_style": "success",
            "description": "",
            "description_tooltip": null,
            "layout": "IPY_MODEL_e55f59962da34bdc9edc40462017d5cb",
            "max": 1648877,
            "min": 0,
            "orientation": "horizontal",
            "style": "IPY_MODEL_1ccae368e1b843b6816e8c1ebac76e70",
            "value": 1648877
          }
        },
        "290b5ad74b8e42fb9174ad8b446f91d6": {
          "model_module": "@jupyter-widgets/controls",
          "model_name": "HTMLModel",
          "model_module_version": "1.5.0",
          "state": {
            "_dom_classes": [],
            "_model_module": "@jupyter-widgets/controls",
            "_model_module_version": "1.5.0",
            "_model_name": "HTMLModel",
            "_view_count": null,
            "_view_module": "@jupyter-widgets/controls",
            "_view_module_version": "1.5.0",
            "_view_name": "HTMLView",
            "description": "",
            "description_tooltip": null,
            "layout": "IPY_MODEL_9b178eb1f3c64710994097c5c7c73735",
            "placeholder": "​",
            "style": "IPY_MODEL_28a79ee35a7945779fa8d43ea94590e2",
            "value": " 1649664/? [00:00&lt;00:00, 18603479.99it/s]"
          }
        },
        "7518ce6adb334187bcc830736bc51065": {
          "model_module": "@jupyter-widgets/base",
          "model_name": "LayoutModel",
          "model_module_version": "1.2.0",
          "state": {
            "_model_module": "@jupyter-widgets/base",
            "_model_module_version": "1.2.0",
            "_model_name": "LayoutModel",
            "_view_count": null,
            "_view_module": "@jupyter-widgets/base",
            "_view_module_version": "1.2.0",
            "_view_name": "LayoutView",
            "align_content": null,
            "align_items": null,
            "align_self": null,
            "border": null,
            "bottom": null,
            "display": null,
            "flex": null,
            "flex_flow": null,
            "grid_area": null,
            "grid_auto_columns": null,
            "grid_auto_flow": null,
            "grid_auto_rows": null,
            "grid_column": null,
            "grid_gap": null,
            "grid_row": null,
            "grid_template_areas": null,
            "grid_template_columns": null,
            "grid_template_rows": null,
            "height": null,
            "justify_content": null,
            "justify_items": null,
            "left": null,
            "margin": null,
            "max_height": null,
            "max_width": null,
            "min_height": null,
            "min_width": null,
            "object_fit": null,
            "object_position": null,
            "order": null,
            "overflow": null,
            "overflow_x": null,
            "overflow_y": null,
            "padding": null,
            "right": null,
            "top": null,
            "visibility": null,
            "width": null
          }
        },
        "34095fb216fb40848af4ecbf6ffa9830": {
          "model_module": "@jupyter-widgets/base",
          "model_name": "LayoutModel",
          "model_module_version": "1.2.0",
          "state": {
            "_model_module": "@jupyter-widgets/base",
            "_model_module_version": "1.2.0",
            "_model_name": "LayoutModel",
            "_view_count": null,
            "_view_module": "@jupyter-widgets/base",
            "_view_module_version": "1.2.0",
            "_view_name": "LayoutView",
            "align_content": null,
            "align_items": null,
            "align_self": null,
            "border": null,
            "bottom": null,
            "display": null,
            "flex": null,
            "flex_flow": null,
            "grid_area": null,
            "grid_auto_columns": null,
            "grid_auto_flow": null,
            "grid_auto_rows": null,
            "grid_column": null,
            "grid_gap": null,
            "grid_row": null,
            "grid_template_areas": null,
            "grid_template_columns": null,
            "grid_template_rows": null,
            "height": null,
            "justify_content": null,
            "justify_items": null,
            "left": null,
            "margin": null,
            "max_height": null,
            "max_width": null,
            "min_height": null,
            "min_width": null,
            "object_fit": null,
            "object_position": null,
            "order": null,
            "overflow": null,
            "overflow_x": null,
            "overflow_y": null,
            "padding": null,
            "right": null,
            "top": null,
            "visibility": null,
            "width": null
          }
        },
        "7379611c8fb34c048b767a324c73b213": {
          "model_module": "@jupyter-widgets/controls",
          "model_name": "DescriptionStyleModel",
          "model_module_version": "1.5.0",
          "state": {
            "_model_module": "@jupyter-widgets/controls",
            "_model_module_version": "1.5.0",
            "_model_name": "DescriptionStyleModel",
            "_view_count": null,
            "_view_module": "@jupyter-widgets/base",
            "_view_module_version": "1.2.0",
            "_view_name": "StyleView",
            "description_width": ""
          }
        },
        "e55f59962da34bdc9edc40462017d5cb": {
          "model_module": "@jupyter-widgets/base",
          "model_name": "LayoutModel",
          "model_module_version": "1.2.0",
          "state": {
            "_model_module": "@jupyter-widgets/base",
            "_model_module_version": "1.2.0",
            "_model_name": "LayoutModel",
            "_view_count": null,
            "_view_module": "@jupyter-widgets/base",
            "_view_module_version": "1.2.0",
            "_view_name": "LayoutView",
            "align_content": null,
            "align_items": null,
            "align_self": null,
            "border": null,
            "bottom": null,
            "display": null,
            "flex": null,
            "flex_flow": null,
            "grid_area": null,
            "grid_auto_columns": null,
            "grid_auto_flow": null,
            "grid_auto_rows": null,
            "grid_column": null,
            "grid_gap": null,
            "grid_row": null,
            "grid_template_areas": null,
            "grid_template_columns": null,
            "grid_template_rows": null,
            "height": null,
            "justify_content": null,
            "justify_items": null,
            "left": null,
            "margin": null,
            "max_height": null,
            "max_width": null,
            "min_height": null,
            "min_width": null,
            "object_fit": null,
            "object_position": null,
            "order": null,
            "overflow": null,
            "overflow_x": null,
            "overflow_y": null,
            "padding": null,
            "right": null,
            "top": null,
            "visibility": null,
            "width": null
          }
        },
        "1ccae368e1b843b6816e8c1ebac76e70": {
          "model_module": "@jupyter-widgets/controls",
          "model_name": "ProgressStyleModel",
          "model_module_version": "1.5.0",
          "state": {
            "_model_module": "@jupyter-widgets/controls",
            "_model_module_version": "1.5.0",
            "_model_name": "ProgressStyleModel",
            "_view_count": null,
            "_view_module": "@jupyter-widgets/base",
            "_view_module_version": "1.2.0",
            "_view_name": "StyleView",
            "bar_color": null,
            "description_width": ""
          }
        },
        "9b178eb1f3c64710994097c5c7c73735": {
          "model_module": "@jupyter-widgets/base",
          "model_name": "LayoutModel",
          "model_module_version": "1.2.0",
          "state": {
            "_model_module": "@jupyter-widgets/base",
            "_model_module_version": "1.2.0",
            "_model_name": "LayoutModel",
            "_view_count": null,
            "_view_module": "@jupyter-widgets/base",
            "_view_module_version": "1.2.0",
            "_view_name": "LayoutView",
            "align_content": null,
            "align_items": null,
            "align_self": null,
            "border": null,
            "bottom": null,
            "display": null,
            "flex": null,
            "flex_flow": null,
            "grid_area": null,
            "grid_auto_columns": null,
            "grid_auto_flow": null,
            "grid_auto_rows": null,
            "grid_column": null,
            "grid_gap": null,
            "grid_row": null,
            "grid_template_areas": null,
            "grid_template_columns": null,
            "grid_template_rows": null,
            "height": null,
            "justify_content": null,
            "justify_items": null,
            "left": null,
            "margin": null,
            "max_height": null,
            "max_width": null,
            "min_height": null,
            "min_width": null,
            "object_fit": null,
            "object_position": null,
            "order": null,
            "overflow": null,
            "overflow_x": null,
            "overflow_y": null,
            "padding": null,
            "right": null,
            "top": null,
            "visibility": null,
            "width": null
          }
        },
        "28a79ee35a7945779fa8d43ea94590e2": {
          "model_module": "@jupyter-widgets/controls",
          "model_name": "DescriptionStyleModel",
          "model_module_version": "1.5.0",
          "state": {
            "_model_module": "@jupyter-widgets/controls",
            "_model_module_version": "1.5.0",
            "_model_name": "DescriptionStyleModel",
            "_view_count": null,
            "_view_module": "@jupyter-widgets/base",
            "_view_module_version": "1.2.0",
            "_view_name": "StyleView",
            "description_width": ""
          }
        },
        "263e3c9d02fa4fa8900673ea79c9ec98": {
          "model_module": "@jupyter-widgets/controls",
          "model_name": "HBoxModel",
          "model_module_version": "1.5.0",
          "state": {
            "_dom_classes": [],
            "_model_module": "@jupyter-widgets/controls",
            "_model_module_version": "1.5.0",
            "_model_name": "HBoxModel",
            "_view_count": null,
            "_view_module": "@jupyter-widgets/controls",
            "_view_module_version": "1.5.0",
            "_view_name": "HBoxView",
            "box_style": "",
            "children": [
              "IPY_MODEL_8cf7c9cbef2f4fdaac28c6f6cae5bd1b",
              "IPY_MODEL_283bde26de3f44eaa66d591fb94c599a",
              "IPY_MODEL_ee432034989e4be4a9b2f2f91a8a46fa"
            ],
            "layout": "IPY_MODEL_62e40adcd73d4877bd7481ca66e03b26"
          }
        },
        "8cf7c9cbef2f4fdaac28c6f6cae5bd1b": {
          "model_module": "@jupyter-widgets/controls",
          "model_name": "HTMLModel",
          "model_module_version": "1.5.0",
          "state": {
            "_dom_classes": [],
            "_model_module": "@jupyter-widgets/controls",
            "_model_module_version": "1.5.0",
            "_model_name": "HTMLModel",
            "_view_count": null,
            "_view_module": "@jupyter-widgets/controls",
            "_view_module_version": "1.5.0",
            "_view_name": "HTMLView",
            "description": "",
            "description_tooltip": null,
            "layout": "IPY_MODEL_ca89a5863ef149eeb7004c429ec319aa",
            "placeholder": "​",
            "style": "IPY_MODEL_f3a69aacfcac4d168586a070a6ce7f30",
            "value": ""
          }
        },
        "283bde26de3f44eaa66d591fb94c599a": {
          "model_module": "@jupyter-widgets/controls",
          "model_name": "FloatProgressModel",
          "model_module_version": "1.5.0",
          "state": {
            "_dom_classes": [],
            "_model_module": "@jupyter-widgets/controls",
            "_model_module_version": "1.5.0",
            "_model_name": "FloatProgressModel",
            "_view_count": null,
            "_view_module": "@jupyter-widgets/controls",
            "_view_module_version": "1.5.0",
            "_view_name": "ProgressView",
            "bar_style": "success",
            "description": "",
            "description_tooltip": null,
            "layout": "IPY_MODEL_df069db8d5304f96810cd9da86c577c0",
            "max": 4542,
            "min": 0,
            "orientation": "horizontal",
            "style": "IPY_MODEL_5c30344adfb54601a5d4c31ccf6365ca",
            "value": 4542
          }
        },
        "ee432034989e4be4a9b2f2f91a8a46fa": {
          "model_module": "@jupyter-widgets/controls",
          "model_name": "HTMLModel",
          "model_module_version": "1.5.0",
          "state": {
            "_dom_classes": [],
            "_model_module": "@jupyter-widgets/controls",
            "_model_module_version": "1.5.0",
            "_model_name": "HTMLModel",
            "_view_count": null,
            "_view_module": "@jupyter-widgets/controls",
            "_view_module_version": "1.5.0",
            "_view_name": "HTMLView",
            "description": "",
            "description_tooltip": null,
            "layout": "IPY_MODEL_493591af9d524604b88123b139c79551",
            "placeholder": "​",
            "style": "IPY_MODEL_aeda21681f5b4abdacd383fcc894679a",
            "value": " 5120/? [00:00&lt;00:00, 142633.08it/s]"
          }
        },
        "62e40adcd73d4877bd7481ca66e03b26": {
          "model_module": "@jupyter-widgets/base",
          "model_name": "LayoutModel",
          "model_module_version": "1.2.0",
          "state": {
            "_model_module": "@jupyter-widgets/base",
            "_model_module_version": "1.2.0",
            "_model_name": "LayoutModel",
            "_view_count": null,
            "_view_module": "@jupyter-widgets/base",
            "_view_module_version": "1.2.0",
            "_view_name": "LayoutView",
            "align_content": null,
            "align_items": null,
            "align_self": null,
            "border": null,
            "bottom": null,
            "display": null,
            "flex": null,
            "flex_flow": null,
            "grid_area": null,
            "grid_auto_columns": null,
            "grid_auto_flow": null,
            "grid_auto_rows": null,
            "grid_column": null,
            "grid_gap": null,
            "grid_row": null,
            "grid_template_areas": null,
            "grid_template_columns": null,
            "grid_template_rows": null,
            "height": null,
            "justify_content": null,
            "justify_items": null,
            "left": null,
            "margin": null,
            "max_height": null,
            "max_width": null,
            "min_height": null,
            "min_width": null,
            "object_fit": null,
            "object_position": null,
            "order": null,
            "overflow": null,
            "overflow_x": null,
            "overflow_y": null,
            "padding": null,
            "right": null,
            "top": null,
            "visibility": null,
            "width": null
          }
        },
        "ca89a5863ef149eeb7004c429ec319aa": {
          "model_module": "@jupyter-widgets/base",
          "model_name": "LayoutModel",
          "model_module_version": "1.2.0",
          "state": {
            "_model_module": "@jupyter-widgets/base",
            "_model_module_version": "1.2.0",
            "_model_name": "LayoutModel",
            "_view_count": null,
            "_view_module": "@jupyter-widgets/base",
            "_view_module_version": "1.2.0",
            "_view_name": "LayoutView",
            "align_content": null,
            "align_items": null,
            "align_self": null,
            "border": null,
            "bottom": null,
            "display": null,
            "flex": null,
            "flex_flow": null,
            "grid_area": null,
            "grid_auto_columns": null,
            "grid_auto_flow": null,
            "grid_auto_rows": null,
            "grid_column": null,
            "grid_gap": null,
            "grid_row": null,
            "grid_template_areas": null,
            "grid_template_columns": null,
            "grid_template_rows": null,
            "height": null,
            "justify_content": null,
            "justify_items": null,
            "left": null,
            "margin": null,
            "max_height": null,
            "max_width": null,
            "min_height": null,
            "min_width": null,
            "object_fit": null,
            "object_position": null,
            "order": null,
            "overflow": null,
            "overflow_x": null,
            "overflow_y": null,
            "padding": null,
            "right": null,
            "top": null,
            "visibility": null,
            "width": null
          }
        },
        "f3a69aacfcac4d168586a070a6ce7f30": {
          "model_module": "@jupyter-widgets/controls",
          "model_name": "DescriptionStyleModel",
          "model_module_version": "1.5.0",
          "state": {
            "_model_module": "@jupyter-widgets/controls",
            "_model_module_version": "1.5.0",
            "_model_name": "DescriptionStyleModel",
            "_view_count": null,
            "_view_module": "@jupyter-widgets/base",
            "_view_module_version": "1.2.0",
            "_view_name": "StyleView",
            "description_width": ""
          }
        },
        "df069db8d5304f96810cd9da86c577c0": {
          "model_module": "@jupyter-widgets/base",
          "model_name": "LayoutModel",
          "model_module_version": "1.2.0",
          "state": {
            "_model_module": "@jupyter-widgets/base",
            "_model_module_version": "1.2.0",
            "_model_name": "LayoutModel",
            "_view_count": null,
            "_view_module": "@jupyter-widgets/base",
            "_view_module_version": "1.2.0",
            "_view_name": "LayoutView",
            "align_content": null,
            "align_items": null,
            "align_self": null,
            "border": null,
            "bottom": null,
            "display": null,
            "flex": null,
            "flex_flow": null,
            "grid_area": null,
            "grid_auto_columns": null,
            "grid_auto_flow": null,
            "grid_auto_rows": null,
            "grid_column": null,
            "grid_gap": null,
            "grid_row": null,
            "grid_template_areas": null,
            "grid_template_columns": null,
            "grid_template_rows": null,
            "height": null,
            "justify_content": null,
            "justify_items": null,
            "left": null,
            "margin": null,
            "max_height": null,
            "max_width": null,
            "min_height": null,
            "min_width": null,
            "object_fit": null,
            "object_position": null,
            "order": null,
            "overflow": null,
            "overflow_x": null,
            "overflow_y": null,
            "padding": null,
            "right": null,
            "top": null,
            "visibility": null,
            "width": null
          }
        },
        "5c30344adfb54601a5d4c31ccf6365ca": {
          "model_module": "@jupyter-widgets/controls",
          "model_name": "ProgressStyleModel",
          "model_module_version": "1.5.0",
          "state": {
            "_model_module": "@jupyter-widgets/controls",
            "_model_module_version": "1.5.0",
            "_model_name": "ProgressStyleModel",
            "_view_count": null,
            "_view_module": "@jupyter-widgets/base",
            "_view_module_version": "1.2.0",
            "_view_name": "StyleView",
            "bar_color": null,
            "description_width": ""
          }
        },
        "493591af9d524604b88123b139c79551": {
          "model_module": "@jupyter-widgets/base",
          "model_name": "LayoutModel",
          "model_module_version": "1.2.0",
          "state": {
            "_model_module": "@jupyter-widgets/base",
            "_model_module_version": "1.2.0",
            "_model_name": "LayoutModel",
            "_view_count": null,
            "_view_module": "@jupyter-widgets/base",
            "_view_module_version": "1.2.0",
            "_view_name": "LayoutView",
            "align_content": null,
            "align_items": null,
            "align_self": null,
            "border": null,
            "bottom": null,
            "display": null,
            "flex": null,
            "flex_flow": null,
            "grid_area": null,
            "grid_auto_columns": null,
            "grid_auto_flow": null,
            "grid_auto_rows": null,
            "grid_column": null,
            "grid_gap": null,
            "grid_row": null,
            "grid_template_areas": null,
            "grid_template_columns": null,
            "grid_template_rows": null,
            "height": null,
            "justify_content": null,
            "justify_items": null,
            "left": null,
            "margin": null,
            "max_height": null,
            "max_width": null,
            "min_height": null,
            "min_width": null,
            "object_fit": null,
            "object_position": null,
            "order": null,
            "overflow": null,
            "overflow_x": null,
            "overflow_y": null,
            "padding": null,
            "right": null,
            "top": null,
            "visibility": null,
            "width": null
          }
        },
        "aeda21681f5b4abdacd383fcc894679a": {
          "model_module": "@jupyter-widgets/controls",
          "model_name": "DescriptionStyleModel",
          "model_module_version": "1.5.0",
          "state": {
            "_model_module": "@jupyter-widgets/controls",
            "_model_module_version": "1.5.0",
            "_model_name": "DescriptionStyleModel",
            "_view_count": null,
            "_view_module": "@jupyter-widgets/base",
            "_view_module_version": "1.2.0",
            "_view_name": "StyleView",
            "description_width": ""
          }
        }
      }
    }
  },
  "cells": [
    {
      "cell_type": "markdown",
      "metadata": {
        "id": "view-in-github",
        "colab_type": "text"
      },
      "source": [
        "<a href=\"https://colab.research.google.com/github/PhamDucThinh1995/MNIST_GAN/blob/main/MNIST_GAN.ipynb\" target=\"_parent\"><img src=\"https://colab.research.google.com/assets/colab-badge.svg\" alt=\"Open In Colab\"/></a>"
      ]
    },
    {
      "cell_type": "markdown",
      "source": [
        "In practice, however, the minimax game would often lead to the network not converging, so it is important to carefully tune the training process. Hyperparameters such as learning rates are significantly more important in training a GAN — small changes may lead to GANs generating a single output regardless of the input noises"
      ],
      "metadata": {
        "id": "o64CPx5TbTfr"
      }
    },
    {
      "cell_type": "code",
      "execution_count": 1,
      "metadata": {
        "id": "M8wFN9lJaaB1"
      },
      "outputs": [],
      "source": [
        "\"\"\"\n",
        "Import necessary libraries to create a generative adversarial network\n",
        "The code is mainly developed using the PyTorch library\n",
        "\"\"\"\n",
        "import time\n",
        "import torch\n",
        "import torch.nn as nn\n",
        "import torch.optim as optim\n",
        "import numpy as np\n",
        "import matplotlib.pyplot as plt\n",
        "import torchvision.transforms.functional as VisionF\n",
        "from tqdm import tqdm\n",
        "from torch.utils.data import DataLoader\n",
        "from torchvision import datasets\n",
        "from torchvision.transforms import transforms\n",
        "from torchvision.utils import make_grid"
      ]
    },
    {
      "cell_type": "code",
      "source": [
        "\"\"\"\n",
        "Network Architectures\n",
        "The following are the discriminator and generator architectures\n",
        "\"\"\"\n",
        "\n",
        "class discriminator(nn.Module):\n",
        "    def __init__(self):\n",
        "        super(discriminator, self).__init__()\n",
        "        self.fc1 = nn.Linear(784, 512)\n",
        "        self.fc2 = nn.Linear(512, 1)\n",
        "        self.activation = nn.LeakyReLU(0.1)\n",
        "\n",
        "    def forward(self, x):\n",
        "        x = x.view(-1, 784)\n",
        "        x = self.activation(self.fc1(x))\n",
        "        x = self.fc2(x)\n",
        "        return nn.Sigmoid()(x)\n",
        "\n",
        "\n",
        "class generator(nn.Module):\n",
        "    def __init__(self):\n",
        "        super(generator, self).__init__()\n",
        "        self.fc1 = nn.Linear(128, 1024)\n",
        "        self.fc2 = nn.Linear(1024, 2048)\n",
        "        self.fc3 = nn.Linear(2048, 784)\n",
        "        self.activation = nn.ReLU()\n",
        "\n",
        "    def forward(self, x):\n",
        "        x = self.activation(self.fc1(x))\n",
        "        x = self.activation(self.fc2(x))\n",
        "        x = self.fc3(x)\n",
        "        x = x.view(-1, 1, 28, 28)\n",
        "        return nn.Tanh()(x)"
      ],
      "metadata": {
        "id": "y4p_5WBrbubd"
      },
      "execution_count": 2,
      "outputs": []
    },
    {
      "cell_type": "code",
      "source": [
        "\"\"\"\n",
        "Determine if any GPUs are available\n",
        "\"\"\"\n",
        "device = torch.device('cuda' if torch.cuda.is_available() else 'cpu')\n",
        "device"
      ],
      "metadata": {
        "colab": {
          "base_uri": "https://localhost:8080/"
        },
        "id": "QIGd_p7RbYuk",
        "outputId": "528d747d-42d1-4590-9a81-fba670637f0c"
      },
      "execution_count": 3,
      "outputs": [
        {
          "output_type": "execute_result",
          "data": {
            "text/plain": [
              "device(type='cuda')"
            ]
          },
          "metadata": {},
          "execution_count": 3
        }
      ]
    },
    {
      "cell_type": "code",
      "source": [
        "\"\"\"\n",
        "Hyperparameter settings\n",
        "\"\"\"\n",
        "epochs = 150\n",
        "lr = 2e-4\n",
        "batch_size = 64\n",
        "loss = nn.BCELoss()"
      ],
      "metadata": {
        "id": "BJj0dibkbzHu"
      },
      "execution_count": 4,
      "outputs": []
    },
    {
      "cell_type": "code",
      "source": [
        "# Model\n",
        "G = generator().to(device)\n",
        "D = discriminator().to(device)\n",
        "\n",
        "G_optimizer = optim.Adam(G.parameters(), lr=lr, betas=(0.5, 0.999))\n",
        "D_optimizer = optim.Adam(D.parameters(), lr=lr, betas=(0.5, 0.999))"
      ],
      "metadata": {
        "id": "Bik49lljeAls"
      },
      "execution_count": 5,
      "outputs": []
    },
    {
      "cell_type": "code",
      "source": [
        "# for i in D.parameters():\n",
        "#   print(i)"
      ],
      "metadata": {
        "id": "-A9uSazneA6j"
      },
      "execution_count": 6,
      "outputs": []
    },
    {
      "cell_type": "code",
      "source": [
        "\"\"\"\n",
        "Image transformation and dataloader creation\n",
        "Note that we are training generation and not classification, and hence\n",
        "only the train_loader is loaded\n",
        "\"\"\"\n",
        "# Transform\n",
        "transform = transforms.Compose([transforms.ToTensor(),\n",
        "                                transforms.Normalize((0.5,), (0.5,))])\n",
        "# Load data\n",
        "train_set = datasets.MNIST('mnist/', train=True, download=True, transform=transform)\n",
        "train_loader = DataLoader(train_set, batch_size=batch_size, shuffle=True)"
      ],
      "metadata": {
        "colab": {
          "base_uri": "https://localhost:8080/",
          "height": 423,
          "referenced_widgets": [
            "8ef3a5cbd086437e8fe7d4e1c78ea066",
            "acf3cc4ff2864f70b9c12120e86a4cc8",
            "941e87c46cbc439b851641742943ea0c",
            "be2406f7377b4b84b85ab2e1b02b7a8b",
            "a42dc8b9368d47e5828a2727d7d14cfa",
            "cec612e83dce43de97c6e756acd0155e",
            "9e11f7f5119549a588756734677cae8a",
            "f433f8eedcaa4a39ade1c720514b31c2",
            "6e1807161d1c4dd8b073483325153397",
            "a503740c19f046359ed697f69a33cb7f",
            "ad7d12cccb3e4abfbf23f231f70f0722",
            "570eefab4b714bec8412aa842987b60e",
            "8cb7f8fac0bc4638a67a8aa7f73ba6b8",
            "f49b7e91cfea4667b84db6a058ac5f65",
            "531d6fbbeca34c5a91f4b2f8267a212c",
            "1a04be6f555049e88304c0983ddfcfac",
            "76f4739eeab24c60ad5799dec06c0988",
            "632a5009302a444c8cff92816c08c1c1",
            "20eaea3152f842e789dd445a1a3cb1c5",
            "2df6f704f3a7471ca2961aaf785bf43b",
            "8fa8dfb7beb64da7a40a0d4a57b5d1a5",
            "07c4d93f255348638ea7e2f7bf818458",
            "784d5dfd36ed4b4c86194410e3693321",
            "7a532a4e53c343fd9c59ef5b92d0c716",
            "81db968b97514ef5a2fb93ad2ab5f24a",
            "290b5ad74b8e42fb9174ad8b446f91d6",
            "7518ce6adb334187bcc830736bc51065",
            "34095fb216fb40848af4ecbf6ffa9830",
            "7379611c8fb34c048b767a324c73b213",
            "e55f59962da34bdc9edc40462017d5cb",
            "1ccae368e1b843b6816e8c1ebac76e70",
            "9b178eb1f3c64710994097c5c7c73735",
            "28a79ee35a7945779fa8d43ea94590e2",
            "263e3c9d02fa4fa8900673ea79c9ec98",
            "8cf7c9cbef2f4fdaac28c6f6cae5bd1b",
            "283bde26de3f44eaa66d591fb94c599a",
            "ee432034989e4be4a9b2f2f91a8a46fa",
            "62e40adcd73d4877bd7481ca66e03b26",
            "ca89a5863ef149eeb7004c429ec319aa",
            "f3a69aacfcac4d168586a070a6ce7f30",
            "df069db8d5304f96810cd9da86c577c0",
            "5c30344adfb54601a5d4c31ccf6365ca",
            "493591af9d524604b88123b139c79551",
            "aeda21681f5b4abdacd383fcc894679a"
          ]
        },
        "id": "ujyE1QoKeR9h",
        "outputId": "b1d10d23-1f59-40bf-979c-1250e517fa64"
      },
      "execution_count": 7,
      "outputs": [
        {
          "output_type": "stream",
          "name": "stdout",
          "text": [
            "Downloading http://yann.lecun.com/exdb/mnist/train-images-idx3-ubyte.gz\n",
            "Downloading http://yann.lecun.com/exdb/mnist/train-images-idx3-ubyte.gz to mnist/MNIST/raw/train-images-idx3-ubyte.gz\n"
          ]
        },
        {
          "output_type": "display_data",
          "data": {
            "text/plain": [
              "  0%|          | 0/9912422 [00:00<?, ?it/s]"
            ],
            "application/vnd.jupyter.widget-view+json": {
              "version_major": 2,
              "version_minor": 0,
              "model_id": "8ef3a5cbd086437e8fe7d4e1c78ea066"
            }
          },
          "metadata": {}
        },
        {
          "output_type": "stream",
          "name": "stdout",
          "text": [
            "Extracting mnist/MNIST/raw/train-images-idx3-ubyte.gz to mnist/MNIST/raw\n",
            "\n",
            "Downloading http://yann.lecun.com/exdb/mnist/train-labels-idx1-ubyte.gz\n",
            "Downloading http://yann.lecun.com/exdb/mnist/train-labels-idx1-ubyte.gz to mnist/MNIST/raw/train-labels-idx1-ubyte.gz\n"
          ]
        },
        {
          "output_type": "display_data",
          "data": {
            "text/plain": [
              "  0%|          | 0/28881 [00:00<?, ?it/s]"
            ],
            "application/vnd.jupyter.widget-view+json": {
              "version_major": 2,
              "version_minor": 0,
              "model_id": "570eefab4b714bec8412aa842987b60e"
            }
          },
          "metadata": {}
        },
        {
          "output_type": "stream",
          "name": "stdout",
          "text": [
            "Extracting mnist/MNIST/raw/train-labels-idx1-ubyte.gz to mnist/MNIST/raw\n",
            "\n",
            "Downloading http://yann.lecun.com/exdb/mnist/t10k-images-idx3-ubyte.gz\n",
            "Downloading http://yann.lecun.com/exdb/mnist/t10k-images-idx3-ubyte.gz to mnist/MNIST/raw/t10k-images-idx3-ubyte.gz\n"
          ]
        },
        {
          "output_type": "display_data",
          "data": {
            "text/plain": [
              "  0%|          | 0/1648877 [00:00<?, ?it/s]"
            ],
            "application/vnd.jupyter.widget-view+json": {
              "version_major": 2,
              "version_minor": 0,
              "model_id": "784d5dfd36ed4b4c86194410e3693321"
            }
          },
          "metadata": {}
        },
        {
          "output_type": "stream",
          "name": "stdout",
          "text": [
            "Extracting mnist/MNIST/raw/t10k-images-idx3-ubyte.gz to mnist/MNIST/raw\n",
            "\n",
            "Downloading http://yann.lecun.com/exdb/mnist/t10k-labels-idx1-ubyte.gz\n",
            "Downloading http://yann.lecun.com/exdb/mnist/t10k-labels-idx1-ubyte.gz to mnist/MNIST/raw/t10k-labels-idx1-ubyte.gz\n"
          ]
        },
        {
          "output_type": "display_data",
          "data": {
            "text/plain": [
              "  0%|          | 0/4542 [00:00<?, ?it/s]"
            ],
            "application/vnd.jupyter.widget-view+json": {
              "version_major": 2,
              "version_minor": 0,
              "model_id": "263e3c9d02fa4fa8900673ea79c9ec98"
            }
          },
          "metadata": {}
        },
        {
          "output_type": "stream",
          "name": "stdout",
          "text": [
            "Extracting mnist/MNIST/raw/t10k-labels-idx1-ubyte.gz to mnist/MNIST/raw\n",
            "\n"
          ]
        }
      ]
    },
    {
      "cell_type": "code",
      "source": [
        "\"\"\"\n",
        "Sketch train set for checking\n",
        "\"\"\"\n",
        "for x, labels in train_loader:\n",
        "    img_grid = make_grid(x, normalize=True)\n",
        "\n",
        "def show(imgs):\n",
        "    if not isinstance(imgs, list):\n",
        "        imgs = [imgs]\n",
        "    fix, axs = plt.subplots(ncols=len(imgs), squeeze=False)\n",
        "    for i, img in enumerate(imgs):\n",
        "        img = img.detach()\n",
        "        img = VisionF.to_pil_image(img)\n",
        "        axs[0, i].imshow(np.asarray(img))\n",
        "        axs[0, i].set(xticklabels=[], yticklabels=[], xticks=[], yticks=[])\n",
        "show(img_grid)"
      ],
      "metadata": {
        "colab": {
          "base_uri": "https://localhost:8080/",
          "height": 203
        },
        "id": "SbzsDkPAijdI",
        "outputId": "035bb130-3086-46dd-c597-8d17a99f6dad"
      },
      "execution_count": 8,
      "outputs": [
        {
          "output_type": "display_data",
          "data": {
            "text/plain": [
              "<Figure size 432x288 with 1 Axes>"
            ],
            "image/png": "[encoded data removed]"
          },
          "metadata": {}
        }
      ]
    },
    {
      "cell_type": "code",
      "source": [
        "x.shape"
      ],
      "metadata": {
        "colab": {
          "base_uri": "https://localhost:8080/"
        },
        "id": "gsOZPlN4jZI3",
        "outputId": "82642db6-ceb0-4ff0-a3c0-e68b5cbeb659"
      },
      "execution_count": 9,
      "outputs": [
        {
          "output_type": "execute_result",
          "data": {
            "text/plain": [
              "torch.Size([32, 1, 28, 28])"
            ]
          },
          "metadata": {},
          "execution_count": 9
        }
      ]
    },
    {
      "cell_type": "code",
      "source": [
        "len(train_loader)"
      ],
      "metadata": {
        "colab": {
          "base_uri": "https://localhost:8080/"
        },
        "id": "m-ULWnMEnrQf",
        "outputId": "df02a5f9-79b5-4673-f94d-d9bd22794beb"
      },
      "execution_count": 10,
      "outputs": [
        {
          "output_type": "execute_result",
          "data": {
            "text/plain": [
              "938"
            ]
          },
          "metadata": {},
          "execution_count": 10
        }
      ]
    },
    {
      "cell_type": "code",
      "source": [
        "\"\"\"\n",
        "Network training procedure\n",
        "Every step both the loss for disciminator and generator is updated\n",
        "Discriminator aims to classify reals and fakes\n",
        "Generator aims to generate images as realistic as possible\n",
        "Run idx to 1000\n",
        "What is the function of \"enumerate\"? https://www.geeksforgeeks.org/enumerate-in-python/\n",
        "\"\"\"\n",
        "for epoch in tqdm(range(epochs)):\n",
        "    for idx, (imgs, _) in enumerate(train_loader):\n",
        "        # print('idxprevious: {}'.format(idx))\n",
        "        idx += 1\n",
        "        # print('idxafter: {}'.format(idx))\n",
        "        # Training the discriminator\n",
        "        # Real inputs are actual images of the MNIST dataset\n",
        "        # Fake inputs are from the generator\n",
        "        # Real inputs should be classified as 1 and fake as 0\n",
        "        real_inputs = imgs.to(device)\n",
        "        # print('realinputs')\n",
        "        # print(real_inputs)\n",
        "        real_outputs = D(real_inputs)\n",
        "        # print('realoutputs')\n",
        "        # print(real_outputs)\n",
        "        real_label = torch.ones(real_inputs.shape[0], 1).to(device)\n",
        "        # print('real_label')\n",
        "        # print(real_label)\n",
        "\n",
        "        noise = (torch.rand(real_inputs.shape[0], 128) - 0.5) / 0.5\n",
        "        noise = noise.to(device)\n",
        "        fake_inputs = G(noise)\n",
        "        # print('fakeinputs')\n",
        "        # print(fake_inputs)\n",
        "        fake_outputs = D(fake_inputs)\n",
        "        # print('fakeoutputs')\n",
        "        # print(fake_outputs)\n",
        "        fake_label = torch.zeros(fake_inputs.shape[0], 1).to(device)\n",
        "        # print('fakelabel')\n",
        "        # print(fake_label)\n",
        "\n",
        "        outputs = torch.cat((real_outputs, fake_outputs), 0)\n",
        "        targets = torch.cat((real_label, fake_label), 0)\n",
        "        # print('real-fake-outputs')\n",
        "        # print(outputs)\n",
        "        # print('real-fake-targets')\n",
        "        # print(targets)\n",
        "\n",
        "        D_loss = loss(outputs, targets)   #Using BCE loss\n",
        "        D_optimizer.zero_grad()\n",
        "        D_loss.backward()\n",
        "        D_optimizer.step()\n",
        "\n",
        "        # Training the generator\n",
        "        # For generator, goal is to make the discriminator believe everything is 1\n",
        "        noise = (torch.rand(real_inputs.shape[0], 128)-0.5)/0.5\n",
        "        noise = noise.to(device)\n",
        "\n",
        "        fake_inputs = G(noise)\n",
        "        fake_outputs = D(fake_inputs)\n",
        "        fake_targets = torch.ones([fake_inputs.shape[0], 1]).to(device)\n",
        "        G_loss = loss(fake_outputs, fake_targets)\n",
        "        G_optimizer.zero_grad()\n",
        "        G_loss.backward()\n",
        "        G_optimizer.step()\n",
        "        # print('Index: {}'.format(idx))\n",
        "        if idx % 100 == 0 or idx == len(train_loader):\n",
        "            print('Epoch {} Iteration {}: discriminator_loss {:.3f} generator_loss {:.3f}'.format(epoch, idx, D_loss.item(), G_loss.item()))\n",
        "\n",
        "    if (epoch+1) % 10 == 0:\n",
        "        torch.save(G, 'Generator_epoch_{}.pth'.format(epoch))\n",
        "        print('Model saved.')"
      ],
      "metadata": {
        "colab": {
          "base_uri": "https://localhost:8080/"
        },
        "id": "XHGmZevVfRPT",
        "outputId": "bc3bca36-bf80-4c9a-c885-faa6e7943ad5"
      },
      "execution_count": 11,
      "outputs": [
        {
          "output_type": "stream",
          "name": "stderr",
          "text": [
            "\r  0%|          | 0/150 [00:00<?, ?it/s]"
          ]
        },
        {
          "output_type": "stream",
          "name": "stdout",
          "text": [
            "Epoch 0 Iteration 100: discriminator_loss 0.629 generator_loss 1.020\n",
            "Epoch 0 Iteration 200: discriminator_loss 0.693 generator_loss 0.724\n",
            "Epoch 0 Iteration 300: discriminator_loss 0.625 generator_loss 0.807\n",
            "Epoch 0 Iteration 400: discriminator_loss 0.598 generator_loss 0.853\n",
            "Epoch 0 Iteration 500: discriminator_loss 0.578 generator_loss 0.861\n",
            "Epoch 0 Iteration 600: discriminator_loss 0.543 generator_loss 0.844\n",
            "Epoch 0 Iteration 700: discriminator_loss 0.613 generator_loss 0.823\n",
            "Epoch 0 Iteration 800: discriminator_loss 0.485 generator_loss 0.920\n",
            "Epoch 0 Iteration 900: discriminator_loss 0.534 generator_loss 0.940\n"
          ]
        },
        {
          "output_type": "stream",
          "name": "stderr",
          "text": [
            "\r  1%|          | 1/150 [00:14<35:17, 14.21s/it]"
          ]
        },
        {
          "output_type": "stream",
          "name": "stdout",
          "text": [
            "Epoch 0 Iteration 938: discriminator_loss 0.474 generator_loss 1.028\n",
            "Epoch 1 Iteration 100: discriminator_loss 0.476 generator_loss 1.083\n",
            "Epoch 1 Iteration 200: discriminator_loss 0.440 generator_loss 1.276\n",
            "Epoch 1 Iteration 300: discriminator_loss 0.369 generator_loss 1.488\n",
            "Epoch 1 Iteration 400: discriminator_loss 0.452 generator_loss 1.375\n",
            "Epoch 1 Iteration 500: discriminator_loss 0.451 generator_loss 1.700\n",
            "Epoch 1 Iteration 600: discriminator_loss 0.408 generator_loss 1.262\n",
            "Epoch 1 Iteration 700: discriminator_loss 0.523 generator_loss 1.222\n",
            "Epoch 1 Iteration 800: discriminator_loss 0.458 generator_loss 1.283\n",
            "Epoch 1 Iteration 900: discriminator_loss 0.498 generator_loss 1.305\n"
          ]
        },
        {
          "output_type": "stream",
          "name": "stderr",
          "text": [
            "\r  1%|▏         | 2/150 [00:28<35:04, 14.22s/it]"
          ]
        },
        {
          "output_type": "stream",
          "name": "stdout",
          "text": [
            "Epoch 1 Iteration 938: discriminator_loss 0.556 generator_loss 1.331\n",
            "Epoch 2 Iteration 100: discriminator_loss 0.454 generator_loss 1.294\n",
            "Epoch 2 Iteration 200: discriminator_loss 0.515 generator_loss 1.399\n",
            "Epoch 2 Iteration 300: discriminator_loss 0.485 generator_loss 1.026\n",
            "Epoch 2 Iteration 400: discriminator_loss 0.582 generator_loss 1.039\n",
            "Epoch 2 Iteration 500: discriminator_loss 0.498 generator_loss 1.252\n",
            "Epoch 2 Iteration 600: discriminator_loss 0.483 generator_loss 1.229\n",
            "Epoch 2 Iteration 700: discriminator_loss 0.491 generator_loss 1.504\n",
            "Epoch 2 Iteration 800: discriminator_loss 0.506 generator_loss 1.389\n",
            "Epoch 2 Iteration 900: discriminator_loss 0.665 generator_loss 1.367\n"
          ]
        },
        {
          "output_type": "stream",
          "name": "stderr",
          "text": [
            "\r  2%|▏         | 3/150 [00:43<35:29, 14.48s/it]"
          ]
        },
        {
          "output_type": "stream",
          "name": "stdout",
          "text": [
            "Epoch 2 Iteration 938: discriminator_loss 0.589 generator_loss 1.084\n",
            "Epoch 3 Iteration 100: discriminator_loss 0.586 generator_loss 1.330\n",
            "Epoch 3 Iteration 200: discriminator_loss 0.497 generator_loss 0.852\n",
            "Epoch 3 Iteration 300: discriminator_loss 0.522 generator_loss 1.169\n",
            "Epoch 3 Iteration 400: discriminator_loss 0.498 generator_loss 1.467\n",
            "Epoch 3 Iteration 500: discriminator_loss 0.592 generator_loss 0.975\n",
            "Epoch 3 Iteration 600: discriminator_loss 0.568 generator_loss 1.365\n",
            "Epoch 3 Iteration 700: discriminator_loss 0.564 generator_loss 1.090\n",
            "Epoch 3 Iteration 800: discriminator_loss 0.601 generator_loss 0.710\n",
            "Epoch 3 Iteration 900: discriminator_loss 0.599 generator_loss 0.971\n"
          ]
        },
        {
          "output_type": "stream",
          "name": "stderr",
          "text": [
            "\r  3%|▎         | 4/150 [00:57<35:00, 14.39s/it]"
          ]
        },
        {
          "output_type": "stream",
          "name": "stdout",
          "text": [
            "Epoch 3 Iteration 938: discriminator_loss 0.485 generator_loss 1.541\n",
            "Epoch 4 Iteration 100: discriminator_loss 0.544 generator_loss 1.138\n",
            "Epoch 4 Iteration 200: discriminator_loss 0.492 generator_loss 1.111\n",
            "Epoch 4 Iteration 300: discriminator_loss 0.467 generator_loss 1.117\n",
            "Epoch 4 Iteration 400: discriminator_loss 0.652 generator_loss 1.018\n",
            "Epoch 4 Iteration 500: discriminator_loss 0.528 generator_loss 1.375\n",
            "Epoch 4 Iteration 600: discriminator_loss 0.576 generator_loss 1.075\n",
            "Epoch 4 Iteration 700: discriminator_loss 0.625 generator_loss 1.309\n",
            "Epoch 4 Iteration 800: discriminator_loss 0.493 generator_loss 1.136\n",
            "Epoch 4 Iteration 900: discriminator_loss 0.553 generator_loss 1.316\n"
          ]
        },
        {
          "output_type": "stream",
          "name": "stderr",
          "text": [
            "\r  3%|▎         | 5/150 [01:11<34:27, 14.26s/it]"
          ]
        },
        {
          "output_type": "stream",
          "name": "stdout",
          "text": [
            "Epoch 4 Iteration 938: discriminator_loss 0.682 generator_loss 0.795\n",
            "Epoch 5 Iteration 100: discriminator_loss 0.497 generator_loss 1.632\n",
            "Epoch 5 Iteration 200: discriminator_loss 0.550 generator_loss 1.553\n",
            "Epoch 5 Iteration 300: discriminator_loss 0.571 generator_loss 1.315\n",
            "Epoch 5 Iteration 400: discriminator_loss 0.609 generator_loss 0.975\n",
            "Epoch 5 Iteration 500: discriminator_loss 0.596 generator_loss 0.826\n",
            "Epoch 5 Iteration 600: discriminator_loss 0.555 generator_loss 1.229\n",
            "Epoch 5 Iteration 700: discriminator_loss 0.677 generator_loss 1.379\n",
            "Epoch 5 Iteration 800: discriminator_loss 0.595 generator_loss 1.119\n",
            "Epoch 5 Iteration 900: discriminator_loss 0.564 generator_loss 1.221\n"
          ]
        },
        {
          "output_type": "stream",
          "name": "stderr",
          "text": [
            "\r  4%|▍         | 6/150 [01:25<34:09, 14.23s/it]"
          ]
        },
        {
          "output_type": "stream",
          "name": "stdout",
          "text": [
            "Epoch 5 Iteration 938: discriminator_loss 0.579 generator_loss 0.856\n",
            "Epoch 6 Iteration 100: discriminator_loss 0.543 generator_loss 0.987\n",
            "Epoch 6 Iteration 200: discriminator_loss 0.538 generator_loss 1.480\n",
            "Epoch 6 Iteration 300: discriminator_loss 0.671 generator_loss 1.373\n",
            "Epoch 6 Iteration 400: discriminator_loss 0.578 generator_loss 1.281\n",
            "Epoch 6 Iteration 500: discriminator_loss 0.600 generator_loss 1.241\n",
            "Epoch 6 Iteration 600: discriminator_loss 0.550 generator_loss 1.269\n",
            "Epoch 6 Iteration 700: discriminator_loss 0.570 generator_loss 1.180\n",
            "Epoch 6 Iteration 800: discriminator_loss 0.622 generator_loss 0.909\n",
            "Epoch 6 Iteration 900: discriminator_loss 0.560 generator_loss 1.093\n"
          ]
        },
        {
          "output_type": "stream",
          "name": "stderr",
          "text": [
            "\r  5%|▍         | 7/150 [01:39<33:46, 14.17s/it]"
          ]
        },
        {
          "output_type": "stream",
          "name": "stdout",
          "text": [
            "Epoch 6 Iteration 938: discriminator_loss 0.582 generator_loss 1.155\n",
            "Epoch 7 Iteration 100: discriminator_loss 0.606 generator_loss 1.050\n",
            "Epoch 7 Iteration 200: discriminator_loss 0.536 generator_loss 1.088\n",
            "Epoch 7 Iteration 300: discriminator_loss 0.590 generator_loss 1.050\n",
            "Epoch 7 Iteration 400: discriminator_loss 0.584 generator_loss 0.914\n",
            "Epoch 7 Iteration 500: discriminator_loss 0.594 generator_loss 0.808\n",
            "Epoch 7 Iteration 600: discriminator_loss 0.616 generator_loss 0.858\n",
            "Epoch 7 Iteration 700: discriminator_loss 0.590 generator_loss 1.174\n",
            "Epoch 7 Iteration 800: discriminator_loss 0.648 generator_loss 0.869\n",
            "Epoch 7 Iteration 900: discriminator_loss 0.575 generator_loss 1.113\n"
          ]
        },
        {
          "output_type": "stream",
          "name": "stderr",
          "text": [
            "\r  5%|▌         | 8/150 [01:53<33:27, 14.13s/it]"
          ]
        },
        {
          "output_type": "stream",
          "name": "stdout",
          "text": [
            "Epoch 7 Iteration 938: discriminator_loss 0.539 generator_loss 1.115\n",
            "Epoch 8 Iteration 100: discriminator_loss 0.620 generator_loss 1.023\n",
            "Epoch 8 Iteration 200: discriminator_loss 0.595 generator_loss 0.925\n",
            "Epoch 8 Iteration 300: discriminator_loss 0.556 generator_loss 1.127\n",
            "Epoch 8 Iteration 400: discriminator_loss 0.613 generator_loss 0.862\n",
            "Epoch 8 Iteration 500: discriminator_loss 0.699 generator_loss 0.609\n",
            "Epoch 8 Iteration 600: discriminator_loss 0.644 generator_loss 0.761\n",
            "Epoch 8 Iteration 700: discriminator_loss 0.686 generator_loss 0.850\n",
            "Epoch 8 Iteration 800: discriminator_loss 0.627 generator_loss 1.097\n",
            "Epoch 8 Iteration 900: discriminator_loss 0.645 generator_loss 0.962\n"
          ]
        },
        {
          "output_type": "stream",
          "name": "stderr",
          "text": [
            "\r  6%|▌         | 9/150 [02:07<33:05, 14.08s/it]"
          ]
        },
        {
          "output_type": "stream",
          "name": "stdout",
          "text": [
            "Epoch 8 Iteration 938: discriminator_loss 0.582 generator_loss 0.926\n",
            "Epoch 9 Iteration 100: discriminator_loss 0.636 generator_loss 0.872\n",
            "Epoch 9 Iteration 200: discriminator_loss 0.733 generator_loss 0.559\n",
            "Epoch 9 Iteration 300: discriminator_loss 0.633 generator_loss 0.987\n",
            "Epoch 9 Iteration 400: discriminator_loss 0.665 generator_loss 0.797\n",
            "Epoch 9 Iteration 500: discriminator_loss 0.648 generator_loss 0.835\n",
            "Epoch 9 Iteration 600: discriminator_loss 0.617 generator_loss 0.865\n",
            "Epoch 9 Iteration 700: discriminator_loss 0.614 generator_loss 1.031\n",
            "Epoch 9 Iteration 800: discriminator_loss 0.660 generator_loss 0.865\n",
            "Epoch 9 Iteration 900: discriminator_loss 0.597 generator_loss 1.096\n"
          ]
        },
        {
          "output_type": "stream",
          "name": "stderr",
          "text": [
            "\r  7%|▋         | 10/150 [02:21<32:51, 14.08s/it]"
          ]
        },
        {
          "output_type": "stream",
          "name": "stdout",
          "text": [
            "Epoch 9 Iteration 938: discriminator_loss 0.641 generator_loss 0.602\n",
            "Model saved.\n",
            "Epoch 10 Iteration 100: discriminator_loss 0.656 generator_loss 1.116\n",
            "Epoch 10 Iteration 200: discriminator_loss 0.603 generator_loss 0.770\n",
            "Epoch 10 Iteration 300: discriminator_loss 0.638 generator_loss 1.127\n",
            "Epoch 10 Iteration 400: discriminator_loss 0.690 generator_loss 0.873\n",
            "Epoch 10 Iteration 500: discriminator_loss 0.622 generator_loss 0.865\n",
            "Epoch 10 Iteration 600: discriminator_loss 0.706 generator_loss 0.945\n",
            "Epoch 10 Iteration 700: discriminator_loss 0.662 generator_loss 0.829\n",
            "Epoch 10 Iteration 800: discriminator_loss 0.637 generator_loss 1.004\n",
            "Epoch 10 Iteration 900: discriminator_loss 0.636 generator_loss 1.035\n"
          ]
        },
        {
          "output_type": "stream",
          "name": "stderr",
          "text": [
            "\r  7%|▋         | 11/150 [02:35<32:31, 14.04s/it]"
          ]
        },
        {
          "output_type": "stream",
          "name": "stdout",
          "text": [
            "Epoch 10 Iteration 938: discriminator_loss 0.659 generator_loss 1.431\n",
            "Epoch 11 Iteration 100: discriminator_loss 0.730 generator_loss 1.427\n",
            "Epoch 11 Iteration 200: discriminator_loss 0.656 generator_loss 1.066\n",
            "Epoch 11 Iteration 300: discriminator_loss 0.628 generator_loss 1.059\n",
            "Epoch 11 Iteration 400: discriminator_loss 0.667 generator_loss 0.968\n",
            "Epoch 11 Iteration 500: discriminator_loss 0.667 generator_loss 1.178\n",
            "Epoch 11 Iteration 600: discriminator_loss 0.690 generator_loss 1.264\n",
            "Epoch 11 Iteration 700: discriminator_loss 0.670 generator_loss 1.154\n",
            "Epoch 11 Iteration 800: discriminator_loss 0.652 generator_loss 0.843\n",
            "Epoch 11 Iteration 900: discriminator_loss 0.661 generator_loss 0.988\n"
          ]
        },
        {
          "output_type": "stream",
          "name": "stderr",
          "text": [
            "\r  8%|▊         | 12/150 [02:49<32:18, 14.05s/it]"
          ]
        },
        {
          "output_type": "stream",
          "name": "stdout",
          "text": [
            "Epoch 11 Iteration 938: discriminator_loss 0.663 generator_loss 0.848\n",
            "Epoch 12 Iteration 100: discriminator_loss 0.653 generator_loss 1.104\n",
            "Epoch 12 Iteration 200: discriminator_loss 0.677 generator_loss 0.743\n",
            "Epoch 12 Iteration 300: discriminator_loss 0.680 generator_loss 0.920\n",
            "Epoch 12 Iteration 400: discriminator_loss 0.644 generator_loss 1.027\n",
            "Epoch 12 Iteration 500: discriminator_loss 0.628 generator_loss 0.868\n",
            "Epoch 12 Iteration 600: discriminator_loss 0.654 generator_loss 0.779\n",
            "Epoch 12 Iteration 700: discriminator_loss 0.683 generator_loss 0.683\n",
            "Epoch 12 Iteration 800: discriminator_loss 0.658 generator_loss 0.759\n",
            "Epoch 12 Iteration 900: discriminator_loss 0.607 generator_loss 0.841\n"
          ]
        },
        {
          "output_type": "stream",
          "name": "stderr",
          "text": [
            "\r  9%|▊         | 13/150 [03:04<32:24, 14.19s/it]"
          ]
        },
        {
          "output_type": "stream",
          "name": "stdout",
          "text": [
            "Epoch 12 Iteration 938: discriminator_loss 0.630 generator_loss 0.665\n",
            "Epoch 13 Iteration 100: discriminator_loss 0.645 generator_loss 0.663\n",
            "Epoch 13 Iteration 200: discriminator_loss 0.650 generator_loss 1.018\n",
            "Epoch 13 Iteration 300: discriminator_loss 0.604 generator_loss 0.886\n",
            "Epoch 13 Iteration 400: discriminator_loss 0.649 generator_loss 0.737\n",
            "Epoch 13 Iteration 500: discriminator_loss 0.679 generator_loss 0.823\n",
            "Epoch 13 Iteration 600: discriminator_loss 0.718 generator_loss 0.554\n",
            "Epoch 13 Iteration 700: discriminator_loss 0.685 generator_loss 1.042\n",
            "Epoch 13 Iteration 800: discriminator_loss 0.622 generator_loss 0.913\n",
            "Epoch 13 Iteration 900: discriminator_loss 0.649 generator_loss 0.591\n"
          ]
        },
        {
          "output_type": "stream",
          "name": "stderr",
          "text": [
            "\r  9%|▉         | 14/150 [03:18<32:06, 14.17s/it]"
          ]
        },
        {
          "output_type": "stream",
          "name": "stdout",
          "text": [
            "Epoch 13 Iteration 938: discriminator_loss 0.698 generator_loss 1.289\n",
            "Epoch 14 Iteration 100: discriminator_loss 0.653 generator_loss 1.246\n",
            "Epoch 14 Iteration 200: discriminator_loss 0.650 generator_loss 0.742\n",
            "Epoch 14 Iteration 300: discriminator_loss 0.682 generator_loss 0.739\n",
            "Epoch 14 Iteration 400: discriminator_loss 0.663 generator_loss 1.123\n",
            "Epoch 14 Iteration 500: discriminator_loss 0.633 generator_loss 0.897\n",
            "Epoch 14 Iteration 600: discriminator_loss 0.620 generator_loss 0.640\n",
            "Epoch 14 Iteration 700: discriminator_loss 0.686 generator_loss 0.830\n",
            "Epoch 14 Iteration 800: discriminator_loss 0.608 generator_loss 0.912\n",
            "Epoch 14 Iteration 900: discriminator_loss 0.726 generator_loss 0.528\n"
          ]
        },
        {
          "output_type": "stream",
          "name": "stderr",
          "text": [
            "\r 10%|█         | 15/150 [03:32<31:48, 14.13s/it]"
          ]
        },
        {
          "output_type": "stream",
          "name": "stdout",
          "text": [
            "Epoch 14 Iteration 938: discriminator_loss 0.659 generator_loss 0.791\n",
            "Epoch 15 Iteration 100: discriminator_loss 0.639 generator_loss 0.917\n",
            "Epoch 15 Iteration 200: discriminator_loss 0.612 generator_loss 0.991\n",
            "Epoch 15 Iteration 300: discriminator_loss 0.679 generator_loss 1.014\n",
            "Epoch 15 Iteration 400: discriminator_loss 0.651 generator_loss 0.800\n",
            "Epoch 15 Iteration 500: discriminator_loss 0.705 generator_loss 0.856\n",
            "Epoch 15 Iteration 600: discriminator_loss 0.660 generator_loss 0.879\n",
            "Epoch 15 Iteration 700: discriminator_loss 0.748 generator_loss 1.479\n",
            "Epoch 15 Iteration 800: discriminator_loss 0.658 generator_loss 0.838\n",
            "Epoch 15 Iteration 900: discriminator_loss 0.653 generator_loss 0.853\n"
          ]
        },
        {
          "output_type": "stream",
          "name": "stderr",
          "text": [
            "\r 11%|█         | 16/150 [03:46<31:26, 14.08s/it]"
          ]
        },
        {
          "output_type": "stream",
          "name": "stdout",
          "text": [
            "Epoch 15 Iteration 938: discriminator_loss 0.674 generator_loss 0.802\n",
            "Epoch 16 Iteration 100: discriminator_loss 0.648 generator_loss 0.895\n",
            "Epoch 16 Iteration 200: discriminator_loss 0.608 generator_loss 1.035\n",
            "Epoch 16 Iteration 300: discriminator_loss 0.680 generator_loss 0.853\n",
            "Epoch 16 Iteration 400: discriminator_loss 0.652 generator_loss 0.946\n",
            "Epoch 16 Iteration 500: discriminator_loss 0.635 generator_loss 0.864\n",
            "Epoch 16 Iteration 600: discriminator_loss 0.665 generator_loss 0.950\n",
            "Epoch 16 Iteration 700: discriminator_loss 0.642 generator_loss 0.865\n",
            "Epoch 16 Iteration 800: discriminator_loss 0.667 generator_loss 0.825\n",
            "Epoch 16 Iteration 900: discriminator_loss 0.725 generator_loss 1.127\n"
          ]
        },
        {
          "output_type": "stream",
          "name": "stderr",
          "text": [
            "\r 11%|█▏        | 17/150 [04:00<31:14, 14.09s/it]"
          ]
        },
        {
          "output_type": "stream",
          "name": "stdout",
          "text": [
            "Epoch 16 Iteration 938: discriminator_loss 0.697 generator_loss 0.873\n",
            "Epoch 17 Iteration 100: discriminator_loss 0.686 generator_loss 0.534\n",
            "Epoch 17 Iteration 200: discriminator_loss 0.649 generator_loss 0.734\n",
            "Epoch 17 Iteration 300: discriminator_loss 0.646 generator_loss 0.579\n",
            "Epoch 17 Iteration 400: discriminator_loss 0.641 generator_loss 0.904\n",
            "Epoch 17 Iteration 500: discriminator_loss 0.644 generator_loss 0.681\n",
            "Epoch 17 Iteration 600: discriminator_loss 0.689 generator_loss 0.515\n",
            "Epoch 17 Iteration 700: discriminator_loss 0.664 generator_loss 1.027\n",
            "Epoch 17 Iteration 800: discriminator_loss 0.679 generator_loss 0.949\n",
            "Epoch 17 Iteration 900: discriminator_loss 0.667 generator_loss 0.703\n"
          ]
        },
        {
          "output_type": "stream",
          "name": "stderr",
          "text": [
            "\r 12%|█▏        | 18/150 [04:14<31:04, 14.12s/it]"
          ]
        },
        {
          "output_type": "stream",
          "name": "stdout",
          "text": [
            "Epoch 17 Iteration 938: discriminator_loss 0.663 generator_loss 0.679\n",
            "Epoch 18 Iteration 100: discriminator_loss 0.688 generator_loss 0.789\n",
            "Epoch 18 Iteration 200: discriminator_loss 0.690 generator_loss 0.820\n",
            "Epoch 18 Iteration 300: discriminator_loss 0.669 generator_loss 0.815\n",
            "Epoch 18 Iteration 400: discriminator_loss 0.725 generator_loss 0.796\n",
            "Epoch 18 Iteration 500: discriminator_loss 0.668 generator_loss 0.743\n",
            "Epoch 18 Iteration 600: discriminator_loss 0.676 generator_loss 0.686\n",
            "Epoch 18 Iteration 700: discriminator_loss 0.660 generator_loss 0.747\n",
            "Epoch 18 Iteration 800: discriminator_loss 0.662 generator_loss 0.774\n",
            "Epoch 18 Iteration 900: discriminator_loss 0.657 generator_loss 0.707\n"
          ]
        },
        {
          "output_type": "stream",
          "name": "stderr",
          "text": [
            "\r 13%|█▎        | 19/150 [04:28<30:50, 14.13s/it]"
          ]
        },
        {
          "output_type": "stream",
          "name": "stdout",
          "text": [
            "Epoch 18 Iteration 938: discriminator_loss 0.650 generator_loss 0.810\n",
            "Epoch 19 Iteration 100: discriminator_loss 0.688 generator_loss 0.869\n",
            "Epoch 19 Iteration 200: discriminator_loss 0.658 generator_loss 0.790\n",
            "Epoch 19 Iteration 300: discriminator_loss 0.681 generator_loss 0.981\n",
            "Epoch 19 Iteration 400: discriminator_loss 0.698 generator_loss 0.663\n",
            "Epoch 19 Iteration 500: discriminator_loss 0.627 generator_loss 0.681\n",
            "Epoch 19 Iteration 600: discriminator_loss 0.677 generator_loss 0.548\n",
            "Epoch 19 Iteration 700: discriminator_loss 0.659 generator_loss 1.059\n",
            "Epoch 19 Iteration 800: discriminator_loss 0.719 generator_loss 0.635\n",
            "Epoch 19 Iteration 900: discriminator_loss 0.669 generator_loss 0.674\n"
          ]
        },
        {
          "output_type": "stream",
          "name": "stderr",
          "text": [
            "\r 13%|█▎        | 20/150 [04:43<30:33, 14.10s/it]"
          ]
        },
        {
          "output_type": "stream",
          "name": "stdout",
          "text": [
            "Epoch 19 Iteration 938: discriminator_loss 0.674 generator_loss 0.882\n",
            "Model saved.\n",
            "Epoch 20 Iteration 100: discriminator_loss 0.667 generator_loss 0.825\n",
            "Epoch 20 Iteration 200: discriminator_loss 0.671 generator_loss 0.811\n",
            "Epoch 20 Iteration 300: discriminator_loss 0.663 generator_loss 0.705\n",
            "Epoch 20 Iteration 400: discriminator_loss 0.665 generator_loss 0.613\n",
            "Epoch 20 Iteration 500: discriminator_loss 0.703 generator_loss 1.166\n",
            "Epoch 20 Iteration 600: discriminator_loss 0.628 generator_loss 0.810\n",
            "Epoch 20 Iteration 700: discriminator_loss 0.674 generator_loss 0.809\n",
            "Epoch 20 Iteration 800: discriminator_loss 0.678 generator_loss 0.714\n",
            "Epoch 20 Iteration 900: discriminator_loss 0.676 generator_loss 0.565\n"
          ]
        },
        {
          "output_type": "stream",
          "name": "stderr",
          "text": [
            "\r 14%|█▍        | 21/150 [04:57<30:21, 14.12s/it]"
          ]
        },
        {
          "output_type": "stream",
          "name": "stdout",
          "text": [
            "Epoch 20 Iteration 938: discriminator_loss 0.635 generator_loss 0.905\n",
            "Epoch 21 Iteration 100: discriminator_loss 0.632 generator_loss 0.766\n",
            "Epoch 21 Iteration 200: discriminator_loss 0.625 generator_loss 0.807\n",
            "Epoch 21 Iteration 300: discriminator_loss 0.664 generator_loss 0.767\n",
            "Epoch 21 Iteration 400: discriminator_loss 0.679 generator_loss 0.850\n",
            "Epoch 21 Iteration 500: discriminator_loss 0.681 generator_loss 0.861\n",
            "Epoch 21 Iteration 600: discriminator_loss 0.710 generator_loss 0.854\n",
            "Epoch 21 Iteration 700: discriminator_loss 0.718 generator_loss 0.834\n",
            "Epoch 21 Iteration 800: discriminator_loss 0.687 generator_loss 0.827\n",
            "Epoch 21 Iteration 900: discriminator_loss 0.678 generator_loss 0.821\n"
          ]
        },
        {
          "output_type": "stream",
          "name": "stderr",
          "text": [
            "\r 15%|█▍        | 22/150 [05:11<30:02, 14.08s/it]"
          ]
        },
        {
          "output_type": "stream",
          "name": "stdout",
          "text": [
            "Epoch 21 Iteration 938: discriminator_loss 0.655 generator_loss 0.859\n",
            "Epoch 22 Iteration 100: discriminator_loss 0.721 generator_loss 1.239\n",
            "Epoch 22 Iteration 200: discriminator_loss 0.662 generator_loss 0.878\n",
            "Epoch 22 Iteration 300: discriminator_loss 0.667 generator_loss 0.833\n",
            "Epoch 22 Iteration 400: discriminator_loss 0.662 generator_loss 0.638\n",
            "Epoch 22 Iteration 500: discriminator_loss 0.694 generator_loss 0.609\n",
            "Epoch 22 Iteration 600: discriminator_loss 0.652 generator_loss 0.829\n",
            "Epoch 22 Iteration 700: discriminator_loss 0.731 generator_loss 0.991\n",
            "Epoch 22 Iteration 800: discriminator_loss 0.681 generator_loss 0.736\n",
            "Epoch 22 Iteration 900: discriminator_loss 0.618 generator_loss 0.961\n"
          ]
        },
        {
          "output_type": "stream",
          "name": "stderr",
          "text": [
            "\r 15%|█▌        | 23/150 [05:25<29:52, 14.12s/it]"
          ]
        },
        {
          "output_type": "stream",
          "name": "stdout",
          "text": [
            "Epoch 22 Iteration 938: discriminator_loss 0.695 generator_loss 1.067\n",
            "Epoch 23 Iteration 100: discriminator_loss 0.673 generator_loss 0.673\n",
            "Epoch 23 Iteration 200: discriminator_loss 0.698 generator_loss 0.648\n",
            "Epoch 23 Iteration 300: discriminator_loss 0.700 generator_loss 0.867\n",
            "Epoch 23 Iteration 400: discriminator_loss 0.662 generator_loss 0.918\n",
            "Epoch 23 Iteration 500: discriminator_loss 0.668 generator_loss 0.829\n",
            "Epoch 23 Iteration 600: discriminator_loss 0.673 generator_loss 0.971\n",
            "Epoch 23 Iteration 700: discriminator_loss 0.664 generator_loss 0.863\n",
            "Epoch 23 Iteration 800: discriminator_loss 0.658 generator_loss 0.972\n",
            "Epoch 23 Iteration 900: discriminator_loss 0.672 generator_loss 0.959\n"
          ]
        },
        {
          "output_type": "stream",
          "name": "stderr",
          "text": [
            "\r 16%|█▌        | 24/150 [05:39<29:57, 14.27s/it]"
          ]
        },
        {
          "output_type": "stream",
          "name": "stdout",
          "text": [
            "Epoch 23 Iteration 938: discriminator_loss 0.690 generator_loss 0.510\n",
            "Epoch 24 Iteration 100: discriminator_loss 0.698 generator_loss 1.119\n",
            "Epoch 24 Iteration 200: discriminator_loss 0.691 generator_loss 0.670\n",
            "Epoch 24 Iteration 300: discriminator_loss 0.628 generator_loss 0.744\n",
            "Epoch 24 Iteration 400: discriminator_loss 0.635 generator_loss 0.998\n",
            "Epoch 24 Iteration 500: discriminator_loss 0.655 generator_loss 0.741\n",
            "Epoch 24 Iteration 600: discriminator_loss 0.684 generator_loss 1.136\n",
            "Epoch 24 Iteration 700: discriminator_loss 0.681 generator_loss 0.957\n",
            "Epoch 24 Iteration 800: discriminator_loss 0.663 generator_loss 0.959\n",
            "Epoch 24 Iteration 900: discriminator_loss 0.643 generator_loss 0.681\n"
          ]
        },
        {
          "output_type": "stream",
          "name": "stderr",
          "text": [
            "\r 17%|█▋        | 25/150 [05:53<29:33, 14.19s/it]"
          ]
        },
        {
          "output_type": "stream",
          "name": "stdout",
          "text": [
            "Epoch 24 Iteration 938: discriminator_loss 0.668 generator_loss 0.574\n",
            "Epoch 25 Iteration 100: discriminator_loss 0.658 generator_loss 0.904\n",
            "Epoch 25 Iteration 200: discriminator_loss 0.688 generator_loss 0.948\n",
            "Epoch 25 Iteration 300: discriminator_loss 0.706 generator_loss 0.828\n",
            "Epoch 25 Iteration 400: discriminator_loss 0.737 generator_loss 1.181\n",
            "Epoch 25 Iteration 500: discriminator_loss 0.683 generator_loss 0.748\n",
            "Epoch 25 Iteration 600: discriminator_loss 0.653 generator_loss 0.800\n",
            "Epoch 25 Iteration 700: discriminator_loss 0.725 generator_loss 0.510\n",
            "Epoch 25 Iteration 800: discriminator_loss 0.655 generator_loss 0.825\n",
            "Epoch 25 Iteration 900: discriminator_loss 0.666 generator_loss 0.610\n"
          ]
        },
        {
          "output_type": "stream",
          "name": "stderr",
          "text": [
            "\r 17%|█▋        | 26/150 [06:08<29:14, 14.15s/it]"
          ]
        },
        {
          "output_type": "stream",
          "name": "stdout",
          "text": [
            "Epoch 25 Iteration 938: discriminator_loss 0.660 generator_loss 0.904\n",
            "Epoch 26 Iteration 100: discriminator_loss 0.687 generator_loss 0.696\n",
            "Epoch 26 Iteration 200: discriminator_loss 0.706 generator_loss 0.535\n",
            "Epoch 26 Iteration 300: discriminator_loss 0.695 generator_loss 0.870\n",
            "Epoch 26 Iteration 400: discriminator_loss 0.695 generator_loss 0.694\n",
            "Epoch 26 Iteration 500: discriminator_loss 0.682 generator_loss 0.637\n",
            "Epoch 26 Iteration 600: discriminator_loss 0.689 generator_loss 1.039\n",
            "Epoch 26 Iteration 700: discriminator_loss 0.667 generator_loss 0.701\n",
            "Epoch 26 Iteration 800: discriminator_loss 0.669 generator_loss 0.980\n",
            "Epoch 26 Iteration 900: discriminator_loss 0.696 generator_loss 0.972\n"
          ]
        },
        {
          "output_type": "stream",
          "name": "stderr",
          "text": [
            "\r 18%|█▊        | 27/150 [06:22<28:57, 14.12s/it]"
          ]
        },
        {
          "output_type": "stream",
          "name": "stdout",
          "text": [
            "Epoch 26 Iteration 938: discriminator_loss 0.675 generator_loss 0.739\n",
            "Epoch 27 Iteration 100: discriminator_loss 0.667 generator_loss 1.004\n",
            "Epoch 27 Iteration 200: discriminator_loss 0.694 generator_loss 1.161\n",
            "Epoch 27 Iteration 300: discriminator_loss 0.666 generator_loss 0.741\n",
            "Epoch 27 Iteration 400: discriminator_loss 0.663 generator_loss 0.837\n",
            "Epoch 27 Iteration 500: discriminator_loss 0.719 generator_loss 1.199\n",
            "Epoch 27 Iteration 600: discriminator_loss 0.655 generator_loss 0.754\n",
            "Epoch 27 Iteration 700: discriminator_loss 0.655 generator_loss 0.770\n",
            "Epoch 27 Iteration 800: discriminator_loss 0.711 generator_loss 1.002\n",
            "Epoch 27 Iteration 900: discriminator_loss 0.693 generator_loss 0.695\n"
          ]
        },
        {
          "output_type": "stream",
          "name": "stderr",
          "text": [
            "\r 19%|█▊        | 28/150 [06:36<28:42, 14.12s/it]"
          ]
        },
        {
          "output_type": "stream",
          "name": "stdout",
          "text": [
            "Epoch 27 Iteration 938: discriminator_loss 0.705 generator_loss 0.636\n",
            "Epoch 28 Iteration 100: discriminator_loss 0.664 generator_loss 0.784\n",
            "Epoch 28 Iteration 200: discriminator_loss 0.665 generator_loss 0.798\n",
            "Epoch 28 Iteration 300: discriminator_loss 0.699 generator_loss 0.952\n",
            "Epoch 28 Iteration 400: discriminator_loss 0.659 generator_loss 0.781\n",
            "Epoch 28 Iteration 500: discriminator_loss 0.678 generator_loss 0.823\n",
            "Epoch 28 Iteration 600: discriminator_loss 0.658 generator_loss 0.833\n",
            "Epoch 28 Iteration 700: discriminator_loss 0.648 generator_loss 0.854\n",
            "Epoch 28 Iteration 800: discriminator_loss 0.692 generator_loss 0.555\n",
            "Epoch 28 Iteration 900: discriminator_loss 0.649 generator_loss 0.820\n"
          ]
        },
        {
          "output_type": "stream",
          "name": "stderr",
          "text": [
            "\r 19%|█▉        | 29/150 [06:50<28:25, 14.10s/it]"
          ]
        },
        {
          "output_type": "stream",
          "name": "stdout",
          "text": [
            "Epoch 28 Iteration 938: discriminator_loss 0.662 generator_loss 0.934\n",
            "Epoch 29 Iteration 100: discriminator_loss 0.660 generator_loss 0.637\n",
            "Epoch 29 Iteration 200: discriminator_loss 0.656 generator_loss 0.721\n",
            "Epoch 29 Iteration 300: discriminator_loss 0.681 generator_loss 0.619\n",
            "Epoch 29 Iteration 400: discriminator_loss 0.670 generator_loss 0.768\n",
            "Epoch 29 Iteration 500: discriminator_loss 0.701 generator_loss 0.793\n",
            "Epoch 29 Iteration 600: discriminator_loss 0.664 generator_loss 0.796\n",
            "Epoch 29 Iteration 700: discriminator_loss 0.660 generator_loss 0.683\n",
            "Epoch 29 Iteration 800: discriminator_loss 0.649 generator_loss 0.870\n",
            "Epoch 29 Iteration 900: discriminator_loss 0.670 generator_loss 0.728\n"
          ]
        },
        {
          "output_type": "stream",
          "name": "stderr",
          "text": [
            "\r 20%|██        | 30/150 [07:04<28:15, 14.13s/it]"
          ]
        },
        {
          "output_type": "stream",
          "name": "stdout",
          "text": [
            "Epoch 29 Iteration 938: discriminator_loss 0.676 generator_loss 0.942\n",
            "Model saved.\n",
            "Epoch 30 Iteration 100: discriminator_loss 0.669 generator_loss 0.836\n",
            "Epoch 30 Iteration 200: discriminator_loss 0.672 generator_loss 0.744\n",
            "Epoch 30 Iteration 300: discriminator_loss 0.691 generator_loss 0.721\n",
            "Epoch 30 Iteration 400: discriminator_loss 0.630 generator_loss 0.819\n",
            "Epoch 30 Iteration 500: discriminator_loss 0.683 generator_loss 0.858\n",
            "Epoch 30 Iteration 600: discriminator_loss 0.683 generator_loss 0.804\n",
            "Epoch 30 Iteration 700: discriminator_loss 0.669 generator_loss 0.920\n",
            "Epoch 30 Iteration 800: discriminator_loss 0.692 generator_loss 0.746\n",
            "Epoch 30 Iteration 900: discriminator_loss 0.687 generator_loss 0.836\n"
          ]
        },
        {
          "output_type": "stream",
          "name": "stderr",
          "text": [
            "\r 21%|██        | 31/150 [07:18<28:01, 14.13s/it]"
          ]
        },
        {
          "output_type": "stream",
          "name": "stdout",
          "text": [
            "Epoch 30 Iteration 938: discriminator_loss 0.684 generator_loss 1.011\n",
            "Epoch 31 Iteration 100: discriminator_loss 0.676 generator_loss 0.729\n",
            "Epoch 31 Iteration 200: discriminator_loss 0.669 generator_loss 0.773\n",
            "Epoch 31 Iteration 300: discriminator_loss 0.681 generator_loss 0.779\n",
            "Epoch 31 Iteration 400: discriminator_loss 0.684 generator_loss 0.844\n",
            "Epoch 31 Iteration 500: discriminator_loss 0.652 generator_loss 0.739\n",
            "Epoch 31 Iteration 600: discriminator_loss 0.677 generator_loss 1.009\n",
            "Epoch 31 Iteration 700: discriminator_loss 0.659 generator_loss 0.731\n",
            "Epoch 31 Iteration 800: discriminator_loss 0.658 generator_loss 0.610\n",
            "Epoch 31 Iteration 900: discriminator_loss 0.690 generator_loss 0.596\n"
          ]
        },
        {
          "output_type": "stream",
          "name": "stderr",
          "text": [
            "\r 21%|██▏       | 32/150 [07:32<27:48, 14.14s/it]"
          ]
        },
        {
          "output_type": "stream",
          "name": "stdout",
          "text": [
            "Epoch 31 Iteration 938: discriminator_loss 0.695 generator_loss 1.131\n",
            "Epoch 32 Iteration 100: discriminator_loss 0.674 generator_loss 0.807\n",
            "Epoch 32 Iteration 200: discriminator_loss 0.663 generator_loss 0.860\n",
            "Epoch 32 Iteration 300: discriminator_loss 0.653 generator_loss 0.768\n",
            "Epoch 32 Iteration 400: discriminator_loss 0.687 generator_loss 0.686\n",
            "Epoch 32 Iteration 500: discriminator_loss 0.674 generator_loss 0.633\n",
            "Epoch 32 Iteration 600: discriminator_loss 0.679 generator_loss 0.685\n",
            "Epoch 32 Iteration 700: discriminator_loss 0.670 generator_loss 0.885\n",
            "Epoch 32 Iteration 800: discriminator_loss 0.642 generator_loss 0.838\n",
            "Epoch 32 Iteration 900: discriminator_loss 0.676 generator_loss 0.714\n"
          ]
        },
        {
          "output_type": "stream",
          "name": "stderr",
          "text": [
            "\r 22%|██▏       | 33/150 [07:46<27:31, 14.12s/it]"
          ]
        },
        {
          "output_type": "stream",
          "name": "stdout",
          "text": [
            "Epoch 32 Iteration 938: discriminator_loss 0.712 generator_loss 0.654\n",
            "Epoch 33 Iteration 100: discriminator_loss 0.683 generator_loss 0.707\n",
            "Epoch 33 Iteration 200: discriminator_loss 0.690 generator_loss 0.809\n",
            "Epoch 33 Iteration 300: discriminator_loss 0.632 generator_loss 0.744\n",
            "Epoch 33 Iteration 400: discriminator_loss 0.699 generator_loss 0.578\n",
            "Epoch 33 Iteration 500: discriminator_loss 0.680 generator_loss 0.806\n",
            "Epoch 33 Iteration 600: discriminator_loss 0.716 generator_loss 0.621\n",
            "Epoch 33 Iteration 700: discriminator_loss 0.665 generator_loss 0.604\n",
            "Epoch 33 Iteration 800: discriminator_loss 0.668 generator_loss 0.904\n",
            "Epoch 33 Iteration 900: discriminator_loss 0.698 generator_loss 0.780\n"
          ]
        },
        {
          "output_type": "stream",
          "name": "stderr",
          "text": [
            "\r 23%|██▎       | 34/150 [08:00<27:18, 14.13s/it]"
          ]
        },
        {
          "output_type": "stream",
          "name": "stdout",
          "text": [
            "Epoch 33 Iteration 938: discriminator_loss 0.679 generator_loss 0.798\n",
            "Epoch 34 Iteration 100: discriminator_loss 0.652 generator_loss 0.768\n",
            "Epoch 34 Iteration 200: discriminator_loss 0.678 generator_loss 0.751\n",
            "Epoch 34 Iteration 300: discriminator_loss 0.719 generator_loss 1.160\n",
            "Epoch 34 Iteration 400: discriminator_loss 0.659 generator_loss 0.779\n",
            "Epoch 34 Iteration 500: discriminator_loss 0.693 generator_loss 0.952\n",
            "Epoch 34 Iteration 600: discriminator_loss 0.696 generator_loss 0.836\n",
            "Epoch 34 Iteration 700: discriminator_loss 0.662 generator_loss 0.811\n",
            "Epoch 34 Iteration 800: discriminator_loss 0.714 generator_loss 0.622\n",
            "Epoch 34 Iteration 900: discriminator_loss 0.678 generator_loss 0.900\n"
          ]
        },
        {
          "output_type": "stream",
          "name": "stderr",
          "text": [
            "\r 23%|██▎       | 35/150 [08:15<27:05, 14.14s/it]"
          ]
        },
        {
          "output_type": "stream",
          "name": "stdout",
          "text": [
            "Epoch 34 Iteration 938: discriminator_loss 0.714 generator_loss 0.656\n",
            "Epoch 35 Iteration 100: discriminator_loss 0.646 generator_loss 0.766\n",
            "Epoch 35 Iteration 200: discriminator_loss 0.655 generator_loss 0.614\n",
            "Epoch 35 Iteration 300: discriminator_loss 0.649 generator_loss 0.798\n",
            "Epoch 35 Iteration 400: discriminator_loss 0.679 generator_loss 0.728\n",
            "Epoch 35 Iteration 500: discriminator_loss 0.713 generator_loss 1.047\n",
            "Epoch 35 Iteration 600: discriminator_loss 0.696 generator_loss 0.709\n",
            "Epoch 35 Iteration 700: discriminator_loss 0.639 generator_loss 0.681\n",
            "Epoch 35 Iteration 800: discriminator_loss 0.672 generator_loss 0.879\n",
            "Epoch 35 Iteration 900: discriminator_loss 0.731 generator_loss 0.457\n"
          ]
        },
        {
          "output_type": "stream",
          "name": "stderr",
          "text": [
            "\r 24%|██▍       | 36/150 [08:29<26:51, 14.14s/it]"
          ]
        },
        {
          "output_type": "stream",
          "name": "stdout",
          "text": [
            "Epoch 35 Iteration 938: discriminator_loss 0.645 generator_loss 1.056\n",
            "Epoch 36 Iteration 100: discriminator_loss 0.666 generator_loss 0.637\n",
            "Epoch 36 Iteration 200: discriminator_loss 0.708 generator_loss 0.969\n",
            "Epoch 36 Iteration 300: discriminator_loss 0.687 generator_loss 0.741\n",
            "Epoch 36 Iteration 400: discriminator_loss 0.684 generator_loss 1.007\n",
            "Epoch 36 Iteration 500: discriminator_loss 0.646 generator_loss 0.826\n",
            "Epoch 36 Iteration 600: discriminator_loss 0.662 generator_loss 0.622\n",
            "Epoch 36 Iteration 700: discriminator_loss 0.651 generator_loss 0.847\n",
            "Epoch 36 Iteration 800: discriminator_loss 0.699 generator_loss 0.672\n",
            "Epoch 36 Iteration 900: discriminator_loss 0.683 generator_loss 0.700\n"
          ]
        },
        {
          "output_type": "stream",
          "name": "stderr",
          "text": [
            "\r 25%|██▍       | 37/150 [08:43<26:31, 14.09s/it]"
          ]
        },
        {
          "output_type": "stream",
          "name": "stdout",
          "text": [
            "Epoch 36 Iteration 938: discriminator_loss 0.661 generator_loss 0.819\n",
            "Epoch 37 Iteration 100: discriminator_loss 0.680 generator_loss 0.840\n",
            "Epoch 37 Iteration 200: discriminator_loss 0.667 generator_loss 0.816\n",
            "Epoch 37 Iteration 300: discriminator_loss 0.669 generator_loss 0.949\n",
            "Epoch 37 Iteration 400: discriminator_loss 0.676 generator_loss 0.831\n",
            "Epoch 37 Iteration 500: discriminator_loss 0.668 generator_loss 0.920\n",
            "Epoch 37 Iteration 600: discriminator_loss 0.693 generator_loss 0.817\n",
            "Epoch 37 Iteration 700: discriminator_loss 0.645 generator_loss 0.868\n",
            "Epoch 37 Iteration 800: discriminator_loss 0.667 generator_loss 0.972\n",
            "Epoch 37 Iteration 900: discriminator_loss 0.678 generator_loss 0.838\n"
          ]
        },
        {
          "output_type": "stream",
          "name": "stderr",
          "text": [
            "\r 25%|██▌       | 38/150 [08:57<26:15, 14.07s/it]"
          ]
        },
        {
          "output_type": "stream",
          "name": "stdout",
          "text": [
            "Epoch 37 Iteration 938: discriminator_loss 0.682 generator_loss 0.698\n",
            "Epoch 38 Iteration 100: discriminator_loss 0.667 generator_loss 0.712\n",
            "Epoch 38 Iteration 200: discriminator_loss 0.691 generator_loss 0.649\n",
            "Epoch 38 Iteration 300: discriminator_loss 0.681 generator_loss 0.823\n",
            "Epoch 38 Iteration 400: discriminator_loss 0.681 generator_loss 0.912\n",
            "Epoch 38 Iteration 500: discriminator_loss 0.699 generator_loss 0.973\n",
            "Epoch 38 Iteration 600: discriminator_loss 0.665 generator_loss 0.809\n",
            "Epoch 38 Iteration 700: discriminator_loss 0.655 generator_loss 0.840\n",
            "Epoch 38 Iteration 800: discriminator_loss 0.671 generator_loss 0.887\n",
            "Epoch 38 Iteration 900: discriminator_loss 0.662 generator_loss 1.034\n"
          ]
        },
        {
          "output_type": "stream",
          "name": "stderr",
          "text": [
            "\r 26%|██▌       | 39/150 [09:11<25:57, 14.04s/it]"
          ]
        },
        {
          "output_type": "stream",
          "name": "stdout",
          "text": [
            "Epoch 38 Iteration 938: discriminator_loss 0.702 generator_loss 0.871\n",
            "Epoch 39 Iteration 100: discriminator_loss 0.690 generator_loss 0.714\n",
            "Epoch 39 Iteration 200: discriminator_loss 0.658 generator_loss 0.734\n",
            "Epoch 39 Iteration 300: discriminator_loss 0.696 generator_loss 0.584\n",
            "Epoch 39 Iteration 400: discriminator_loss 0.639 generator_loss 0.832\n",
            "Epoch 39 Iteration 500: discriminator_loss 0.675 generator_loss 0.774\n",
            "Epoch 39 Iteration 600: discriminator_loss 0.696 generator_loss 0.763\n",
            "Epoch 39 Iteration 700: discriminator_loss 0.716 generator_loss 0.776\n",
            "Epoch 39 Iteration 800: discriminator_loss 0.671 generator_loss 0.985\n",
            "Epoch 39 Iteration 900: discriminator_loss 0.683 generator_loss 0.832\n"
          ]
        },
        {
          "output_type": "stream",
          "name": "stderr",
          "text": [
            "\r 27%|██▋       | 40/150 [09:25<25:47, 14.06s/it]"
          ]
        },
        {
          "output_type": "stream",
          "name": "stdout",
          "text": [
            "Epoch 39 Iteration 938: discriminator_loss 0.706 generator_loss 0.601\n",
            "Model saved.\n",
            "Epoch 40 Iteration 100: discriminator_loss 0.681 generator_loss 0.741\n",
            "Epoch 40 Iteration 200: discriminator_loss 0.655 generator_loss 0.937\n",
            "Epoch 40 Iteration 300: discriminator_loss 0.678 generator_loss 0.908\n",
            "Epoch 40 Iteration 400: discriminator_loss 0.671 generator_loss 0.679\n",
            "Epoch 40 Iteration 500: discriminator_loss 0.650 generator_loss 1.029\n",
            "Epoch 40 Iteration 600: discriminator_loss 0.647 generator_loss 0.899\n",
            "Epoch 40 Iteration 700: discriminator_loss 0.671 generator_loss 0.735\n",
            "Epoch 40 Iteration 800: discriminator_loss 0.683 generator_loss 0.782\n",
            "Epoch 40 Iteration 900: discriminator_loss 0.684 generator_loss 0.794\n"
          ]
        },
        {
          "output_type": "stream",
          "name": "stderr",
          "text": [
            "\r 27%|██▋       | 41/150 [09:39<25:31, 14.05s/it]"
          ]
        },
        {
          "output_type": "stream",
          "name": "stdout",
          "text": [
            "Epoch 40 Iteration 938: discriminator_loss 0.643 generator_loss 0.943\n",
            "Epoch 41 Iteration 100: discriminator_loss 0.683 generator_loss 0.753\n",
            "Epoch 41 Iteration 200: discriminator_loss 0.671 generator_loss 0.719\n",
            "Epoch 41 Iteration 300: discriminator_loss 0.682 generator_loss 0.776\n",
            "Epoch 41 Iteration 400: discriminator_loss 0.721 generator_loss 0.748\n",
            "Epoch 41 Iteration 500: discriminator_loss 0.694 generator_loss 0.819\n",
            "Epoch 41 Iteration 600: discriminator_loss 0.703 generator_loss 0.574\n",
            "Epoch 41 Iteration 700: discriminator_loss 0.669 generator_loss 0.728\n",
            "Epoch 41 Iteration 800: discriminator_loss 0.669 generator_loss 0.711\n",
            "Epoch 41 Iteration 900: discriminator_loss 0.674 generator_loss 0.689\n"
          ]
        },
        {
          "output_type": "stream",
          "name": "stderr",
          "text": [
            "\r 28%|██▊       | 42/150 [09:53<25:14, 14.03s/it]"
          ]
        },
        {
          "output_type": "stream",
          "name": "stdout",
          "text": [
            "Epoch 41 Iteration 938: discriminator_loss 0.664 generator_loss 0.835\n",
            "Epoch 42 Iteration 100: discriminator_loss 0.744 generator_loss 0.587\n",
            "Epoch 42 Iteration 200: discriminator_loss 0.670 generator_loss 0.830\n",
            "Epoch 42 Iteration 300: discriminator_loss 0.696 generator_loss 0.927\n",
            "Epoch 42 Iteration 400: discriminator_loss 0.647 generator_loss 0.935\n",
            "Epoch 42 Iteration 500: discriminator_loss 0.673 generator_loss 0.786\n",
            "Epoch 42 Iteration 600: discriminator_loss 0.666 generator_loss 0.750\n",
            "Epoch 42 Iteration 700: discriminator_loss 0.662 generator_loss 0.771\n",
            "Epoch 42 Iteration 800: discriminator_loss 0.699 generator_loss 0.821\n",
            "Epoch 42 Iteration 900: discriminator_loss 0.649 generator_loss 0.990\n"
          ]
        },
        {
          "output_type": "stream",
          "name": "stderr",
          "text": [
            "\r 29%|██▊       | 43/150 [10:07<25:02, 14.05s/it]"
          ]
        },
        {
          "output_type": "stream",
          "name": "stdout",
          "text": [
            "Epoch 42 Iteration 938: discriminator_loss 0.713 generator_loss 0.739\n",
            "Epoch 43 Iteration 100: discriminator_loss 0.681 generator_loss 0.771\n",
            "Epoch 43 Iteration 200: discriminator_loss 0.658 generator_loss 0.876\n",
            "Epoch 43 Iteration 300: discriminator_loss 0.679 generator_loss 0.760\n",
            "Epoch 43 Iteration 400: discriminator_loss 0.689 generator_loss 1.052\n",
            "Epoch 43 Iteration 500: discriminator_loss 0.720 generator_loss 0.865\n",
            "Epoch 43 Iteration 600: discriminator_loss 0.681 generator_loss 0.861\n",
            "Epoch 43 Iteration 700: discriminator_loss 0.672 generator_loss 0.690\n",
            "Epoch 43 Iteration 800: discriminator_loss 0.673 generator_loss 0.728\n",
            "Epoch 43 Iteration 900: discriminator_loss 0.674 generator_loss 1.033\n"
          ]
        },
        {
          "output_type": "stream",
          "name": "stderr",
          "text": [
            "\r 29%|██▉       | 44/150 [10:24<26:26, 14.97s/it]"
          ]
        },
        {
          "output_type": "stream",
          "name": "stdout",
          "text": [
            "Epoch 43 Iteration 938: discriminator_loss 0.654 generator_loss 0.703\n",
            "Epoch 44 Iteration 100: discriminator_loss 0.680 generator_loss 0.720\n",
            "Epoch 44 Iteration 200: discriminator_loss 0.646 generator_loss 0.666\n",
            "Epoch 44 Iteration 300: discriminator_loss 0.669 generator_loss 0.883\n",
            "Epoch 44 Iteration 400: discriminator_loss 0.651 generator_loss 0.850\n",
            "Epoch 44 Iteration 500: discriminator_loss 0.698 generator_loss 0.875\n",
            "Epoch 44 Iteration 600: discriminator_loss 0.659 generator_loss 0.658\n",
            "Epoch 44 Iteration 700: discriminator_loss 0.674 generator_loss 0.758\n",
            "Epoch 44 Iteration 800: discriminator_loss 0.700 generator_loss 0.700\n",
            "Epoch 44 Iteration 900: discriminator_loss 0.660 generator_loss 0.789\n"
          ]
        },
        {
          "output_type": "stream",
          "name": "stderr",
          "text": [
            "\r 30%|███       | 45/150 [10:38<25:40, 14.67s/it]"
          ]
        },
        {
          "output_type": "stream",
          "name": "stdout",
          "text": [
            "Epoch 44 Iteration 938: discriminator_loss 0.660 generator_loss 0.738\n",
            "Epoch 45 Iteration 100: discriminator_loss 0.682 generator_loss 0.773\n",
            "Epoch 45 Iteration 200: discriminator_loss 0.660 generator_loss 0.959\n",
            "Epoch 45 Iteration 300: discriminator_loss 0.687 generator_loss 0.701\n",
            "Epoch 45 Iteration 400: discriminator_loss 0.661 generator_loss 0.819\n",
            "Epoch 45 Iteration 500: discriminator_loss 0.711 generator_loss 1.024\n",
            "Epoch 45 Iteration 600: discriminator_loss 0.673 generator_loss 0.717\n",
            "Epoch 45 Iteration 700: discriminator_loss 0.678 generator_loss 0.744\n",
            "Epoch 45 Iteration 800: discriminator_loss 0.665 generator_loss 0.655\n",
            "Epoch 45 Iteration 900: discriminator_loss 0.672 generator_loss 0.917\n"
          ]
        },
        {
          "output_type": "stream",
          "name": "stderr",
          "text": [
            "\r 31%|███       | 46/150 [10:53<25:21, 14.63s/it]"
          ]
        },
        {
          "output_type": "stream",
          "name": "stdout",
          "text": [
            "Epoch 45 Iteration 938: discriminator_loss 0.693 generator_loss 0.749\n",
            "Epoch 46 Iteration 100: discriminator_loss 0.670 generator_loss 0.745\n",
            "Epoch 46 Iteration 200: discriminator_loss 0.674 generator_loss 0.675\n",
            "Epoch 46 Iteration 300: discriminator_loss 0.652 generator_loss 0.990\n",
            "Epoch 46 Iteration 400: discriminator_loss 0.682 generator_loss 0.818\n",
            "Epoch 46 Iteration 500: discriminator_loss 0.683 generator_loss 0.755\n",
            "Epoch 46 Iteration 600: discriminator_loss 0.661 generator_loss 0.730\n",
            "Epoch 46 Iteration 700: discriminator_loss 0.674 generator_loss 0.573\n",
            "Epoch 46 Iteration 800: discriminator_loss 0.702 generator_loss 0.726\n",
            "Epoch 46 Iteration 900: discriminator_loss 0.676 generator_loss 0.894\n"
          ]
        },
        {
          "output_type": "stream",
          "name": "stderr",
          "text": [
            "\r 31%|███▏      | 47/150 [11:06<24:45, 14.42s/it]"
          ]
        },
        {
          "output_type": "stream",
          "name": "stdout",
          "text": [
            "Epoch 46 Iteration 938: discriminator_loss 0.712 generator_loss 0.749\n",
            "Epoch 47 Iteration 100: discriminator_loss 0.656 generator_loss 0.872\n",
            "Epoch 47 Iteration 200: discriminator_loss 0.677 generator_loss 0.797\n",
            "Epoch 47 Iteration 300: discriminator_loss 0.690 generator_loss 0.863\n",
            "Epoch 47 Iteration 400: discriminator_loss 0.696 generator_loss 0.630\n",
            "Epoch 47 Iteration 500: discriminator_loss 0.642 generator_loss 0.676\n",
            "Epoch 47 Iteration 600: discriminator_loss 0.680 generator_loss 0.785\n",
            "Epoch 47 Iteration 700: discriminator_loss 0.705 generator_loss 0.773\n",
            "Epoch 47 Iteration 800: discriminator_loss 0.665 generator_loss 0.802\n",
            "Epoch 47 Iteration 900: discriminator_loss 0.698 generator_loss 0.574\n"
          ]
        },
        {
          "output_type": "stream",
          "name": "stderr",
          "text": [
            "\r 32%|███▏      | 48/150 [11:21<24:30, 14.41s/it]"
          ]
        },
        {
          "output_type": "stream",
          "name": "stdout",
          "text": [
            "Epoch 47 Iteration 938: discriminator_loss 0.701 generator_loss 0.884\n",
            "Epoch 48 Iteration 100: discriminator_loss 0.649 generator_loss 0.704\n",
            "Epoch 48 Iteration 200: discriminator_loss 0.664 generator_loss 0.798\n",
            "Epoch 48 Iteration 300: discriminator_loss 0.682 generator_loss 1.103\n",
            "Epoch 48 Iteration 400: discriminator_loss 0.698 generator_loss 0.824\n",
            "Epoch 48 Iteration 500: discriminator_loss 0.633 generator_loss 0.596\n",
            "Epoch 48 Iteration 600: discriminator_loss 0.687 generator_loss 0.609\n",
            "Epoch 48 Iteration 700: discriminator_loss 0.685 generator_loss 0.687\n",
            "Epoch 48 Iteration 800: discriminator_loss 0.682 generator_loss 0.864\n",
            "Epoch 48 Iteration 900: discriminator_loss 0.645 generator_loss 0.809\n"
          ]
        },
        {
          "output_type": "stream",
          "name": "stderr",
          "text": [
            "\r 33%|███▎      | 49/150 [11:35<24:04, 14.30s/it]"
          ]
        },
        {
          "output_type": "stream",
          "name": "stdout",
          "text": [
            "Epoch 48 Iteration 938: discriminator_loss 0.626 generator_loss 0.994\n",
            "Epoch 49 Iteration 100: discriminator_loss 0.688 generator_loss 0.799\n",
            "Epoch 49 Iteration 200: discriminator_loss 0.642 generator_loss 0.801\n",
            "Epoch 49 Iteration 300: discriminator_loss 0.707 generator_loss 0.630\n",
            "Epoch 49 Iteration 400: discriminator_loss 0.718 generator_loss 0.955\n",
            "Epoch 49 Iteration 500: discriminator_loss 0.646 generator_loss 0.729\n",
            "Epoch 49 Iteration 600: discriminator_loss 0.695 generator_loss 0.808\n",
            "Epoch 49 Iteration 700: discriminator_loss 0.674 generator_loss 0.875\n",
            "Epoch 49 Iteration 800: discriminator_loss 0.658 generator_loss 0.691\n",
            "Epoch 49 Iteration 900: discriminator_loss 0.680 generator_loss 0.694\n"
          ]
        },
        {
          "output_type": "stream",
          "name": "stderr",
          "text": [
            "\r 33%|███▎      | 50/150 [11:49<23:41, 14.22s/it]"
          ]
        },
        {
          "output_type": "stream",
          "name": "stdout",
          "text": [
            "Epoch 49 Iteration 938: discriminator_loss 0.662 generator_loss 0.806\n",
            "Model saved.\n",
            "Epoch 50 Iteration 100: discriminator_loss 0.664 generator_loss 0.684\n",
            "Epoch 50 Iteration 200: discriminator_loss 0.699 generator_loss 0.718\n",
            "Epoch 50 Iteration 300: discriminator_loss 0.678 generator_loss 0.806\n",
            "Epoch 50 Iteration 400: discriminator_loss 0.684 generator_loss 0.855\n",
            "Epoch 50 Iteration 500: discriminator_loss 0.691 generator_loss 0.751\n",
            "Epoch 50 Iteration 600: discriminator_loss 0.683 generator_loss 0.802\n",
            "Epoch 50 Iteration 700: discriminator_loss 0.706 generator_loss 0.546\n",
            "Epoch 50 Iteration 800: discriminator_loss 0.651 generator_loss 0.682\n",
            "Epoch 50 Iteration 900: discriminator_loss 0.684 generator_loss 0.805\n"
          ]
        },
        {
          "output_type": "stream",
          "name": "stderr",
          "text": [
            "\r 34%|███▍      | 51/150 [12:03<23:17, 14.11s/it]"
          ]
        },
        {
          "output_type": "stream",
          "name": "stdout",
          "text": [
            "Epoch 50 Iteration 938: discriminator_loss 0.728 generator_loss 0.947\n",
            "Epoch 51 Iteration 100: discriminator_loss 0.702 generator_loss 0.659\n",
            "Epoch 51 Iteration 200: discriminator_loss 0.659 generator_loss 0.724\n",
            "Epoch 51 Iteration 300: discriminator_loss 0.680 generator_loss 0.685\n",
            "Epoch 51 Iteration 400: discriminator_loss 0.678 generator_loss 0.710\n",
            "Epoch 51 Iteration 500: discriminator_loss 0.676 generator_loss 0.798\n",
            "Epoch 51 Iteration 600: discriminator_loss 0.663 generator_loss 0.769\n",
            "Epoch 51 Iteration 700: discriminator_loss 0.683 generator_loss 0.856\n",
            "Epoch 51 Iteration 800: discriminator_loss 0.703 generator_loss 0.785\n",
            "Epoch 51 Iteration 900: discriminator_loss 0.688 generator_loss 0.668\n"
          ]
        },
        {
          "output_type": "stream",
          "name": "stderr",
          "text": [
            "\r 35%|███▍      | 52/150 [12:17<22:57, 14.05s/it]"
          ]
        },
        {
          "output_type": "stream",
          "name": "stdout",
          "text": [
            "Epoch 51 Iteration 938: discriminator_loss 0.726 generator_loss 0.831\n",
            "Epoch 52 Iteration 100: discriminator_loss 0.689 generator_loss 0.698\n",
            "Epoch 52 Iteration 200: discriminator_loss 0.687 generator_loss 0.732\n",
            "Epoch 52 Iteration 300: discriminator_loss 0.700 generator_loss 0.487\n",
            "Epoch 52 Iteration 400: discriminator_loss 0.696 generator_loss 0.747\n",
            "Epoch 52 Iteration 500: discriminator_loss 0.650 generator_loss 0.720\n",
            "Epoch 52 Iteration 600: discriminator_loss 0.682 generator_loss 1.089\n",
            "Epoch 52 Iteration 700: discriminator_loss 0.647 generator_loss 0.754\n",
            "Epoch 52 Iteration 800: discriminator_loss 0.676 generator_loss 0.766\n",
            "Epoch 52 Iteration 900: discriminator_loss 0.664 generator_loss 0.808\n"
          ]
        },
        {
          "output_type": "stream",
          "name": "stderr",
          "text": [
            "\r 35%|███▌      | 53/150 [12:31<22:39, 14.02s/it]"
          ]
        },
        {
          "output_type": "stream",
          "name": "stdout",
          "text": [
            "Epoch 52 Iteration 938: discriminator_loss 0.633 generator_loss 0.643\n",
            "Epoch 53 Iteration 100: discriminator_loss 0.685 generator_loss 0.915\n",
            "Epoch 53 Iteration 200: discriminator_loss 0.699 generator_loss 0.901\n",
            "Epoch 53 Iteration 300: discriminator_loss 0.668 generator_loss 0.766\n",
            "Epoch 53 Iteration 400: discriminator_loss 0.656 generator_loss 0.802\n",
            "Epoch 53 Iteration 500: discriminator_loss 0.646 generator_loss 0.790\n",
            "Epoch 53 Iteration 600: discriminator_loss 0.672 generator_loss 0.663\n",
            "Epoch 53 Iteration 700: discriminator_loss 0.702 generator_loss 0.656\n",
            "Epoch 53 Iteration 800: discriminator_loss 0.662 generator_loss 0.761\n",
            "Epoch 53 Iteration 900: discriminator_loss 0.668 generator_loss 0.802\n"
          ]
        },
        {
          "output_type": "stream",
          "name": "stderr",
          "text": [
            "\r 36%|███▌      | 54/150 [12:45<22:26, 14.02s/it]"
          ]
        },
        {
          "output_type": "stream",
          "name": "stdout",
          "text": [
            "Epoch 53 Iteration 938: discriminator_loss 0.690 generator_loss 0.796\n",
            "Epoch 54 Iteration 100: discriminator_loss 0.660 generator_loss 0.862\n",
            "Epoch 54 Iteration 200: discriminator_loss 0.655 generator_loss 0.769\n",
            "Epoch 54 Iteration 300: discriminator_loss 0.685 generator_loss 0.749\n",
            "Epoch 54 Iteration 400: discriminator_loss 0.680 generator_loss 0.778\n",
            "Epoch 54 Iteration 500: discriminator_loss 0.664 generator_loss 0.951\n",
            "Epoch 54 Iteration 600: discriminator_loss 0.709 generator_loss 0.920\n",
            "Epoch 54 Iteration 700: discriminator_loss 0.708 generator_loss 0.710\n",
            "Epoch 54 Iteration 800: discriminator_loss 0.645 generator_loss 0.847\n",
            "Epoch 54 Iteration 900: discriminator_loss 0.674 generator_loss 0.711\n"
          ]
        },
        {
          "output_type": "stream",
          "name": "stderr",
          "text": [
            "\r 37%|███▋      | 55/150 [12:59<22:14, 14.05s/it]"
          ]
        },
        {
          "output_type": "stream",
          "name": "stdout",
          "text": [
            "Epoch 54 Iteration 938: discriminator_loss 0.693 generator_loss 0.819\n",
            "Epoch 55 Iteration 100: discriminator_loss 0.665 generator_loss 0.651\n",
            "Epoch 55 Iteration 200: discriminator_loss 0.708 generator_loss 0.736\n",
            "Epoch 55 Iteration 300: discriminator_loss 0.695 generator_loss 0.561\n",
            "Epoch 55 Iteration 400: discriminator_loss 0.676 generator_loss 0.761\n",
            "Epoch 55 Iteration 500: discriminator_loss 0.686 generator_loss 0.817\n",
            "Epoch 55 Iteration 600: discriminator_loss 0.677 generator_loss 0.859\n",
            "Epoch 55 Iteration 700: discriminator_loss 0.700 generator_loss 0.789\n",
            "Epoch 55 Iteration 800: discriminator_loss 0.669 generator_loss 0.860\n",
            "Epoch 55 Iteration 900: discriminator_loss 0.717 generator_loss 0.670\n"
          ]
        },
        {
          "output_type": "stream",
          "name": "stderr",
          "text": [
            "\r 37%|███▋      | 56/150 [13:13<22:03, 14.08s/it]"
          ]
        },
        {
          "output_type": "stream",
          "name": "stdout",
          "text": [
            "Epoch 55 Iteration 938: discriminator_loss 0.702 generator_loss 0.643\n",
            "Epoch 56 Iteration 100: discriminator_loss 0.652 generator_loss 0.900\n",
            "Epoch 56 Iteration 200: discriminator_loss 0.673 generator_loss 0.879\n",
            "Epoch 56 Iteration 300: discriminator_loss 0.683 generator_loss 0.883\n",
            "Epoch 56 Iteration 400: discriminator_loss 0.690 generator_loss 0.872\n",
            "Epoch 56 Iteration 500: discriminator_loss 0.693 generator_loss 0.805\n",
            "Epoch 56 Iteration 600: discriminator_loss 0.667 generator_loss 0.800\n",
            "Epoch 56 Iteration 700: discriminator_loss 0.669 generator_loss 0.937\n",
            "Epoch 56 Iteration 800: discriminator_loss 0.705 generator_loss 0.607\n",
            "Epoch 56 Iteration 900: discriminator_loss 0.687 generator_loss 0.671\n"
          ]
        },
        {
          "output_type": "stream",
          "name": "stderr",
          "text": [
            "\r 38%|███▊      | 57/150 [13:27<21:48, 14.07s/it]"
          ]
        },
        {
          "output_type": "stream",
          "name": "stdout",
          "text": [
            "Epoch 56 Iteration 938: discriminator_loss 0.642 generator_loss 0.743\n",
            "Epoch 57 Iteration 100: discriminator_loss 0.689 generator_loss 1.012\n",
            "Epoch 57 Iteration 200: discriminator_loss 0.700 generator_loss 0.739\n",
            "Epoch 57 Iteration 300: discriminator_loss 0.646 generator_loss 0.755\n",
            "Epoch 57 Iteration 400: discriminator_loss 0.669 generator_loss 0.776\n",
            "Epoch 57 Iteration 500: discriminator_loss 0.678 generator_loss 0.785\n",
            "Epoch 57 Iteration 600: discriminator_loss 0.676 generator_loss 0.867\n",
            "Epoch 57 Iteration 700: discriminator_loss 0.682 generator_loss 0.727\n",
            "Epoch 57 Iteration 800: discriminator_loss 0.703 generator_loss 0.982\n",
            "Epoch 57 Iteration 900: discriminator_loss 0.703 generator_loss 0.685\n"
          ]
        },
        {
          "output_type": "stream",
          "name": "stderr",
          "text": [
            "\r 39%|███▊      | 58/150 [13:41<21:30, 14.03s/it]"
          ]
        },
        {
          "output_type": "stream",
          "name": "stdout",
          "text": [
            "Epoch 57 Iteration 938: discriminator_loss 0.679 generator_loss 1.006\n",
            "Epoch 58 Iteration 100: discriminator_loss 0.661 generator_loss 0.616\n",
            "Epoch 58 Iteration 200: discriminator_loss 0.649 generator_loss 0.631\n",
            "Epoch 58 Iteration 300: discriminator_loss 0.706 generator_loss 0.887\n",
            "Epoch 58 Iteration 400: discriminator_loss 0.688 generator_loss 0.888\n",
            "Epoch 58 Iteration 500: discriminator_loss 0.638 generator_loss 0.647\n",
            "Epoch 58 Iteration 600: discriminator_loss 0.661 generator_loss 0.846\n",
            "Epoch 58 Iteration 700: discriminator_loss 0.634 generator_loss 0.865\n",
            "Epoch 58 Iteration 800: discriminator_loss 0.658 generator_loss 0.709\n",
            "Epoch 58 Iteration 900: discriminator_loss 0.670 generator_loss 0.827\n"
          ]
        },
        {
          "output_type": "stream",
          "name": "stderr",
          "text": [
            "\r 39%|███▉      | 59/150 [13:55<21:16, 14.03s/it]"
          ]
        },
        {
          "output_type": "stream",
          "name": "stdout",
          "text": [
            "Epoch 58 Iteration 938: discriminator_loss 0.659 generator_loss 0.794\n",
            "Epoch 59 Iteration 100: discriminator_loss 0.685 generator_loss 0.842\n",
            "Epoch 59 Iteration 200: discriminator_loss 0.672 generator_loss 0.643\n",
            "Epoch 59 Iteration 300: discriminator_loss 0.680 generator_loss 0.892\n",
            "Epoch 59 Iteration 400: discriminator_loss 0.678 generator_loss 0.665\n",
            "Epoch 59 Iteration 500: discriminator_loss 0.709 generator_loss 0.640\n",
            "Epoch 59 Iteration 600: discriminator_loss 0.684 generator_loss 0.967\n",
            "Epoch 59 Iteration 700: discriminator_loss 0.691 generator_loss 0.861\n",
            "Epoch 59 Iteration 800: discriminator_loss 0.666 generator_loss 0.811\n",
            "Epoch 59 Iteration 900: discriminator_loss 0.660 generator_loss 0.768\n"
          ]
        },
        {
          "output_type": "stream",
          "name": "stderr",
          "text": [
            "\r 40%|████      | 60/150 [14:09<21:04, 14.05s/it]"
          ]
        },
        {
          "output_type": "stream",
          "name": "stdout",
          "text": [
            "Epoch 59 Iteration 938: discriminator_loss 0.695 generator_loss 0.834\n",
            "Model saved.\n",
            "Epoch 60 Iteration 100: discriminator_loss 0.681 generator_loss 0.865\n",
            "Epoch 60 Iteration 200: discriminator_loss 0.697 generator_loss 0.799\n",
            "Epoch 60 Iteration 300: discriminator_loss 0.652 generator_loss 0.785\n",
            "Epoch 60 Iteration 400: discriminator_loss 0.658 generator_loss 0.863\n",
            "Epoch 60 Iteration 500: discriminator_loss 0.655 generator_loss 0.836\n",
            "Epoch 60 Iteration 600: discriminator_loss 0.680 generator_loss 0.662\n",
            "Epoch 60 Iteration 700: discriminator_loss 0.668 generator_loss 0.725\n",
            "Epoch 60 Iteration 800: discriminator_loss 0.640 generator_loss 0.708\n",
            "Epoch 60 Iteration 900: discriminator_loss 0.673 generator_loss 0.731\n"
          ]
        },
        {
          "output_type": "stream",
          "name": "stderr",
          "text": [
            "\r 41%|████      | 61/150 [14:23<20:52, 14.07s/it]"
          ]
        },
        {
          "output_type": "stream",
          "name": "stdout",
          "text": [
            "Epoch 60 Iteration 938: discriminator_loss 0.676 generator_loss 0.805\n",
            "Epoch 61 Iteration 100: discriminator_loss 0.667 generator_loss 0.822\n",
            "Epoch 61 Iteration 200: discriminator_loss 0.687 generator_loss 0.725\n",
            "Epoch 61 Iteration 300: discriminator_loss 0.661 generator_loss 0.894\n",
            "Epoch 61 Iteration 400: discriminator_loss 0.694 generator_loss 0.619\n",
            "Epoch 61 Iteration 500: discriminator_loss 0.669 generator_loss 0.797\n",
            "Epoch 61 Iteration 600: discriminator_loss 0.675 generator_loss 0.704\n",
            "Epoch 61 Iteration 700: discriminator_loss 0.669 generator_loss 0.846\n",
            "Epoch 61 Iteration 800: discriminator_loss 0.681 generator_loss 0.855\n",
            "Epoch 61 Iteration 900: discriminator_loss 0.706 generator_loss 0.942\n"
          ]
        },
        {
          "output_type": "stream",
          "name": "stderr",
          "text": [
            "\r 41%|████▏     | 62/150 [14:37<20:35, 14.04s/it]"
          ]
        },
        {
          "output_type": "stream",
          "name": "stdout",
          "text": [
            "Epoch 61 Iteration 938: discriminator_loss 0.708 generator_loss 0.576\n",
            "Epoch 62 Iteration 100: discriminator_loss 0.658 generator_loss 0.809\n",
            "Epoch 62 Iteration 200: discriminator_loss 0.699 generator_loss 0.784\n",
            "Epoch 62 Iteration 300: discriminator_loss 0.664 generator_loss 0.742\n",
            "Epoch 62 Iteration 400: discriminator_loss 0.679 generator_loss 0.769\n",
            "Epoch 62 Iteration 500: discriminator_loss 0.662 generator_loss 0.747\n",
            "Epoch 62 Iteration 600: discriminator_loss 0.701 generator_loss 0.632\n",
            "Epoch 62 Iteration 700: discriminator_loss 0.675 generator_loss 0.755\n",
            "Epoch 62 Iteration 800: discriminator_loss 0.678 generator_loss 0.734\n",
            "Epoch 62 Iteration 900: discriminator_loss 0.679 generator_loss 0.729\n"
          ]
        },
        {
          "output_type": "stream",
          "name": "stderr",
          "text": [
            "\r 42%|████▏     | 63/150 [14:51<20:18, 14.01s/it]"
          ]
        },
        {
          "output_type": "stream",
          "name": "stdout",
          "text": [
            "Epoch 62 Iteration 938: discriminator_loss 0.661 generator_loss 0.816\n",
            "Epoch 63 Iteration 100: discriminator_loss 0.692 generator_loss 0.869\n",
            "Epoch 63 Iteration 200: discriminator_loss 0.671 generator_loss 0.780\n",
            "Epoch 63 Iteration 300: discriminator_loss 0.670 generator_loss 0.956\n",
            "Epoch 63 Iteration 400: discriminator_loss 0.687 generator_loss 0.737\n",
            "Epoch 63 Iteration 500: discriminator_loss 0.669 generator_loss 0.828\n",
            "Epoch 63 Iteration 600: discriminator_loss 0.682 generator_loss 0.704\n",
            "Epoch 63 Iteration 700: discriminator_loss 0.658 generator_loss 0.861\n",
            "Epoch 63 Iteration 800: discriminator_loss 0.691 generator_loss 0.935\n",
            "Epoch 63 Iteration 900: discriminator_loss 0.664 generator_loss 0.833\n"
          ]
        },
        {
          "output_type": "stream",
          "name": "stderr",
          "text": [
            "\r 43%|████▎     | 64/150 [15:05<20:01, 13.97s/it]"
          ]
        },
        {
          "output_type": "stream",
          "name": "stdout",
          "text": [
            "Epoch 63 Iteration 938: discriminator_loss 0.680 generator_loss 0.913\n",
            "Epoch 64 Iteration 100: discriminator_loss 0.674 generator_loss 0.701\n",
            "Epoch 64 Iteration 200: discriminator_loss 0.700 generator_loss 0.718\n",
            "Epoch 64 Iteration 300: discriminator_loss 0.683 generator_loss 0.793\n",
            "Epoch 64 Iteration 400: discriminator_loss 0.688 generator_loss 0.906\n",
            "Epoch 64 Iteration 500: discriminator_loss 0.685 generator_loss 0.840\n",
            "Epoch 64 Iteration 600: discriminator_loss 0.698 generator_loss 0.926\n",
            "Epoch 64 Iteration 700: discriminator_loss 0.647 generator_loss 0.777\n",
            "Epoch 64 Iteration 800: discriminator_loss 0.689 generator_loss 0.761\n",
            "Epoch 64 Iteration 900: discriminator_loss 0.678 generator_loss 0.634\n"
          ]
        },
        {
          "output_type": "stream",
          "name": "stderr",
          "text": [
            "\r 43%|████▎     | 65/150 [15:19<19:46, 13.95s/it]"
          ]
        },
        {
          "output_type": "stream",
          "name": "stdout",
          "text": [
            "Epoch 64 Iteration 938: discriminator_loss 0.667 generator_loss 0.799\n",
            "Epoch 65 Iteration 100: discriminator_loss 0.680 generator_loss 0.750\n",
            "Epoch 65 Iteration 200: discriminator_loss 0.697 generator_loss 0.762\n",
            "Epoch 65 Iteration 300: discriminator_loss 0.675 generator_loss 0.932\n",
            "Epoch 65 Iteration 400: discriminator_loss 0.669 generator_loss 0.891\n",
            "Epoch 65 Iteration 500: discriminator_loss 0.636 generator_loss 0.824\n",
            "Epoch 65 Iteration 600: discriminator_loss 0.635 generator_loss 0.749\n",
            "Epoch 65 Iteration 700: discriminator_loss 0.669 generator_loss 0.824\n",
            "Epoch 65 Iteration 800: discriminator_loss 0.691 generator_loss 0.662\n",
            "Epoch 65 Iteration 900: discriminator_loss 0.639 generator_loss 0.746\n"
          ]
        },
        {
          "output_type": "stream",
          "name": "stderr",
          "text": [
            "\r 44%|████▍     | 66/150 [15:33<19:35, 13.99s/it]"
          ]
        },
        {
          "output_type": "stream",
          "name": "stdout",
          "text": [
            "Epoch 65 Iteration 938: discriminator_loss 0.682 generator_loss 0.892\n",
            "Epoch 66 Iteration 100: discriminator_loss 0.667 generator_loss 0.710\n",
            "Epoch 66 Iteration 200: discriminator_loss 0.662 generator_loss 0.816\n",
            "Epoch 66 Iteration 300: discriminator_loss 0.699 generator_loss 0.727\n",
            "Epoch 66 Iteration 400: discriminator_loss 0.672 generator_loss 0.768\n",
            "Epoch 66 Iteration 500: discriminator_loss 0.691 generator_loss 0.715\n",
            "Epoch 66 Iteration 600: discriminator_loss 0.655 generator_loss 0.835\n",
            "Epoch 66 Iteration 700: discriminator_loss 0.672 generator_loss 0.712\n",
            "Epoch 66 Iteration 800: discriminator_loss 0.678 generator_loss 0.700\n",
            "Epoch 66 Iteration 900: discriminator_loss 0.696 generator_loss 0.765\n"
          ]
        },
        {
          "output_type": "stream",
          "name": "stderr",
          "text": [
            "\r 45%|████▍     | 67/150 [15:47<19:25, 14.04s/it]"
          ]
        },
        {
          "output_type": "stream",
          "name": "stdout",
          "text": [
            "Epoch 66 Iteration 938: discriminator_loss 0.667 generator_loss 0.697\n",
            "Epoch 67 Iteration 100: discriminator_loss 0.654 generator_loss 0.918\n",
            "Epoch 67 Iteration 200: discriminator_loss 0.695 generator_loss 0.811\n",
            "Epoch 67 Iteration 300: discriminator_loss 0.700 generator_loss 0.826\n",
            "Epoch 67 Iteration 400: discriminator_loss 0.707 generator_loss 0.783\n",
            "Epoch 67 Iteration 500: discriminator_loss 0.646 generator_loss 0.822\n",
            "Epoch 67 Iteration 600: discriminator_loss 0.672 generator_loss 0.586\n",
            "Epoch 67 Iteration 700: discriminator_loss 0.667 generator_loss 0.807\n",
            "Epoch 67 Iteration 800: discriminator_loss 0.680 generator_loss 0.770\n",
            "Epoch 67 Iteration 900: discriminator_loss 0.693 generator_loss 0.754\n"
          ]
        },
        {
          "output_type": "stream",
          "name": "stderr",
          "text": [
            "\r 45%|████▌     | 68/150 [16:02<19:29, 14.26s/it]"
          ]
        },
        {
          "output_type": "stream",
          "name": "stdout",
          "text": [
            "Epoch 67 Iteration 938: discriminator_loss 0.716 generator_loss 0.853\n",
            "Epoch 68 Iteration 100: discriminator_loss 0.686 generator_loss 0.713\n",
            "Epoch 68 Iteration 200: discriminator_loss 0.674 generator_loss 0.751\n",
            "Epoch 68 Iteration 300: discriminator_loss 0.692 generator_loss 0.820\n",
            "Epoch 68 Iteration 400: discriminator_loss 0.665 generator_loss 0.744\n",
            "Epoch 68 Iteration 500: discriminator_loss 0.725 generator_loss 0.875\n",
            "Epoch 68 Iteration 600: discriminator_loss 0.651 generator_loss 0.781\n",
            "Epoch 68 Iteration 700: discriminator_loss 0.682 generator_loss 0.698\n",
            "Epoch 68 Iteration 800: discriminator_loss 0.646 generator_loss 0.823\n",
            "Epoch 68 Iteration 900: discriminator_loss 0.685 generator_loss 0.633\n"
          ]
        },
        {
          "output_type": "stream",
          "name": "stderr",
          "text": [
            "\r 46%|████▌     | 69/150 [16:16<19:09, 14.19s/it]"
          ]
        },
        {
          "output_type": "stream",
          "name": "stdout",
          "text": [
            "Epoch 68 Iteration 938: discriminator_loss 0.675 generator_loss 0.768\n",
            "Epoch 69 Iteration 100: discriminator_loss 0.675 generator_loss 0.665\n",
            "Epoch 69 Iteration 200: discriminator_loss 0.694 generator_loss 0.865\n",
            "Epoch 69 Iteration 300: discriminator_loss 0.666 generator_loss 0.664\n",
            "Epoch 69 Iteration 400: discriminator_loss 0.693 generator_loss 1.012\n",
            "Epoch 69 Iteration 500: discriminator_loss 0.663 generator_loss 0.717\n",
            "Epoch 69 Iteration 600: discriminator_loss 0.672 generator_loss 0.948\n",
            "Epoch 69 Iteration 700: discriminator_loss 0.684 generator_loss 0.789\n",
            "Epoch 69 Iteration 800: discriminator_loss 0.668 generator_loss 0.647\n",
            "Epoch 69 Iteration 900: discriminator_loss 0.661 generator_loss 0.737\n"
          ]
        },
        {
          "output_type": "stream",
          "name": "stderr",
          "text": [
            "\r 47%|████▋     | 70/150 [16:30<18:52, 14.16s/it]"
          ]
        },
        {
          "output_type": "stream",
          "name": "stdout",
          "text": [
            "Epoch 69 Iteration 938: discriminator_loss 0.693 generator_loss 0.764\n",
            "Model saved.\n",
            "Epoch 70 Iteration 100: discriminator_loss 0.689 generator_loss 0.761\n",
            "Epoch 70 Iteration 200: discriminator_loss 0.667 generator_loss 0.741\n",
            "Epoch 70 Iteration 300: discriminator_loss 0.664 generator_loss 0.818\n",
            "Epoch 70 Iteration 400: discriminator_loss 0.668 generator_loss 0.828\n",
            "Epoch 70 Iteration 500: discriminator_loss 0.708 generator_loss 0.625\n",
            "Epoch 70 Iteration 600: discriminator_loss 0.664 generator_loss 0.786\n",
            "Epoch 70 Iteration 700: discriminator_loss 0.683 generator_loss 0.740\n",
            "Epoch 70 Iteration 800: discriminator_loss 0.672 generator_loss 0.865\n",
            "Epoch 70 Iteration 900: discriminator_loss 0.663 generator_loss 0.732\n"
          ]
        },
        {
          "output_type": "stream",
          "name": "stderr",
          "text": [
            "\r 47%|████▋     | 71/150 [16:44<18:32, 14.09s/it]"
          ]
        },
        {
          "output_type": "stream",
          "name": "stdout",
          "text": [
            "Epoch 70 Iteration 938: discriminator_loss 0.683 generator_loss 0.635\n",
            "Epoch 71 Iteration 100: discriminator_loss 0.673 generator_loss 0.730\n",
            "Epoch 71 Iteration 200: discriminator_loss 0.687 generator_loss 0.755\n",
            "Epoch 71 Iteration 300: discriminator_loss 0.700 generator_loss 0.780\n",
            "Epoch 71 Iteration 400: discriminator_loss 0.676 generator_loss 0.720\n",
            "Epoch 71 Iteration 500: discriminator_loss 0.678 generator_loss 0.750\n",
            "Epoch 71 Iteration 600: discriminator_loss 0.679 generator_loss 0.780\n",
            "Epoch 71 Iteration 700: discriminator_loss 0.683 generator_loss 0.806\n",
            "Epoch 71 Iteration 800: discriminator_loss 0.669 generator_loss 0.714\n",
            "Epoch 71 Iteration 900: discriminator_loss 0.716 generator_loss 1.063\n"
          ]
        },
        {
          "output_type": "stream",
          "name": "stderr",
          "text": [
            "\r 48%|████▊     | 72/150 [16:58<18:14, 14.04s/it]"
          ]
        },
        {
          "output_type": "stream",
          "name": "stdout",
          "text": [
            "Epoch 71 Iteration 938: discriminator_loss 0.688 generator_loss 0.652\n",
            "Epoch 72 Iteration 100: discriminator_loss 0.636 generator_loss 0.724\n",
            "Epoch 72 Iteration 200: discriminator_loss 0.648 generator_loss 0.970\n",
            "Epoch 72 Iteration 300: discriminator_loss 0.667 generator_loss 0.876\n",
            "Epoch 72 Iteration 400: discriminator_loss 0.710 generator_loss 0.882\n",
            "Epoch 72 Iteration 500: discriminator_loss 0.680 generator_loss 0.880\n",
            "Epoch 72 Iteration 600: discriminator_loss 0.674 generator_loss 0.721\n",
            "Epoch 72 Iteration 700: discriminator_loss 0.692 generator_loss 0.798\n",
            "Epoch 72 Iteration 800: discriminator_loss 0.703 generator_loss 0.639\n",
            "Epoch 72 Iteration 900: discriminator_loss 0.684 generator_loss 0.854\n"
          ]
        },
        {
          "output_type": "stream",
          "name": "stderr",
          "text": [
            "\r 49%|████▊     | 73/150 [17:12<17:59, 14.02s/it]"
          ]
        },
        {
          "output_type": "stream",
          "name": "stdout",
          "text": [
            "Epoch 72 Iteration 938: discriminator_loss 0.668 generator_loss 0.601\n",
            "Epoch 73 Iteration 100: discriminator_loss 0.658 generator_loss 0.886\n",
            "Epoch 73 Iteration 200: discriminator_loss 0.671 generator_loss 0.877\n",
            "Epoch 73 Iteration 300: discriminator_loss 0.687 generator_loss 0.715\n",
            "Epoch 73 Iteration 400: discriminator_loss 0.674 generator_loss 0.658\n",
            "Epoch 73 Iteration 500: discriminator_loss 0.669 generator_loss 0.848\n",
            "Epoch 73 Iteration 600: discriminator_loss 0.682 generator_loss 0.782\n",
            "Epoch 73 Iteration 700: discriminator_loss 0.663 generator_loss 0.787\n",
            "Epoch 73 Iteration 800: discriminator_loss 0.679 generator_loss 0.705\n",
            "Epoch 73 Iteration 900: discriminator_loss 0.682 generator_loss 0.858\n"
          ]
        },
        {
          "output_type": "stream",
          "name": "stderr",
          "text": [
            "\r 49%|████▉     | 74/150 [17:26<17:47, 14.05s/it]"
          ]
        },
        {
          "output_type": "stream",
          "name": "stdout",
          "text": [
            "Epoch 73 Iteration 938: discriminator_loss 0.674 generator_loss 0.702\n",
            "Epoch 74 Iteration 100: discriminator_loss 0.643 generator_loss 0.639\n",
            "Epoch 74 Iteration 200: discriminator_loss 0.667 generator_loss 0.782\n",
            "Epoch 74 Iteration 300: discriminator_loss 0.677 generator_loss 0.920\n",
            "Epoch 74 Iteration 400: discriminator_loss 0.666 generator_loss 0.677\n",
            "Epoch 74 Iteration 500: discriminator_loss 0.685 generator_loss 0.834\n",
            "Epoch 74 Iteration 600: discriminator_loss 0.672 generator_loss 0.765\n",
            "Epoch 74 Iteration 700: discriminator_loss 0.672 generator_loss 0.837\n",
            "Epoch 74 Iteration 800: discriminator_loss 0.673 generator_loss 0.835\n",
            "Epoch 74 Iteration 900: discriminator_loss 0.657 generator_loss 0.701\n"
          ]
        },
        {
          "output_type": "stream",
          "name": "stderr",
          "text": [
            "\r 50%|█████     | 75/150 [17:40<17:34, 14.07s/it]"
          ]
        },
        {
          "output_type": "stream",
          "name": "stdout",
          "text": [
            "Epoch 74 Iteration 938: discriminator_loss 0.674 generator_loss 0.838\n",
            "Epoch 75 Iteration 100: discriminator_loss 0.708 generator_loss 0.550\n",
            "Epoch 75 Iteration 200: discriminator_loss 0.666 generator_loss 0.766\n",
            "Epoch 75 Iteration 300: discriminator_loss 0.666 generator_loss 0.663\n",
            "Epoch 75 Iteration 400: discriminator_loss 0.689 generator_loss 0.662\n",
            "Epoch 75 Iteration 500: discriminator_loss 0.682 generator_loss 0.839\n",
            "Epoch 75 Iteration 600: discriminator_loss 0.688 generator_loss 0.732\n",
            "Epoch 75 Iteration 700: discriminator_loss 0.686 generator_loss 0.840\n",
            "Epoch 75 Iteration 800: discriminator_loss 0.650 generator_loss 0.692\n",
            "Epoch 75 Iteration 900: discriminator_loss 0.677 generator_loss 0.658\n"
          ]
        },
        {
          "output_type": "stream",
          "name": "stderr",
          "text": [
            "\r 51%|█████     | 76/150 [17:54<17:22, 14.09s/it]"
          ]
        },
        {
          "output_type": "stream",
          "name": "stdout",
          "text": [
            "Epoch 75 Iteration 938: discriminator_loss 0.675 generator_loss 0.840\n",
            "Epoch 76 Iteration 100: discriminator_loss 0.712 generator_loss 0.718\n",
            "Epoch 76 Iteration 200: discriminator_loss 0.664 generator_loss 0.676\n",
            "Epoch 76 Iteration 300: discriminator_loss 0.670 generator_loss 0.767\n",
            "Epoch 76 Iteration 400: discriminator_loss 0.667 generator_loss 0.727\n",
            "Epoch 76 Iteration 500: discriminator_loss 0.668 generator_loss 0.728\n",
            "Epoch 76 Iteration 600: discriminator_loss 0.700 generator_loss 0.631\n",
            "Epoch 76 Iteration 700: discriminator_loss 0.641 generator_loss 0.734\n",
            "Epoch 76 Iteration 800: discriminator_loss 0.653 generator_loss 0.867\n",
            "Epoch 76 Iteration 900: discriminator_loss 0.692 generator_loss 0.779\n"
          ]
        },
        {
          "output_type": "stream",
          "name": "stderr",
          "text": [
            "\r 51%|█████▏    | 77/150 [18:08<17:08, 14.09s/it]"
          ]
        },
        {
          "output_type": "stream",
          "name": "stdout",
          "text": [
            "Epoch 76 Iteration 938: discriminator_loss 0.701 generator_loss 0.628\n",
            "Epoch 77 Iteration 100: discriminator_loss 0.684 generator_loss 0.761\n",
            "Epoch 77 Iteration 200: discriminator_loss 0.677 generator_loss 0.727\n",
            "Epoch 77 Iteration 300: discriminator_loss 0.665 generator_loss 0.727\n",
            "Epoch 77 Iteration 400: discriminator_loss 0.681 generator_loss 0.759\n",
            "Epoch 77 Iteration 500: discriminator_loss 0.686 generator_loss 0.682\n",
            "Epoch 77 Iteration 600: discriminator_loss 0.658 generator_loss 0.778\n",
            "Epoch 77 Iteration 700: discriminator_loss 0.645 generator_loss 0.774\n",
            "Epoch 77 Iteration 800: discriminator_loss 0.682 generator_loss 0.887\n",
            "Epoch 77 Iteration 900: discriminator_loss 0.701 generator_loss 0.835\n"
          ]
        },
        {
          "output_type": "stream",
          "name": "stderr",
          "text": [
            "\r 52%|█████▏    | 78/150 [18:22<16:53, 14.07s/it]"
          ]
        },
        {
          "output_type": "stream",
          "name": "stdout",
          "text": [
            "Epoch 77 Iteration 938: discriminator_loss 0.668 generator_loss 0.931\n",
            "Epoch 78 Iteration 100: discriminator_loss 0.690 generator_loss 0.811\n",
            "Epoch 78 Iteration 200: discriminator_loss 0.690 generator_loss 0.975\n",
            "Epoch 78 Iteration 300: discriminator_loss 0.670 generator_loss 0.812\n",
            "Epoch 78 Iteration 400: discriminator_loss 0.663 generator_loss 0.702\n",
            "Epoch 78 Iteration 500: discriminator_loss 0.667 generator_loss 0.874\n",
            "Epoch 78 Iteration 600: discriminator_loss 0.717 generator_loss 0.744\n",
            "Epoch 78 Iteration 700: discriminator_loss 0.692 generator_loss 0.748\n",
            "Epoch 78 Iteration 800: discriminator_loss 0.691 generator_loss 0.609\n",
            "Epoch 78 Iteration 900: discriminator_loss 0.680 generator_loss 0.799\n"
          ]
        },
        {
          "output_type": "stream",
          "name": "stderr",
          "text": [
            "\r 53%|█████▎    | 79/150 [18:36<16:35, 14.03s/it]"
          ]
        },
        {
          "output_type": "stream",
          "name": "stdout",
          "text": [
            "Epoch 78 Iteration 938: discriminator_loss 0.667 generator_loss 0.950\n",
            "Epoch 79 Iteration 100: discriminator_loss 0.679 generator_loss 0.734\n",
            "Epoch 79 Iteration 200: discriminator_loss 0.692 generator_loss 0.705\n",
            "Epoch 79 Iteration 300: discriminator_loss 0.725 generator_loss 0.669\n",
            "Epoch 79 Iteration 400: discriminator_loss 0.683 generator_loss 0.739\n",
            "Epoch 79 Iteration 500: discriminator_loss 0.684 generator_loss 0.745\n",
            "Epoch 79 Iteration 600: discriminator_loss 0.675 generator_loss 0.842\n",
            "Epoch 79 Iteration 700: discriminator_loss 0.671 generator_loss 0.863\n",
            "Epoch 79 Iteration 800: discriminator_loss 0.670 generator_loss 0.882\n",
            "Epoch 79 Iteration 900: discriminator_loss 0.664 generator_loss 0.729\n"
          ]
        },
        {
          "output_type": "stream",
          "name": "stderr",
          "text": [
            "\r 53%|█████▎    | 80/150 [18:50<16:21, 14.03s/it]"
          ]
        },
        {
          "output_type": "stream",
          "name": "stdout",
          "text": [
            "Epoch 79 Iteration 938: discriminator_loss 0.683 generator_loss 1.012\n",
            "Model saved.\n",
            "Epoch 80 Iteration 100: discriminator_loss 0.711 generator_loss 0.938\n",
            "Epoch 80 Iteration 200: discriminator_loss 0.677 generator_loss 0.864\n",
            "Epoch 80 Iteration 300: discriminator_loss 0.715 generator_loss 0.981\n",
            "Epoch 80 Iteration 400: discriminator_loss 0.669 generator_loss 0.799\n",
            "Epoch 80 Iteration 500: discriminator_loss 0.716 generator_loss 0.842\n",
            "Epoch 80 Iteration 600: discriminator_loss 0.701 generator_loss 0.726\n",
            "Epoch 80 Iteration 700: discriminator_loss 0.694 generator_loss 0.676\n",
            "Epoch 80 Iteration 800: discriminator_loss 0.675 generator_loss 0.840\n",
            "Epoch 80 Iteration 900: discriminator_loss 0.658 generator_loss 0.692\n"
          ]
        },
        {
          "output_type": "stream",
          "name": "stderr",
          "text": [
            "\r 54%|█████▍    | 81/150 [19:04<16:05, 14.00s/it]"
          ]
        },
        {
          "output_type": "stream",
          "name": "stdout",
          "text": [
            "Epoch 80 Iteration 938: discriminator_loss 0.687 generator_loss 0.806\n",
            "Epoch 81 Iteration 100: discriminator_loss 0.677 generator_loss 0.729\n",
            "Epoch 81 Iteration 200: discriminator_loss 0.666 generator_loss 0.716\n",
            "Epoch 81 Iteration 300: discriminator_loss 0.669 generator_loss 0.680\n",
            "Epoch 81 Iteration 400: discriminator_loss 0.694 generator_loss 0.768\n",
            "Epoch 81 Iteration 500: discriminator_loss 0.676 generator_loss 0.812\n",
            "Epoch 81 Iteration 600: discriminator_loss 0.714 generator_loss 0.728\n",
            "Epoch 81 Iteration 700: discriminator_loss 0.681 generator_loss 0.745\n",
            "Epoch 81 Iteration 800: discriminator_loss 0.671 generator_loss 0.807\n",
            "Epoch 81 Iteration 900: discriminator_loss 0.683 generator_loss 0.734\n"
          ]
        },
        {
          "output_type": "stream",
          "name": "stderr",
          "text": [
            "\r 55%|█████▍    | 82/150 [19:18<15:50, 13.97s/it]"
          ]
        },
        {
          "output_type": "stream",
          "name": "stdout",
          "text": [
            "Epoch 81 Iteration 938: discriminator_loss 0.681 generator_loss 0.800\n",
            "Epoch 82 Iteration 100: discriminator_loss 0.659 generator_loss 0.782\n",
            "Epoch 82 Iteration 200: discriminator_loss 0.690 generator_loss 0.800\n",
            "Epoch 82 Iteration 300: discriminator_loss 0.666 generator_loss 0.798\n",
            "Epoch 82 Iteration 400: discriminator_loss 0.703 generator_loss 0.655\n",
            "Epoch 82 Iteration 500: discriminator_loss 0.660 generator_loss 0.777\n",
            "Epoch 82 Iteration 600: discriminator_loss 0.697 generator_loss 0.812\n",
            "Epoch 82 Iteration 700: discriminator_loss 0.696 generator_loss 0.688\n",
            "Epoch 82 Iteration 800: discriminator_loss 0.687 generator_loss 0.765\n",
            "Epoch 82 Iteration 900: discriminator_loss 0.715 generator_loss 0.821\n"
          ]
        },
        {
          "output_type": "stream",
          "name": "stderr",
          "text": [
            "\r 55%|█████▌    | 83/150 [19:32<15:35, 13.96s/it]"
          ]
        },
        {
          "output_type": "stream",
          "name": "stdout",
          "text": [
            "Epoch 82 Iteration 938: discriminator_loss 0.708 generator_loss 0.673\n",
            "Epoch 83 Iteration 100: discriminator_loss 0.682 generator_loss 0.712\n",
            "Epoch 83 Iteration 200: discriminator_loss 0.693 generator_loss 0.910\n",
            "Epoch 83 Iteration 300: discriminator_loss 0.684 generator_loss 0.761\n",
            "Epoch 83 Iteration 400: discriminator_loss 0.703 generator_loss 0.656\n",
            "Epoch 83 Iteration 500: discriminator_loss 0.677 generator_loss 0.861\n",
            "Epoch 83 Iteration 600: discriminator_loss 0.671 generator_loss 0.648\n",
            "Epoch 83 Iteration 700: discriminator_loss 0.691 generator_loss 0.769\n",
            "Epoch 83 Iteration 800: discriminator_loss 0.671 generator_loss 0.775\n",
            "Epoch 83 Iteration 900: discriminator_loss 0.676 generator_loss 0.660\n"
          ]
        },
        {
          "output_type": "stream",
          "name": "stderr",
          "text": [
            "\r 56%|█████▌    | 84/150 [19:46<15:22, 13.97s/it]"
          ]
        },
        {
          "output_type": "stream",
          "name": "stdout",
          "text": [
            "Epoch 83 Iteration 938: discriminator_loss 0.703 generator_loss 0.788\n",
            "Epoch 84 Iteration 100: discriminator_loss 0.704 generator_loss 0.832\n",
            "Epoch 84 Iteration 200: discriminator_loss 0.688 generator_loss 0.781\n",
            "Epoch 84 Iteration 300: discriminator_loss 0.689 generator_loss 0.674\n",
            "Epoch 84 Iteration 400: discriminator_loss 0.680 generator_loss 0.824\n",
            "Epoch 84 Iteration 500: discriminator_loss 0.700 generator_loss 0.682\n",
            "Epoch 84 Iteration 600: discriminator_loss 0.686 generator_loss 0.769\n",
            "Epoch 84 Iteration 700: discriminator_loss 0.693 generator_loss 0.695\n",
            "Epoch 84 Iteration 800: discriminator_loss 0.707 generator_loss 0.715\n",
            "Epoch 84 Iteration 900: discriminator_loss 0.691 generator_loss 0.726\n"
          ]
        },
        {
          "output_type": "stream",
          "name": "stderr",
          "text": [
            "\r 57%|█████▋    | 85/150 [20:00<15:08, 13.97s/it]"
          ]
        },
        {
          "output_type": "stream",
          "name": "stdout",
          "text": [
            "Epoch 84 Iteration 938: discriminator_loss 0.696 generator_loss 0.705\n",
            "Epoch 85 Iteration 100: discriminator_loss 0.664 generator_loss 0.736\n",
            "Epoch 85 Iteration 200: discriminator_loss 0.707 generator_loss 0.783\n",
            "Epoch 85 Iteration 300: discriminator_loss 0.667 generator_loss 0.679\n",
            "Epoch 85 Iteration 400: discriminator_loss 0.697 generator_loss 0.587\n",
            "Epoch 85 Iteration 500: discriminator_loss 0.656 generator_loss 0.673\n",
            "Epoch 85 Iteration 600: discriminator_loss 0.652 generator_loss 0.659\n",
            "Epoch 85 Iteration 700: discriminator_loss 0.682 generator_loss 0.664\n",
            "Epoch 85 Iteration 800: discriminator_loss 0.698 generator_loss 0.871\n",
            "Epoch 85 Iteration 900: discriminator_loss 0.679 generator_loss 0.702\n"
          ]
        },
        {
          "output_type": "stream",
          "name": "stderr",
          "text": [
            "\r 57%|█████▋    | 86/150 [20:14<14:52, 13.94s/it]"
          ]
        },
        {
          "output_type": "stream",
          "name": "stdout",
          "text": [
            "Epoch 85 Iteration 938: discriminator_loss 0.668 generator_loss 0.532\n",
            "Epoch 86 Iteration 100: discriminator_loss 0.684 generator_loss 0.874\n",
            "Epoch 86 Iteration 200: discriminator_loss 0.675 generator_loss 0.876\n",
            "Epoch 86 Iteration 300: discriminator_loss 0.668 generator_loss 0.642\n",
            "Epoch 86 Iteration 400: discriminator_loss 0.714 generator_loss 0.768\n",
            "Epoch 86 Iteration 500: discriminator_loss 0.701 generator_loss 0.836\n",
            "Epoch 86 Iteration 600: discriminator_loss 0.668 generator_loss 0.836\n",
            "Epoch 86 Iteration 700: discriminator_loss 0.673 generator_loss 0.725\n",
            "Epoch 86 Iteration 800: discriminator_loss 0.676 generator_loss 0.723\n",
            "Epoch 86 Iteration 900: discriminator_loss 0.675 generator_loss 0.685\n"
          ]
        },
        {
          "output_type": "stream",
          "name": "stderr",
          "text": [
            "\r 58%|█████▊    | 87/150 [20:28<14:38, 13.94s/it]"
          ]
        },
        {
          "output_type": "stream",
          "name": "stdout",
          "text": [
            "Epoch 86 Iteration 938: discriminator_loss 0.677 generator_loss 0.701\n",
            "Epoch 87 Iteration 100: discriminator_loss 0.670 generator_loss 0.671\n",
            "Epoch 87 Iteration 200: discriminator_loss 0.655 generator_loss 0.805\n",
            "Epoch 87 Iteration 300: discriminator_loss 0.702 generator_loss 0.605\n",
            "Epoch 87 Iteration 400: discriminator_loss 0.690 generator_loss 0.649\n",
            "Epoch 87 Iteration 500: discriminator_loss 0.655 generator_loss 0.810\n",
            "Epoch 87 Iteration 600: discriminator_loss 0.708 generator_loss 0.891\n",
            "Epoch 87 Iteration 700: discriminator_loss 0.671 generator_loss 0.755\n",
            "Epoch 87 Iteration 800: discriminator_loss 0.676 generator_loss 0.636\n",
            "Epoch 87 Iteration 900: discriminator_loss 0.692 generator_loss 0.737\n"
          ]
        },
        {
          "output_type": "stream",
          "name": "stderr",
          "text": [
            "\r 59%|█████▊    | 88/150 [20:42<14:23, 13.92s/it]"
          ]
        },
        {
          "output_type": "stream",
          "name": "stdout",
          "text": [
            "Epoch 87 Iteration 938: discriminator_loss 0.655 generator_loss 0.779\n",
            "Epoch 88 Iteration 100: discriminator_loss 0.684 generator_loss 0.834\n",
            "Epoch 88 Iteration 200: discriminator_loss 0.641 generator_loss 0.848\n",
            "Epoch 88 Iteration 300: discriminator_loss 0.680 generator_loss 0.745\n",
            "Epoch 88 Iteration 400: discriminator_loss 0.686 generator_loss 0.763\n",
            "Epoch 88 Iteration 500: discriminator_loss 0.662 generator_loss 0.644\n",
            "Epoch 88 Iteration 600: discriminator_loss 0.707 generator_loss 0.660\n",
            "Epoch 88 Iteration 700: discriminator_loss 0.666 generator_loss 0.710\n",
            "Epoch 88 Iteration 800: discriminator_loss 0.670 generator_loss 0.783\n",
            "Epoch 88 Iteration 900: discriminator_loss 0.675 generator_loss 0.668\n"
          ]
        },
        {
          "output_type": "stream",
          "name": "stderr",
          "text": [
            "\r 59%|█████▉    | 89/150 [20:56<14:09, 13.93s/it]"
          ]
        },
        {
          "output_type": "stream",
          "name": "stdout",
          "text": [
            "Epoch 88 Iteration 938: discriminator_loss 0.718 generator_loss 0.736\n",
            "Epoch 89 Iteration 100: discriminator_loss 0.675 generator_loss 0.652\n",
            "Epoch 89 Iteration 200: discriminator_loss 0.651 generator_loss 0.800\n",
            "Epoch 89 Iteration 300: discriminator_loss 0.681 generator_loss 0.823\n",
            "Epoch 89 Iteration 400: discriminator_loss 0.667 generator_loss 0.629\n",
            "Epoch 89 Iteration 500: discriminator_loss 0.685 generator_loss 0.761\n",
            "Epoch 89 Iteration 600: discriminator_loss 0.685 generator_loss 0.853\n",
            "Epoch 89 Iteration 700: discriminator_loss 0.674 generator_loss 0.682\n",
            "Epoch 89 Iteration 800: discriminator_loss 0.687 generator_loss 0.641\n",
            "Epoch 89 Iteration 900: discriminator_loss 0.712 generator_loss 0.709\n"
          ]
        },
        {
          "output_type": "stream",
          "name": "stderr",
          "text": [
            "\r 60%|██████    | 90/150 [21:10<14:07, 14.12s/it]"
          ]
        },
        {
          "output_type": "stream",
          "name": "stdout",
          "text": [
            "Epoch 89 Iteration 938: discriminator_loss 0.684 generator_loss 0.854\n",
            "Model saved.\n",
            "Epoch 90 Iteration 100: discriminator_loss 0.663 generator_loss 0.716\n",
            "Epoch 90 Iteration 200: discriminator_loss 0.707 generator_loss 0.609\n",
            "Epoch 90 Iteration 300: discriminator_loss 0.698 generator_loss 0.856\n",
            "Epoch 90 Iteration 400: discriminator_loss 0.696 generator_loss 0.652\n",
            "Epoch 90 Iteration 500: discriminator_loss 0.686 generator_loss 0.790\n",
            "Epoch 90 Iteration 600: discriminator_loss 0.673 generator_loss 0.685\n",
            "Epoch 90 Iteration 700: discriminator_loss 0.686 generator_loss 0.810\n",
            "Epoch 90 Iteration 800: discriminator_loss 0.698 generator_loss 0.715\n",
            "Epoch 90 Iteration 900: discriminator_loss 0.700 generator_loss 0.774\n"
          ]
        },
        {
          "output_type": "stream",
          "name": "stderr",
          "text": [
            "\r 61%|██████    | 91/150 [21:24<13:47, 14.03s/it]"
          ]
        },
        {
          "output_type": "stream",
          "name": "stdout",
          "text": [
            "Epoch 90 Iteration 938: discriminator_loss 0.670 generator_loss 0.723\n",
            "Epoch 91 Iteration 100: discriminator_loss 0.672 generator_loss 0.669\n",
            "Epoch 91 Iteration 200: discriminator_loss 0.650 generator_loss 0.840\n",
            "Epoch 91 Iteration 300: discriminator_loss 0.688 generator_loss 0.690\n",
            "Epoch 91 Iteration 400: discriminator_loss 0.680 generator_loss 0.858\n",
            "Epoch 91 Iteration 500: discriminator_loss 0.693 generator_loss 0.732\n",
            "Epoch 91 Iteration 600: discriminator_loss 0.662 generator_loss 0.631\n",
            "Epoch 91 Iteration 700: discriminator_loss 0.673 generator_loss 0.726\n",
            "Epoch 91 Iteration 800: discriminator_loss 0.694 generator_loss 0.729\n",
            "Epoch 91 Iteration 900: discriminator_loss 0.687 generator_loss 0.752\n"
          ]
        },
        {
          "output_type": "stream",
          "name": "stderr",
          "text": [
            "\r 61%|██████▏   | 92/150 [21:38<13:30, 13.97s/it]"
          ]
        },
        {
          "output_type": "stream",
          "name": "stdout",
          "text": [
            "Epoch 91 Iteration 938: discriminator_loss 0.686 generator_loss 0.671\n",
            "Epoch 92 Iteration 100: discriminator_loss 0.666 generator_loss 0.713\n",
            "Epoch 92 Iteration 200: discriminator_loss 0.667 generator_loss 0.844\n",
            "Epoch 92 Iteration 300: discriminator_loss 0.651 generator_loss 0.743\n",
            "Epoch 92 Iteration 400: discriminator_loss 0.677 generator_loss 0.667\n",
            "Epoch 92 Iteration 500: discriminator_loss 0.678 generator_loss 0.765\n",
            "Epoch 92 Iteration 600: discriminator_loss 0.694 generator_loss 0.623\n",
            "Epoch 92 Iteration 700: discriminator_loss 0.699 generator_loss 0.717\n",
            "Epoch 92 Iteration 800: discriminator_loss 0.691 generator_loss 0.836\n",
            "Epoch 92 Iteration 900: discriminator_loss 0.654 generator_loss 0.835\n"
          ]
        },
        {
          "output_type": "stream",
          "name": "stderr",
          "text": [
            "\r 62%|██████▏   | 93/150 [21:52<13:14, 13.95s/it]"
          ]
        },
        {
          "output_type": "stream",
          "name": "stdout",
          "text": [
            "Epoch 92 Iteration 938: discriminator_loss 0.654 generator_loss 0.678\n",
            "Epoch 93 Iteration 100: discriminator_loss 0.662 generator_loss 0.817\n",
            "Epoch 93 Iteration 200: discriminator_loss 0.662 generator_loss 0.867\n",
            "Epoch 93 Iteration 300: discriminator_loss 0.709 generator_loss 0.835\n",
            "Epoch 93 Iteration 400: discriminator_loss 0.662 generator_loss 0.795\n",
            "Epoch 93 Iteration 500: discriminator_loss 0.669 generator_loss 0.746\n",
            "Epoch 93 Iteration 600: discriminator_loss 0.668 generator_loss 0.694\n",
            "Epoch 93 Iteration 700: discriminator_loss 0.684 generator_loss 0.852\n",
            "Epoch 93 Iteration 800: discriminator_loss 0.661 generator_loss 0.794\n",
            "Epoch 93 Iteration 900: discriminator_loss 0.672 generator_loss 0.793\n"
          ]
        },
        {
          "output_type": "stream",
          "name": "stderr",
          "text": [
            "\r 63%|██████▎   | 94/150 [22:06<12:59, 13.92s/it]"
          ]
        },
        {
          "output_type": "stream",
          "name": "stdout",
          "text": [
            "Epoch 93 Iteration 938: discriminator_loss 0.721 generator_loss 0.898\n",
            "Epoch 94 Iteration 100: discriminator_loss 0.693 generator_loss 0.903\n",
            "Epoch 94 Iteration 200: discriminator_loss 0.683 generator_loss 0.749\n",
            "Epoch 94 Iteration 300: discriminator_loss 0.676 generator_loss 0.787\n",
            "Epoch 94 Iteration 400: discriminator_loss 0.671 generator_loss 0.775\n",
            "Epoch 94 Iteration 500: discriminator_loss 0.698 generator_loss 0.748\n",
            "Epoch 94 Iteration 600: discriminator_loss 0.696 generator_loss 0.718\n",
            "Epoch 94 Iteration 700: discriminator_loss 0.675 generator_loss 0.790\n",
            "Epoch 94 Iteration 800: discriminator_loss 0.664 generator_loss 0.768\n",
            "Epoch 94 Iteration 900: discriminator_loss 0.655 generator_loss 0.747\n"
          ]
        },
        {
          "output_type": "stream",
          "name": "stderr",
          "text": [
            "\r 63%|██████▎   | 95/150 [22:20<12:47, 13.96s/it]"
          ]
        },
        {
          "output_type": "stream",
          "name": "stdout",
          "text": [
            "Epoch 94 Iteration 938: discriminator_loss 0.765 generator_loss 0.804\n",
            "Epoch 95 Iteration 100: discriminator_loss 0.654 generator_loss 0.831\n",
            "Epoch 95 Iteration 200: discriminator_loss 0.661 generator_loss 0.603\n",
            "Epoch 95 Iteration 300: discriminator_loss 0.722 generator_loss 0.809\n",
            "Epoch 95 Iteration 400: discriminator_loss 0.698 generator_loss 0.739\n",
            "Epoch 95 Iteration 500: discriminator_loss 0.674 generator_loss 0.702\n",
            "Epoch 95 Iteration 600: discriminator_loss 0.678 generator_loss 0.701\n",
            "Epoch 95 Iteration 700: discriminator_loss 0.684 generator_loss 0.678\n",
            "Epoch 95 Iteration 800: discriminator_loss 0.663 generator_loss 0.795\n",
            "Epoch 95 Iteration 900: discriminator_loss 0.691 generator_loss 0.827\n"
          ]
        },
        {
          "output_type": "stream",
          "name": "stderr",
          "text": [
            "\r 64%|██████▍   | 96/150 [22:34<12:35, 14.00s/it]"
          ]
        },
        {
          "output_type": "stream",
          "name": "stdout",
          "text": [
            "Epoch 95 Iteration 938: discriminator_loss 0.678 generator_loss 0.685\n",
            "Epoch 96 Iteration 100: discriminator_loss 0.661 generator_loss 0.741\n",
            "Epoch 96 Iteration 200: discriminator_loss 0.697 generator_loss 0.843\n",
            "Epoch 96 Iteration 300: discriminator_loss 0.698 generator_loss 0.670\n",
            "Epoch 96 Iteration 400: discriminator_loss 0.712 generator_loss 0.669\n",
            "Epoch 96 Iteration 500: discriminator_loss 0.674 generator_loss 0.771\n",
            "Epoch 96 Iteration 600: discriminator_loss 0.692 generator_loss 0.716\n",
            "Epoch 96 Iteration 700: discriminator_loss 0.679 generator_loss 0.833\n",
            "Epoch 96 Iteration 800: discriminator_loss 0.656 generator_loss 0.832\n",
            "Epoch 96 Iteration 900: discriminator_loss 0.702 generator_loss 0.689\n"
          ]
        },
        {
          "output_type": "stream",
          "name": "stderr",
          "text": [
            "\r 65%|██████▍   | 97/150 [22:48<12:20, 13.97s/it]"
          ]
        },
        {
          "output_type": "stream",
          "name": "stdout",
          "text": [
            "Epoch 96 Iteration 938: discriminator_loss 0.681 generator_loss 0.676\n",
            "Epoch 97 Iteration 100: discriminator_loss 0.668 generator_loss 0.731\n",
            "Epoch 97 Iteration 200: discriminator_loss 0.686 generator_loss 0.762\n",
            "Epoch 97 Iteration 300: discriminator_loss 0.697 generator_loss 0.644\n",
            "Epoch 97 Iteration 400: discriminator_loss 0.698 generator_loss 0.776\n",
            "Epoch 97 Iteration 500: discriminator_loss 0.701 generator_loss 0.677\n",
            "Epoch 97 Iteration 600: discriminator_loss 0.663 generator_loss 0.822\n",
            "Epoch 97 Iteration 700: discriminator_loss 0.652 generator_loss 0.754\n",
            "Epoch 97 Iteration 800: discriminator_loss 0.691 generator_loss 0.810\n",
            "Epoch 97 Iteration 900: discriminator_loss 0.663 generator_loss 0.914\n"
          ]
        },
        {
          "output_type": "stream",
          "name": "stderr",
          "text": [
            "\r 65%|██████▌   | 98/150 [23:02<12:04, 13.93s/it]"
          ]
        },
        {
          "output_type": "stream",
          "name": "stdout",
          "text": [
            "Epoch 97 Iteration 938: discriminator_loss 0.687 generator_loss 0.720\n",
            "Epoch 98 Iteration 100: discriminator_loss 0.665 generator_loss 0.769\n",
            "Epoch 98 Iteration 200: discriminator_loss 0.694 generator_loss 0.862\n",
            "Epoch 98 Iteration 300: discriminator_loss 0.682 generator_loss 0.701\n",
            "Epoch 98 Iteration 400: discriminator_loss 0.647 generator_loss 0.863\n",
            "Epoch 98 Iteration 500: discriminator_loss 0.655 generator_loss 0.741\n",
            "Epoch 98 Iteration 600: discriminator_loss 0.697 generator_loss 0.820\n",
            "Epoch 98 Iteration 700: discriminator_loss 0.677 generator_loss 0.768\n",
            "Epoch 98 Iteration 800: discriminator_loss 0.676 generator_loss 0.826\n",
            "Epoch 98 Iteration 900: discriminator_loss 0.699 generator_loss 0.912\n"
          ]
        },
        {
          "output_type": "stream",
          "name": "stderr",
          "text": [
            "\r 66%|██████▌   | 99/150 [23:15<11:51, 13.94s/it]"
          ]
        },
        {
          "output_type": "stream",
          "name": "stdout",
          "text": [
            "Epoch 98 Iteration 938: discriminator_loss 0.672 generator_loss 0.771\n",
            "Epoch 99 Iteration 100: discriminator_loss 0.674 generator_loss 0.761\n",
            "Epoch 99 Iteration 200: discriminator_loss 0.704 generator_loss 0.595\n",
            "Epoch 99 Iteration 300: discriminator_loss 0.679 generator_loss 0.689\n",
            "Epoch 99 Iteration 400: discriminator_loss 0.666 generator_loss 0.804\n",
            "Epoch 99 Iteration 500: discriminator_loss 0.672 generator_loss 0.839\n",
            "Epoch 99 Iteration 600: discriminator_loss 0.647 generator_loss 0.664\n",
            "Epoch 99 Iteration 700: discriminator_loss 0.662 generator_loss 0.772\n",
            "Epoch 99 Iteration 800: discriminator_loss 0.672 generator_loss 0.715\n",
            "Epoch 99 Iteration 900: discriminator_loss 0.690 generator_loss 0.600\n"
          ]
        },
        {
          "output_type": "stream",
          "name": "stderr",
          "text": [
            "\r 67%|██████▋   | 100/150 [23:29<11:37, 13.95s/it]"
          ]
        },
        {
          "output_type": "stream",
          "name": "stdout",
          "text": [
            "Epoch 99 Iteration 938: discriminator_loss 0.662 generator_loss 0.709\n",
            "Model saved.\n",
            "Epoch 100 Iteration 100: discriminator_loss 0.687 generator_loss 0.703\n",
            "Epoch 100 Iteration 200: discriminator_loss 0.725 generator_loss 0.681\n",
            "Epoch 100 Iteration 300: discriminator_loss 0.690 generator_loss 0.773\n",
            "Epoch 100 Iteration 400: discriminator_loss 0.674 generator_loss 0.731\n",
            "Epoch 100 Iteration 500: discriminator_loss 0.674 generator_loss 0.807\n",
            "Epoch 100 Iteration 600: discriminator_loss 0.655 generator_loss 0.733\n",
            "Epoch 100 Iteration 700: discriminator_loss 0.689 generator_loss 0.791\n",
            "Epoch 100 Iteration 800: discriminator_loss 0.695 generator_loss 0.670\n",
            "Epoch 100 Iteration 900: discriminator_loss 0.702 generator_loss 0.826\n"
          ]
        },
        {
          "output_type": "stream",
          "name": "stderr",
          "text": [
            "\r 67%|██████▋   | 101/150 [23:43<11:22, 13.93s/it]"
          ]
        },
        {
          "output_type": "stream",
          "name": "stdout",
          "text": [
            "Epoch 100 Iteration 938: discriminator_loss 0.685 generator_loss 1.022\n",
            "Epoch 101 Iteration 100: discriminator_loss 0.704 generator_loss 0.698\n",
            "Epoch 101 Iteration 200: discriminator_loss 0.695 generator_loss 0.718\n",
            "Epoch 101 Iteration 300: discriminator_loss 0.682 generator_loss 0.692\n",
            "Epoch 101 Iteration 400: discriminator_loss 0.707 generator_loss 0.656\n",
            "Epoch 101 Iteration 500: discriminator_loss 0.680 generator_loss 0.753\n",
            "Epoch 101 Iteration 600: discriminator_loss 0.677 generator_loss 0.823\n",
            "Epoch 101 Iteration 700: discriminator_loss 0.661 generator_loss 0.687\n",
            "Epoch 101 Iteration 800: discriminator_loss 0.683 generator_loss 0.702\n",
            "Epoch 101 Iteration 900: discriminator_loss 0.664 generator_loss 0.788\n"
          ]
        },
        {
          "output_type": "stream",
          "name": "stderr",
          "text": [
            "\r 68%|██████▊   | 102/150 [23:57<11:08, 13.92s/it]"
          ]
        },
        {
          "output_type": "stream",
          "name": "stdout",
          "text": [
            "Epoch 101 Iteration 938: discriminator_loss 0.700 generator_loss 0.513\n",
            "Epoch 102 Iteration 100: discriminator_loss 0.675 generator_loss 0.830\n",
            "Epoch 102 Iteration 200: discriminator_loss 0.679 generator_loss 0.619\n",
            "Epoch 102 Iteration 300: discriminator_loss 0.677 generator_loss 0.959\n",
            "Epoch 102 Iteration 400: discriminator_loss 0.674 generator_loss 0.686\n",
            "Epoch 102 Iteration 500: discriminator_loss 0.663 generator_loss 0.865\n",
            "Epoch 102 Iteration 600: discriminator_loss 0.712 generator_loss 0.867\n",
            "Epoch 102 Iteration 700: discriminator_loss 0.647 generator_loss 0.719\n",
            "Epoch 102 Iteration 800: discriminator_loss 0.677 generator_loss 0.732\n",
            "Epoch 102 Iteration 900: discriminator_loss 0.670 generator_loss 0.708\n"
          ]
        },
        {
          "output_type": "stream",
          "name": "stderr",
          "text": [
            "\r 69%|██████▊   | 103/150 [24:11<10:53, 13.91s/it]"
          ]
        },
        {
          "output_type": "stream",
          "name": "stdout",
          "text": [
            "Epoch 102 Iteration 938: discriminator_loss 0.649 generator_loss 0.769\n",
            "Epoch 103 Iteration 100: discriminator_loss 0.689 generator_loss 0.801\n",
            "Epoch 103 Iteration 200: discriminator_loss 0.694 generator_loss 0.663\n",
            "Epoch 103 Iteration 300: discriminator_loss 0.666 generator_loss 0.669\n",
            "Epoch 103 Iteration 400: discriminator_loss 0.699 generator_loss 0.749\n",
            "Epoch 103 Iteration 500: discriminator_loss 0.667 generator_loss 0.722\n",
            "Epoch 103 Iteration 600: discriminator_loss 0.682 generator_loss 0.696\n",
            "Epoch 103 Iteration 700: discriminator_loss 0.683 generator_loss 0.769\n",
            "Epoch 103 Iteration 800: discriminator_loss 0.684 generator_loss 0.661\n",
            "Epoch 103 Iteration 900: discriminator_loss 0.698 generator_loss 0.864\n"
          ]
        },
        {
          "output_type": "stream",
          "name": "stderr",
          "text": [
            "\r 69%|██████▉   | 104/150 [24:25<10:43, 14.00s/it]"
          ]
        },
        {
          "output_type": "stream",
          "name": "stdout",
          "text": [
            "Epoch 103 Iteration 938: discriminator_loss 0.661 generator_loss 0.733\n",
            "Epoch 104 Iteration 100: discriminator_loss 0.653 generator_loss 0.734\n",
            "Epoch 104 Iteration 200: discriminator_loss 0.708 generator_loss 0.752\n",
            "Epoch 104 Iteration 300: discriminator_loss 0.678 generator_loss 0.733\n",
            "Epoch 104 Iteration 400: discriminator_loss 0.668 generator_loss 0.749\n",
            "Epoch 104 Iteration 500: discriminator_loss 0.673 generator_loss 0.654\n",
            "Epoch 104 Iteration 600: discriminator_loss 0.665 generator_loss 0.678\n",
            "Epoch 104 Iteration 700: discriminator_loss 0.682 generator_loss 0.759\n",
            "Epoch 104 Iteration 800: discriminator_loss 0.666 generator_loss 0.782\n",
            "Epoch 104 Iteration 900: discriminator_loss 0.666 generator_loss 0.559\n"
          ]
        },
        {
          "output_type": "stream",
          "name": "stderr",
          "text": [
            "\r 70%|███████   | 105/150 [24:39<10:30, 14.00s/it]"
          ]
        },
        {
          "output_type": "stream",
          "name": "stdout",
          "text": [
            "Epoch 104 Iteration 938: discriminator_loss 0.661 generator_loss 0.764\n",
            "Epoch 105 Iteration 100: discriminator_loss 0.684 generator_loss 0.814\n",
            "Epoch 105 Iteration 200: discriminator_loss 0.669 generator_loss 0.673\n",
            "Epoch 105 Iteration 300: discriminator_loss 0.673 generator_loss 0.675\n",
            "Epoch 105 Iteration 400: discriminator_loss 0.667 generator_loss 0.897\n",
            "Epoch 105 Iteration 500: discriminator_loss 0.672 generator_loss 0.744\n",
            "Epoch 105 Iteration 600: discriminator_loss 0.707 generator_loss 0.708\n",
            "Epoch 105 Iteration 700: discriminator_loss 0.665 generator_loss 0.723\n",
            "Epoch 105 Iteration 800: discriminator_loss 0.641 generator_loss 0.768\n",
            "Epoch 105 Iteration 900: discriminator_loss 0.670 generator_loss 0.777\n"
          ]
        },
        {
          "output_type": "stream",
          "name": "stderr",
          "text": [
            "\r 71%|███████   | 106/150 [24:54<10:21, 14.13s/it]"
          ]
        },
        {
          "output_type": "stream",
          "name": "stdout",
          "text": [
            "Epoch 105 Iteration 938: discriminator_loss 0.659 generator_loss 0.698\n",
            "Epoch 106 Iteration 100: discriminator_loss 0.685 generator_loss 0.654\n",
            "Epoch 106 Iteration 200: discriminator_loss 0.689 generator_loss 0.597\n",
            "Epoch 106 Iteration 300: discriminator_loss 0.690 generator_loss 0.866\n",
            "Epoch 106 Iteration 400: discriminator_loss 0.701 generator_loss 0.789\n",
            "Epoch 106 Iteration 500: discriminator_loss 0.693 generator_loss 0.627\n",
            "Epoch 106 Iteration 600: discriminator_loss 0.666 generator_loss 0.842\n",
            "Epoch 106 Iteration 700: discriminator_loss 0.668 generator_loss 0.749\n",
            "Epoch 106 Iteration 800: discriminator_loss 0.681 generator_loss 0.644\n",
            "Epoch 106 Iteration 900: discriminator_loss 0.664 generator_loss 0.788\n"
          ]
        },
        {
          "output_type": "stream",
          "name": "stderr",
          "text": [
            "\r 71%|███████▏  | 107/150 [25:08<10:10, 14.19s/it]"
          ]
        },
        {
          "output_type": "stream",
          "name": "stdout",
          "text": [
            "Epoch 106 Iteration 938: discriminator_loss 0.692 generator_loss 0.721\n",
            "Epoch 107 Iteration 100: discriminator_loss 0.698 generator_loss 0.801\n",
            "Epoch 107 Iteration 200: discriminator_loss 0.663 generator_loss 0.717\n",
            "Epoch 107 Iteration 300: discriminator_loss 0.682 generator_loss 0.618\n",
            "Epoch 107 Iteration 400: discriminator_loss 0.678 generator_loss 0.729\n",
            "Epoch 107 Iteration 500: discriminator_loss 0.684 generator_loss 0.758\n",
            "Epoch 107 Iteration 600: discriminator_loss 0.673 generator_loss 0.758\n",
            "Epoch 107 Iteration 700: discriminator_loss 0.660 generator_loss 0.676\n",
            "Epoch 107 Iteration 800: discriminator_loss 0.687 generator_loss 0.828\n",
            "Epoch 107 Iteration 900: discriminator_loss 0.687 generator_loss 0.706\n"
          ]
        },
        {
          "output_type": "stream",
          "name": "stderr",
          "text": [
            "\r 72%|███████▏  | 108/150 [25:22<09:55, 14.19s/it]"
          ]
        },
        {
          "output_type": "stream",
          "name": "stdout",
          "text": [
            "Epoch 107 Iteration 938: discriminator_loss 0.689 generator_loss 0.833\n",
            "Epoch 108 Iteration 100: discriminator_loss 0.687 generator_loss 0.662\n",
            "Epoch 108 Iteration 200: discriminator_loss 0.686 generator_loss 0.757\n",
            "Epoch 108 Iteration 300: discriminator_loss 0.679 generator_loss 0.718\n",
            "Epoch 108 Iteration 400: discriminator_loss 0.667 generator_loss 0.645\n",
            "Epoch 108 Iteration 500: discriminator_loss 0.689 generator_loss 0.862\n",
            "Epoch 108 Iteration 600: discriminator_loss 0.669 generator_loss 0.736\n",
            "Epoch 108 Iteration 700: discriminator_loss 0.699 generator_loss 0.769\n",
            "Epoch 108 Iteration 800: discriminator_loss 0.687 generator_loss 0.684\n",
            "Epoch 108 Iteration 900: discriminator_loss 0.706 generator_loss 0.732\n"
          ]
        },
        {
          "output_type": "stream",
          "name": "stderr",
          "text": [
            "\r 73%|███████▎  | 109/150 [25:36<09:40, 14.16s/it]"
          ]
        },
        {
          "output_type": "stream",
          "name": "stdout",
          "text": [
            "Epoch 108 Iteration 938: discriminator_loss 0.710 generator_loss 0.828\n",
            "Epoch 109 Iteration 100: discriminator_loss 0.666 generator_loss 0.775\n",
            "Epoch 109 Iteration 200: discriminator_loss 0.710 generator_loss 0.707\n",
            "Epoch 109 Iteration 300: discriminator_loss 0.689 generator_loss 0.941\n",
            "Epoch 109 Iteration 400: discriminator_loss 0.703 generator_loss 0.800\n",
            "Epoch 109 Iteration 500: discriminator_loss 0.703 generator_loss 0.727\n",
            "Epoch 109 Iteration 600: discriminator_loss 0.714 generator_loss 1.079\n",
            "Epoch 109 Iteration 700: discriminator_loss 0.673 generator_loss 0.791\n",
            "Epoch 109 Iteration 800: discriminator_loss 0.667 generator_loss 0.886\n",
            "Epoch 109 Iteration 900: discriminator_loss 0.698 generator_loss 0.648\n"
          ]
        },
        {
          "output_type": "stream",
          "name": "stderr",
          "text": [
            "\r 73%|███████▎  | 110/150 [25:50<09:24, 14.10s/it]"
          ]
        },
        {
          "output_type": "stream",
          "name": "stdout",
          "text": [
            "Epoch 109 Iteration 938: discriminator_loss 0.665 generator_loss 0.781\n",
            "Model saved.\n",
            "Epoch 110 Iteration 100: discriminator_loss 0.694 generator_loss 0.677\n",
            "Epoch 110 Iteration 200: discriminator_loss 0.691 generator_loss 0.849\n",
            "Epoch 110 Iteration 300: discriminator_loss 0.676 generator_loss 0.774\n",
            "Epoch 110 Iteration 400: discriminator_loss 0.694 generator_loss 0.762\n",
            "Epoch 110 Iteration 500: discriminator_loss 0.650 generator_loss 0.725\n",
            "Epoch 110 Iteration 600: discriminator_loss 0.673 generator_loss 0.786\n",
            "Epoch 110 Iteration 700: discriminator_loss 0.714 generator_loss 0.675\n",
            "Epoch 110 Iteration 800: discriminator_loss 0.709 generator_loss 0.768\n",
            "Epoch 110 Iteration 900: discriminator_loss 0.679 generator_loss 0.809\n"
          ]
        },
        {
          "output_type": "stream",
          "name": "stderr",
          "text": [
            "\r 74%|███████▍  | 111/150 [26:04<09:07, 14.04s/it]"
          ]
        },
        {
          "output_type": "stream",
          "name": "stdout",
          "text": [
            "Epoch 110 Iteration 938: discriminator_loss 0.710 generator_loss 0.696\n",
            "Epoch 111 Iteration 100: discriminator_loss 0.666 generator_loss 0.697\n",
            "Epoch 111 Iteration 200: discriminator_loss 0.701 generator_loss 0.860\n",
            "Epoch 111 Iteration 300: discriminator_loss 0.677 generator_loss 0.732\n",
            "Epoch 111 Iteration 400: discriminator_loss 0.694 generator_loss 0.756\n",
            "Epoch 111 Iteration 500: discriminator_loss 0.706 generator_loss 0.863\n",
            "Epoch 111 Iteration 600: discriminator_loss 0.655 generator_loss 0.828\n",
            "Epoch 111 Iteration 700: discriminator_loss 0.690 generator_loss 0.736\n",
            "Epoch 111 Iteration 800: discriminator_loss 0.688 generator_loss 0.767\n",
            "Epoch 111 Iteration 900: discriminator_loss 0.683 generator_loss 0.800\n"
          ]
        },
        {
          "output_type": "stream",
          "name": "stderr",
          "text": [
            "\r 75%|███████▍  | 112/150 [26:19<08:59, 14.19s/it]"
          ]
        },
        {
          "output_type": "stream",
          "name": "stdout",
          "text": [
            "Epoch 111 Iteration 938: discriminator_loss 0.692 generator_loss 0.843\n",
            "Epoch 112 Iteration 100: discriminator_loss 0.669 generator_loss 0.827\n",
            "Epoch 112 Iteration 200: discriminator_loss 0.675 generator_loss 0.774\n",
            "Epoch 112 Iteration 300: discriminator_loss 0.683 generator_loss 0.593\n",
            "Epoch 112 Iteration 400: discriminator_loss 0.668 generator_loss 0.762\n",
            "Epoch 112 Iteration 500: discriminator_loss 0.695 generator_loss 0.645\n",
            "Epoch 112 Iteration 600: discriminator_loss 0.666 generator_loss 0.767\n",
            "Epoch 112 Iteration 700: discriminator_loss 0.675 generator_loss 0.875\n",
            "Epoch 112 Iteration 800: discriminator_loss 0.681 generator_loss 0.673\n",
            "Epoch 112 Iteration 900: discriminator_loss 0.677 generator_loss 0.759\n"
          ]
        },
        {
          "output_type": "stream",
          "name": "stderr",
          "text": [
            "\r 75%|███████▌  | 113/150 [26:33<08:41, 14.09s/it]"
          ]
        },
        {
          "output_type": "stream",
          "name": "stdout",
          "text": [
            "Epoch 112 Iteration 938: discriminator_loss 0.672 generator_loss 0.757\n",
            "Epoch 113 Iteration 100: discriminator_loss 0.678 generator_loss 0.607\n",
            "Epoch 113 Iteration 200: discriminator_loss 0.679 generator_loss 0.792\n",
            "Epoch 113 Iteration 300: discriminator_loss 0.685 generator_loss 0.713\n",
            "Epoch 113 Iteration 400: discriminator_loss 0.659 generator_loss 0.850\n",
            "Epoch 113 Iteration 500: discriminator_loss 0.692 generator_loss 0.799\n",
            "Epoch 113 Iteration 600: discriminator_loss 0.699 generator_loss 0.715\n",
            "Epoch 113 Iteration 700: discriminator_loss 0.693 generator_loss 0.702\n",
            "Epoch 113 Iteration 800: discriminator_loss 0.671 generator_loss 0.711\n",
            "Epoch 113 Iteration 900: discriminator_loss 0.690 generator_loss 0.780\n"
          ]
        },
        {
          "output_type": "stream",
          "name": "stderr",
          "text": [
            "\r 76%|███████▌  | 114/150 [26:46<08:24, 14.02s/it]"
          ]
        },
        {
          "output_type": "stream",
          "name": "stdout",
          "text": [
            "Epoch 113 Iteration 938: discriminator_loss 0.686 generator_loss 0.702\n",
            "Epoch 114 Iteration 100: discriminator_loss 0.670 generator_loss 0.619\n",
            "Epoch 114 Iteration 200: discriminator_loss 0.695 generator_loss 0.730\n",
            "Epoch 114 Iteration 300: discriminator_loss 0.711 generator_loss 0.651\n",
            "Epoch 114 Iteration 400: discriminator_loss 0.666 generator_loss 0.885\n",
            "Epoch 114 Iteration 500: discriminator_loss 0.682 generator_loss 0.707\n",
            "Epoch 114 Iteration 600: discriminator_loss 0.682 generator_loss 0.837\n",
            "Epoch 114 Iteration 700: discriminator_loss 0.673 generator_loss 0.861\n",
            "Epoch 114 Iteration 800: discriminator_loss 0.687 generator_loss 0.817\n",
            "Epoch 114 Iteration 900: discriminator_loss 0.685 generator_loss 0.906\n"
          ]
        },
        {
          "output_type": "stream",
          "name": "stderr",
          "text": [
            "\r 77%|███████▋  | 115/150 [27:00<08:09, 13.99s/it]"
          ]
        },
        {
          "output_type": "stream",
          "name": "stdout",
          "text": [
            "Epoch 114 Iteration 938: discriminator_loss 0.637 generator_loss 0.824\n",
            "Epoch 115 Iteration 100: discriminator_loss 0.707 generator_loss 0.669\n",
            "Epoch 115 Iteration 200: discriminator_loss 0.690 generator_loss 0.742\n",
            "Epoch 115 Iteration 300: discriminator_loss 0.668 generator_loss 0.754\n",
            "Epoch 115 Iteration 400: discriminator_loss 0.666 generator_loss 0.742\n",
            "Epoch 115 Iteration 500: discriminator_loss 0.671 generator_loss 0.822\n",
            "Epoch 115 Iteration 600: discriminator_loss 0.683 generator_loss 0.706\n",
            "Epoch 115 Iteration 700: discriminator_loss 0.651 generator_loss 0.838\n",
            "Epoch 115 Iteration 800: discriminator_loss 0.677 generator_loss 0.777\n",
            "Epoch 115 Iteration 900: discriminator_loss 0.684 generator_loss 0.616\n"
          ]
        },
        {
          "output_type": "stream",
          "name": "stderr",
          "text": [
            "\r 77%|███████▋  | 116/150 [27:14<07:54, 13.95s/it]"
          ]
        },
        {
          "output_type": "stream",
          "name": "stdout",
          "text": [
            "Epoch 115 Iteration 938: discriminator_loss 0.685 generator_loss 0.853\n",
            "Epoch 116 Iteration 100: discriminator_loss 0.673 generator_loss 0.772\n",
            "Epoch 116 Iteration 200: discriminator_loss 0.681 generator_loss 0.660\n",
            "Epoch 116 Iteration 300: discriminator_loss 0.661 generator_loss 0.704\n",
            "Epoch 116 Iteration 400: discriminator_loss 0.655 generator_loss 0.750\n",
            "Epoch 116 Iteration 500: discriminator_loss 0.687 generator_loss 0.770\n",
            "Epoch 116 Iteration 600: discriminator_loss 0.669 generator_loss 0.777\n",
            "Epoch 116 Iteration 700: discriminator_loss 0.660 generator_loss 0.826\n",
            "Epoch 116 Iteration 800: discriminator_loss 0.691 generator_loss 0.961\n",
            "Epoch 116 Iteration 900: discriminator_loss 0.664 generator_loss 0.700\n"
          ]
        },
        {
          "output_type": "stream",
          "name": "stderr",
          "text": [
            "\r 78%|███████▊  | 117/150 [27:28<07:39, 13.92s/it]"
          ]
        },
        {
          "output_type": "stream",
          "name": "stdout",
          "text": [
            "Epoch 116 Iteration 938: discriminator_loss 0.697 generator_loss 0.645\n",
            "Epoch 117 Iteration 100: discriminator_loss 0.662 generator_loss 0.664\n",
            "Epoch 117 Iteration 200: discriminator_loss 0.731 generator_loss 0.636\n",
            "Epoch 117 Iteration 300: discriminator_loss 0.671 generator_loss 0.834\n",
            "Epoch 117 Iteration 400: discriminator_loss 0.681 generator_loss 0.687\n",
            "Epoch 117 Iteration 500: discriminator_loss 0.707 generator_loss 0.656\n",
            "Epoch 117 Iteration 600: discriminator_loss 0.692 generator_loss 0.778\n",
            "Epoch 117 Iteration 700: discriminator_loss 0.683 generator_loss 0.828\n",
            "Epoch 117 Iteration 800: discriminator_loss 0.711 generator_loss 0.708\n",
            "Epoch 117 Iteration 900: discriminator_loss 0.672 generator_loss 0.767\n"
          ]
        },
        {
          "output_type": "stream",
          "name": "stderr",
          "text": [
            "\r 79%|███████▊  | 118/150 [27:42<07:25, 13.94s/it]"
          ]
        },
        {
          "output_type": "stream",
          "name": "stdout",
          "text": [
            "Epoch 117 Iteration 938: discriminator_loss 0.684 generator_loss 0.831\n",
            "Epoch 118 Iteration 100: discriminator_loss 0.679 generator_loss 0.681\n",
            "Epoch 118 Iteration 200: discriminator_loss 0.694 generator_loss 0.769\n",
            "Epoch 118 Iteration 300: discriminator_loss 0.683 generator_loss 0.711\n",
            "Epoch 118 Iteration 400: discriminator_loss 0.669 generator_loss 0.771\n",
            "Epoch 118 Iteration 500: discriminator_loss 0.673 generator_loss 0.732\n",
            "Epoch 118 Iteration 600: discriminator_loss 0.670 generator_loss 0.824\n",
            "Epoch 118 Iteration 700: discriminator_loss 0.659 generator_loss 0.752\n",
            "Epoch 118 Iteration 800: discriminator_loss 0.674 generator_loss 0.712\n",
            "Epoch 118 Iteration 900: discriminator_loss 0.700 generator_loss 0.701\n"
          ]
        },
        {
          "output_type": "stream",
          "name": "stderr",
          "text": [
            "\r 79%|███████▉  | 119/150 [27:56<07:12, 13.96s/it]"
          ]
        },
        {
          "output_type": "stream",
          "name": "stdout",
          "text": [
            "Epoch 118 Iteration 938: discriminator_loss 0.680 generator_loss 0.612\n",
            "Epoch 119 Iteration 100: discriminator_loss 0.675 generator_loss 0.854\n",
            "Epoch 119 Iteration 200: discriminator_loss 0.694 generator_loss 0.735\n",
            "Epoch 119 Iteration 300: discriminator_loss 0.688 generator_loss 0.783\n",
            "Epoch 119 Iteration 400: discriminator_loss 0.665 generator_loss 0.726\n",
            "Epoch 119 Iteration 500: discriminator_loss 0.686 generator_loss 0.765\n",
            "Epoch 119 Iteration 600: discriminator_loss 0.694 generator_loss 0.754\n",
            "Epoch 119 Iteration 700: discriminator_loss 0.661 generator_loss 0.864\n",
            "Epoch 119 Iteration 800: discriminator_loss 0.658 generator_loss 0.688\n",
            "Epoch 119 Iteration 900: discriminator_loss 0.682 generator_loss 0.660\n"
          ]
        },
        {
          "output_type": "stream",
          "name": "stderr",
          "text": [
            "\r 80%|████████  | 120/150 [28:10<07:00, 14.03s/it]"
          ]
        },
        {
          "output_type": "stream",
          "name": "stdout",
          "text": [
            "Epoch 119 Iteration 938: discriminator_loss 0.692 generator_loss 0.695\n",
            "Model saved.\n",
            "Epoch 120 Iteration 100: discriminator_loss 0.668 generator_loss 0.794\n",
            "Epoch 120 Iteration 200: discriminator_loss 0.704 generator_loss 0.740\n",
            "Epoch 120 Iteration 300: discriminator_loss 0.678 generator_loss 0.764\n",
            "Epoch 120 Iteration 400: discriminator_loss 0.678 generator_loss 0.666\n",
            "Epoch 120 Iteration 500: discriminator_loss 0.671 generator_loss 0.705\n",
            "Epoch 120 Iteration 600: discriminator_loss 0.689 generator_loss 0.765\n",
            "Epoch 120 Iteration 700: discriminator_loss 0.643 generator_loss 0.757\n",
            "Epoch 120 Iteration 800: discriminator_loss 0.713 generator_loss 0.800\n",
            "Epoch 120 Iteration 900: discriminator_loss 0.689 generator_loss 0.637\n"
          ]
        },
        {
          "output_type": "stream",
          "name": "stderr",
          "text": [
            "\r 81%|████████  | 121/150 [28:24<06:46, 14.03s/it]"
          ]
        },
        {
          "output_type": "stream",
          "name": "stdout",
          "text": [
            "Epoch 120 Iteration 938: discriminator_loss 0.682 generator_loss 0.854\n",
            "Epoch 121 Iteration 100: discriminator_loss 0.666 generator_loss 0.738\n",
            "Epoch 121 Iteration 200: discriminator_loss 0.681 generator_loss 0.705\n",
            "Epoch 121 Iteration 300: discriminator_loss 0.664 generator_loss 0.816\n",
            "Epoch 121 Iteration 400: discriminator_loss 0.695 generator_loss 0.842\n",
            "Epoch 121 Iteration 500: discriminator_loss 0.682 generator_loss 0.753\n",
            "Epoch 121 Iteration 600: discriminator_loss 0.668 generator_loss 0.704\n",
            "Epoch 121 Iteration 700: discriminator_loss 0.692 generator_loss 0.692\n",
            "Epoch 121 Iteration 800: discriminator_loss 0.670 generator_loss 0.748\n",
            "Epoch 121 Iteration 900: discriminator_loss 0.696 generator_loss 0.770\n"
          ]
        },
        {
          "output_type": "stream",
          "name": "stderr",
          "text": [
            "\r 81%|████████▏ | 122/150 [28:38<06:33, 14.05s/it]"
          ]
        },
        {
          "output_type": "stream",
          "name": "stdout",
          "text": [
            "Epoch 121 Iteration 938: discriminator_loss 0.675 generator_loss 0.689\n",
            "Epoch 122 Iteration 100: discriminator_loss 0.715 generator_loss 0.804\n",
            "Epoch 122 Iteration 200: discriminator_loss 0.675 generator_loss 0.811\n",
            "Epoch 122 Iteration 300: discriminator_loss 0.663 generator_loss 0.723\n",
            "Epoch 122 Iteration 400: discriminator_loss 0.693 generator_loss 0.716\n",
            "Epoch 122 Iteration 500: discriminator_loss 0.674 generator_loss 0.911\n",
            "Epoch 122 Iteration 600: discriminator_loss 0.680 generator_loss 0.798\n",
            "Epoch 122 Iteration 700: discriminator_loss 0.674 generator_loss 0.702\n",
            "Epoch 122 Iteration 800: discriminator_loss 0.674 generator_loss 0.739\n",
            "Epoch 122 Iteration 900: discriminator_loss 0.692 generator_loss 0.737\n"
          ]
        },
        {
          "output_type": "stream",
          "name": "stderr",
          "text": [
            "\r 82%|████████▏ | 123/150 [28:53<06:19, 14.06s/it]"
          ]
        },
        {
          "output_type": "stream",
          "name": "stdout",
          "text": [
            "Epoch 122 Iteration 938: discriminator_loss 0.653 generator_loss 0.709\n",
            "Epoch 123 Iteration 100: discriminator_loss 0.690 generator_loss 0.661\n",
            "Epoch 123 Iteration 200: discriminator_loss 0.667 generator_loss 0.745\n",
            "Epoch 123 Iteration 300: discriminator_loss 0.685 generator_loss 0.683\n",
            "Epoch 123 Iteration 400: discriminator_loss 0.670 generator_loss 0.834\n",
            "Epoch 123 Iteration 500: discriminator_loss 0.678 generator_loss 0.796\n",
            "Epoch 123 Iteration 600: discriminator_loss 0.663 generator_loss 0.729\n",
            "Epoch 123 Iteration 700: discriminator_loss 0.697 generator_loss 0.786\n",
            "Epoch 123 Iteration 800: discriminator_loss 0.696 generator_loss 0.839\n",
            "Epoch 123 Iteration 900: discriminator_loss 0.684 generator_loss 0.652\n"
          ]
        },
        {
          "output_type": "stream",
          "name": "stderr",
          "text": [
            "\r 83%|████████▎ | 124/150 [29:07<06:05, 14.08s/it]"
          ]
        },
        {
          "output_type": "stream",
          "name": "stdout",
          "text": [
            "Epoch 123 Iteration 938: discriminator_loss 0.703 generator_loss 0.749\n",
            "Epoch 124 Iteration 100: discriminator_loss 0.703 generator_loss 0.696\n",
            "Epoch 124 Iteration 200: discriminator_loss 0.685 generator_loss 0.757\n",
            "Epoch 124 Iteration 300: discriminator_loss 0.657 generator_loss 0.690\n",
            "Epoch 124 Iteration 400: discriminator_loss 0.682 generator_loss 0.798\n",
            "Epoch 124 Iteration 500: discriminator_loss 0.679 generator_loss 0.729\n",
            "Epoch 124 Iteration 600: discriminator_loss 0.686 generator_loss 0.754\n",
            "Epoch 124 Iteration 700: discriminator_loss 0.674 generator_loss 0.617\n",
            "Epoch 124 Iteration 800: discriminator_loss 0.672 generator_loss 0.736\n",
            "Epoch 124 Iteration 900: discriminator_loss 0.663 generator_loss 0.697\n"
          ]
        },
        {
          "output_type": "stream",
          "name": "stderr",
          "text": [
            "\r 83%|████████▎ | 125/150 [29:21<05:52, 14.08s/it]"
          ]
        },
        {
          "output_type": "stream",
          "name": "stdout",
          "text": [
            "Epoch 124 Iteration 938: discriminator_loss 0.652 generator_loss 0.624\n",
            "Epoch 125 Iteration 100: discriminator_loss 0.684 generator_loss 0.641\n",
            "Epoch 125 Iteration 200: discriminator_loss 0.678 generator_loss 0.836\n",
            "Epoch 125 Iteration 300: discriminator_loss 0.682 generator_loss 0.656\n",
            "Epoch 125 Iteration 400: discriminator_loss 0.689 generator_loss 0.756\n",
            "Epoch 125 Iteration 500: discriminator_loss 0.654 generator_loss 0.832\n",
            "Epoch 125 Iteration 600: discriminator_loss 0.680 generator_loss 0.834\n",
            "Epoch 125 Iteration 700: discriminator_loss 0.686 generator_loss 0.768\n",
            "Epoch 125 Iteration 800: discriminator_loss 0.697 generator_loss 0.679\n",
            "Epoch 125 Iteration 900: discriminator_loss 0.682 generator_loss 0.736\n"
          ]
        },
        {
          "output_type": "stream",
          "name": "stderr",
          "text": [
            "\r 84%|████████▍ | 126/150 [29:35<05:38, 14.09s/it]"
          ]
        },
        {
          "output_type": "stream",
          "name": "stdout",
          "text": [
            "Epoch 125 Iteration 938: discriminator_loss 0.656 generator_loss 0.648\n",
            "Epoch 126 Iteration 100: discriminator_loss 0.682 generator_loss 0.706\n",
            "Epoch 126 Iteration 200: discriminator_loss 0.693 generator_loss 0.628\n",
            "Epoch 126 Iteration 300: discriminator_loss 0.674 generator_loss 0.753\n",
            "Epoch 126 Iteration 400: discriminator_loss 0.688 generator_loss 0.658\n",
            "Epoch 126 Iteration 500: discriminator_loss 0.701 generator_loss 0.793\n",
            "Epoch 126 Iteration 600: discriminator_loss 0.652 generator_loss 0.820\n",
            "Epoch 126 Iteration 700: discriminator_loss 0.705 generator_loss 0.908\n",
            "Epoch 126 Iteration 800: discriminator_loss 0.689 generator_loss 0.712\n",
            "Epoch 126 Iteration 900: discriminator_loss 0.699 generator_loss 0.710\n"
          ]
        },
        {
          "output_type": "stream",
          "name": "stderr",
          "text": [
            "\r 85%|████████▍ | 127/150 [29:49<05:23, 14.08s/it]"
          ]
        },
        {
          "output_type": "stream",
          "name": "stdout",
          "text": [
            "Epoch 126 Iteration 938: discriminator_loss 0.662 generator_loss 0.657\n",
            "Epoch 127 Iteration 100: discriminator_loss 0.667 generator_loss 0.698\n",
            "Epoch 127 Iteration 200: discriminator_loss 0.682 generator_loss 0.657\n",
            "Epoch 127 Iteration 300: discriminator_loss 0.662 generator_loss 0.778\n",
            "Epoch 127 Iteration 400: discriminator_loss 0.660 generator_loss 0.826\n",
            "Epoch 127 Iteration 500: discriminator_loss 0.679 generator_loss 0.748\n",
            "Epoch 127 Iteration 600: discriminator_loss 0.673 generator_loss 0.897\n",
            "Epoch 127 Iteration 700: discriminator_loss 0.689 generator_loss 0.805\n",
            "Epoch 127 Iteration 800: discriminator_loss 0.697 generator_loss 0.844\n",
            "Epoch 127 Iteration 900: discriminator_loss 0.641 generator_loss 0.736\n"
          ]
        },
        {
          "output_type": "stream",
          "name": "stderr",
          "text": [
            "\r 85%|████████▌ | 128/150 [30:03<05:10, 14.10s/it]"
          ]
        },
        {
          "output_type": "stream",
          "name": "stdout",
          "text": [
            "Epoch 127 Iteration 938: discriminator_loss 0.661 generator_loss 0.733\n",
            "Epoch 128 Iteration 100: discriminator_loss 0.694 generator_loss 0.590\n",
            "Epoch 128 Iteration 200: discriminator_loss 0.675 generator_loss 0.791\n",
            "Epoch 128 Iteration 300: discriminator_loss 0.690 generator_loss 0.717\n",
            "Epoch 128 Iteration 400: discriminator_loss 0.659 generator_loss 0.687\n",
            "Epoch 128 Iteration 500: discriminator_loss 0.723 generator_loss 0.682\n",
            "Epoch 128 Iteration 600: discriminator_loss 0.659 generator_loss 0.694\n",
            "Epoch 128 Iteration 700: discriminator_loss 0.698 generator_loss 0.831\n",
            "Epoch 128 Iteration 800: discriminator_loss 0.684 generator_loss 0.830\n",
            "Epoch 128 Iteration 900: discriminator_loss 0.682 generator_loss 0.700\n"
          ]
        },
        {
          "output_type": "stream",
          "name": "stderr",
          "text": [
            "\r 86%|████████▌ | 129/150 [30:17<04:55, 14.06s/it]"
          ]
        },
        {
          "output_type": "stream",
          "name": "stdout",
          "text": [
            "Epoch 128 Iteration 938: discriminator_loss 0.688 generator_loss 0.669\n",
            "Epoch 129 Iteration 100: discriminator_loss 0.686 generator_loss 0.771\n",
            "Epoch 129 Iteration 200: discriminator_loss 0.685 generator_loss 0.899\n",
            "Epoch 129 Iteration 300: discriminator_loss 0.682 generator_loss 0.717\n",
            "Epoch 129 Iteration 400: discriminator_loss 0.685 generator_loss 0.791\n",
            "Epoch 129 Iteration 500: discriminator_loss 0.681 generator_loss 0.773\n",
            "Epoch 129 Iteration 600: discriminator_loss 0.697 generator_loss 0.605\n",
            "Epoch 129 Iteration 700: discriminator_loss 0.713 generator_loss 0.659\n",
            "Epoch 129 Iteration 800: discriminator_loss 0.667 generator_loss 0.827\n",
            "Epoch 129 Iteration 900: discriminator_loss 0.681 generator_loss 0.764\n"
          ]
        },
        {
          "output_type": "stream",
          "name": "stderr",
          "text": [
            "\r 87%|████████▋ | 130/150 [30:31<04:40, 14.05s/it]"
          ]
        },
        {
          "output_type": "stream",
          "name": "stdout",
          "text": [
            "Epoch 129 Iteration 938: discriminator_loss 0.678 generator_loss 0.765\n",
            "Model saved.\n",
            "Epoch 130 Iteration 100: discriminator_loss 0.682 generator_loss 0.716\n",
            "Epoch 130 Iteration 200: discriminator_loss 0.690 generator_loss 0.668\n",
            "Epoch 130 Iteration 300: discriminator_loss 0.665 generator_loss 0.616\n",
            "Epoch 130 Iteration 400: discriminator_loss 0.673 generator_loss 0.809\n",
            "Epoch 130 Iteration 500: discriminator_loss 0.670 generator_loss 0.704\n",
            "Epoch 130 Iteration 600: discriminator_loss 0.722 generator_loss 0.744\n",
            "Epoch 130 Iteration 700: discriminator_loss 0.706 generator_loss 0.643\n",
            "Epoch 130 Iteration 800: discriminator_loss 0.662 generator_loss 0.811\n",
            "Epoch 130 Iteration 900: discriminator_loss 0.701 generator_loss 0.768\n"
          ]
        },
        {
          "output_type": "stream",
          "name": "stderr",
          "text": [
            "\r 87%|████████▋ | 131/150 [30:45<04:26, 14.03s/it]"
          ]
        },
        {
          "output_type": "stream",
          "name": "stdout",
          "text": [
            "Epoch 130 Iteration 938: discriminator_loss 0.686 generator_loss 0.868\n",
            "Epoch 131 Iteration 100: discriminator_loss 0.674 generator_loss 0.700\n",
            "Epoch 131 Iteration 200: discriminator_loss 0.660 generator_loss 0.827\n",
            "Epoch 131 Iteration 300: discriminator_loss 0.685 generator_loss 0.823\n",
            "Epoch 131 Iteration 400: discriminator_loss 0.692 generator_loss 0.705\n",
            "Epoch 131 Iteration 500: discriminator_loss 0.663 generator_loss 0.737\n",
            "Epoch 131 Iteration 600: discriminator_loss 0.665 generator_loss 0.671\n",
            "Epoch 131 Iteration 700: discriminator_loss 0.693 generator_loss 0.876\n",
            "Epoch 131 Iteration 800: discriminator_loss 0.663 generator_loss 0.815\n",
            "Epoch 131 Iteration 900: discriminator_loss 0.671 generator_loss 0.689\n"
          ]
        },
        {
          "output_type": "stream",
          "name": "stderr",
          "text": [
            "\r 88%|████████▊ | 132/150 [30:59<04:12, 14.03s/it]"
          ]
        },
        {
          "output_type": "stream",
          "name": "stdout",
          "text": [
            "Epoch 131 Iteration 938: discriminator_loss 0.699 generator_loss 0.860\n",
            "Epoch 132 Iteration 100: discriminator_loss 0.665 generator_loss 0.764\n",
            "Epoch 132 Iteration 200: discriminator_loss 0.676 generator_loss 0.740\n",
            "Epoch 132 Iteration 300: discriminator_loss 0.655 generator_loss 0.698\n",
            "Epoch 132 Iteration 400: discriminator_loss 0.665 generator_loss 0.823\n",
            "Epoch 132 Iteration 500: discriminator_loss 0.673 generator_loss 0.700\n",
            "Epoch 132 Iteration 600: discriminator_loss 0.697 generator_loss 0.837\n",
            "Epoch 132 Iteration 700: discriminator_loss 0.698 generator_loss 0.806\n",
            "Epoch 132 Iteration 800: discriminator_loss 0.701 generator_loss 0.797\n",
            "Epoch 132 Iteration 900: discriminator_loss 0.689 generator_loss 0.840\n"
          ]
        },
        {
          "output_type": "stream",
          "name": "stderr",
          "text": [
            "\r 89%|████████▊ | 133/150 [31:13<03:58, 14.02s/it]"
          ]
        },
        {
          "output_type": "stream",
          "name": "stdout",
          "text": [
            "Epoch 132 Iteration 938: discriminator_loss 0.715 generator_loss 0.764\n",
            "Epoch 133 Iteration 100: discriminator_loss 0.685 generator_loss 0.724\n",
            "Epoch 133 Iteration 200: discriminator_loss 0.695 generator_loss 0.760\n",
            "Epoch 133 Iteration 300: discriminator_loss 0.714 generator_loss 0.831\n",
            "Epoch 133 Iteration 400: discriminator_loss 0.675 generator_loss 0.669\n",
            "Epoch 133 Iteration 500: discriminator_loss 0.694 generator_loss 0.764\n",
            "Epoch 133 Iteration 600: discriminator_loss 0.672 generator_loss 0.723\n",
            "Epoch 133 Iteration 700: discriminator_loss 0.673 generator_loss 0.730\n",
            "Epoch 133 Iteration 800: discriminator_loss 0.715 generator_loss 0.813\n",
            "Epoch 133 Iteration 900: discriminator_loss 0.688 generator_loss 0.712\n"
          ]
        },
        {
          "output_type": "stream",
          "name": "stderr",
          "text": [
            "\r 89%|████████▉ | 134/150 [31:28<03:47, 14.19s/it]"
          ]
        },
        {
          "output_type": "stream",
          "name": "stdout",
          "text": [
            "Epoch 133 Iteration 938: discriminator_loss 0.686 generator_loss 0.762\n",
            "Epoch 134 Iteration 100: discriminator_loss 0.657 generator_loss 0.879\n",
            "Epoch 134 Iteration 200: discriminator_loss 0.679 generator_loss 0.786\n",
            "Epoch 134 Iteration 300: discriminator_loss 0.695 generator_loss 0.682\n",
            "Epoch 134 Iteration 400: discriminator_loss 0.684 generator_loss 0.800\n",
            "Epoch 134 Iteration 500: discriminator_loss 0.688 generator_loss 0.801\n",
            "Epoch 134 Iteration 600: discriminator_loss 0.711 generator_loss 0.661\n",
            "Epoch 134 Iteration 700: discriminator_loss 0.672 generator_loss 0.686\n",
            "Epoch 134 Iteration 800: discriminator_loss 0.684 generator_loss 0.798\n",
            "Epoch 134 Iteration 900: discriminator_loss 0.696 generator_loss 0.660\n"
          ]
        },
        {
          "output_type": "stream",
          "name": "stderr",
          "text": [
            "\r 90%|█████████ | 135/150 [31:42<03:31, 14.11s/it]"
          ]
        },
        {
          "output_type": "stream",
          "name": "stdout",
          "text": [
            "Epoch 134 Iteration 938: discriminator_loss 0.664 generator_loss 0.650\n",
            "Epoch 135 Iteration 100: discriminator_loss 0.669 generator_loss 0.787\n",
            "Epoch 135 Iteration 200: discriminator_loss 0.690 generator_loss 0.714\n",
            "Epoch 135 Iteration 300: discriminator_loss 0.686 generator_loss 0.697\n",
            "Epoch 135 Iteration 400: discriminator_loss 0.704 generator_loss 0.685\n",
            "Epoch 135 Iteration 500: discriminator_loss 0.692 generator_loss 0.807\n",
            "Epoch 135 Iteration 600: discriminator_loss 0.697 generator_loss 0.734\n",
            "Epoch 135 Iteration 700: discriminator_loss 0.673 generator_loss 0.703\n",
            "Epoch 135 Iteration 800: discriminator_loss 0.673 generator_loss 0.763\n",
            "Epoch 135 Iteration 900: discriminator_loss 0.699 generator_loss 0.776\n"
          ]
        },
        {
          "output_type": "stream",
          "name": "stderr",
          "text": [
            "\r 91%|█████████ | 136/150 [31:56<03:17, 14.10s/it]"
          ]
        },
        {
          "output_type": "stream",
          "name": "stdout",
          "text": [
            "Epoch 135 Iteration 938: discriminator_loss 0.666 generator_loss 0.642\n",
            "Epoch 136 Iteration 100: discriminator_loss 0.694 generator_loss 0.693\n",
            "Epoch 136 Iteration 200: discriminator_loss 0.675 generator_loss 0.777\n",
            "Epoch 136 Iteration 300: discriminator_loss 0.686 generator_loss 0.699\n",
            "Epoch 136 Iteration 400: discriminator_loss 0.683 generator_loss 0.696\n",
            "Epoch 136 Iteration 500: discriminator_loss 0.648 generator_loss 0.683\n",
            "Epoch 136 Iteration 600: discriminator_loss 0.695 generator_loss 0.749\n",
            "Epoch 136 Iteration 700: discriminator_loss 0.729 generator_loss 0.739\n",
            "Epoch 136 Iteration 800: discriminator_loss 0.704 generator_loss 0.724\n",
            "Epoch 136 Iteration 900: discriminator_loss 0.677 generator_loss 0.759\n"
          ]
        },
        {
          "output_type": "stream",
          "name": "stderr",
          "text": [
            "\r 91%|█████████▏| 137/150 [32:10<03:03, 14.09s/it]"
          ]
        },
        {
          "output_type": "stream",
          "name": "stdout",
          "text": [
            "Epoch 136 Iteration 938: discriminator_loss 0.679 generator_loss 0.749\n",
            "Epoch 137 Iteration 100: discriminator_loss 0.710 generator_loss 0.677\n",
            "Epoch 137 Iteration 200: discriminator_loss 0.694 generator_loss 0.704\n",
            "Epoch 137 Iteration 300: discriminator_loss 0.698 generator_loss 0.710\n",
            "Epoch 137 Iteration 400: discriminator_loss 0.698 generator_loss 0.696\n",
            "Epoch 137 Iteration 500: discriminator_loss 0.691 generator_loss 0.779\n",
            "Epoch 137 Iteration 600: discriminator_loss 0.682 generator_loss 0.758\n",
            "Epoch 137 Iteration 700: discriminator_loss 0.691 generator_loss 0.777\n",
            "Epoch 137 Iteration 800: discriminator_loss 0.684 generator_loss 0.762\n",
            "Epoch 137 Iteration 900: discriminator_loss 0.667 generator_loss 0.843\n"
          ]
        },
        {
          "output_type": "stream",
          "name": "stderr",
          "text": [
            "\r 92%|█████████▏| 138/150 [32:24<02:49, 14.11s/it]"
          ]
        },
        {
          "output_type": "stream",
          "name": "stdout",
          "text": [
            "Epoch 137 Iteration 938: discriminator_loss 0.699 generator_loss 0.707\n",
            "Epoch 138 Iteration 100: discriminator_loss 0.665 generator_loss 0.771\n",
            "Epoch 138 Iteration 200: discriminator_loss 0.674 generator_loss 0.698\n",
            "Epoch 138 Iteration 300: discriminator_loss 0.671 generator_loss 0.782\n",
            "Epoch 138 Iteration 400: discriminator_loss 0.684 generator_loss 0.838\n",
            "Epoch 138 Iteration 500: discriminator_loss 0.701 generator_loss 0.761\n",
            "Epoch 138 Iteration 600: discriminator_loss 0.671 generator_loss 0.711\n",
            "Epoch 138 Iteration 700: discriminator_loss 0.665 generator_loss 0.716\n",
            "Epoch 138 Iteration 800: discriminator_loss 0.691 generator_loss 0.684\n",
            "Epoch 138 Iteration 900: discriminator_loss 0.684 generator_loss 0.748\n"
          ]
        },
        {
          "output_type": "stream",
          "name": "stderr",
          "text": [
            "\r 93%|█████████▎| 139/150 [32:38<02:35, 14.10s/it]"
          ]
        },
        {
          "output_type": "stream",
          "name": "stdout",
          "text": [
            "Epoch 138 Iteration 938: discriminator_loss 0.669 generator_loss 0.877\n",
            "Epoch 139 Iteration 100: discriminator_loss 0.678 generator_loss 0.687\n",
            "Epoch 139 Iteration 200: discriminator_loss 0.673 generator_loss 0.822\n",
            "Epoch 139 Iteration 300: discriminator_loss 0.677 generator_loss 0.849\n",
            "Epoch 139 Iteration 400: discriminator_loss 0.663 generator_loss 0.818\n",
            "Epoch 139 Iteration 500: discriminator_loss 0.669 generator_loss 0.772\n",
            "Epoch 139 Iteration 600: discriminator_loss 0.655 generator_loss 0.732\n",
            "Epoch 139 Iteration 700: discriminator_loss 0.686 generator_loss 0.805\n",
            "Epoch 139 Iteration 800: discriminator_loss 0.668 generator_loss 0.887\n",
            "Epoch 139 Iteration 900: discriminator_loss 0.704 generator_loss 0.636\n"
          ]
        },
        {
          "output_type": "stream",
          "name": "stderr",
          "text": [
            "\r 93%|█████████▎| 140/150 [32:52<02:21, 14.13s/it]"
          ]
        },
        {
          "output_type": "stream",
          "name": "stdout",
          "text": [
            "Epoch 139 Iteration 938: discriminator_loss 0.670 generator_loss 0.724\n",
            "Model saved.\n",
            "Epoch 140 Iteration 100: discriminator_loss 0.676 generator_loss 0.734\n",
            "Epoch 140 Iteration 200: discriminator_loss 0.683 generator_loss 0.632\n",
            "Epoch 140 Iteration 300: discriminator_loss 0.685 generator_loss 0.748\n",
            "Epoch 140 Iteration 400: discriminator_loss 0.696 generator_loss 0.843\n",
            "Epoch 140 Iteration 500: discriminator_loss 0.687 generator_loss 0.754\n",
            "Epoch 140 Iteration 600: discriminator_loss 0.686 generator_loss 0.802\n",
            "Epoch 140 Iteration 700: discriminator_loss 0.690 generator_loss 0.691\n",
            "Epoch 140 Iteration 800: discriminator_loss 0.683 generator_loss 0.756\n",
            "Epoch 140 Iteration 900: discriminator_loss 0.690 generator_loss 0.674\n"
          ]
        },
        {
          "output_type": "stream",
          "name": "stderr",
          "text": [
            "\r 94%|█████████▍| 141/150 [33:06<02:07, 14.13s/it]"
          ]
        },
        {
          "output_type": "stream",
          "name": "stdout",
          "text": [
            "Epoch 140 Iteration 938: discriminator_loss 0.683 generator_loss 0.922\n",
            "Epoch 141 Iteration 100: discriminator_loss 0.689 generator_loss 0.795\n",
            "Epoch 141 Iteration 200: discriminator_loss 0.662 generator_loss 0.753\n",
            "Epoch 141 Iteration 300: discriminator_loss 0.671 generator_loss 0.748\n",
            "Epoch 141 Iteration 400: discriminator_loss 0.665 generator_loss 0.665\n",
            "Epoch 141 Iteration 500: discriminator_loss 0.691 generator_loss 0.730\n",
            "Epoch 141 Iteration 600: discriminator_loss 0.671 generator_loss 0.821\n",
            "Epoch 141 Iteration 700: discriminator_loss 0.684 generator_loss 0.820\n",
            "Epoch 141 Iteration 800: discriminator_loss 0.711 generator_loss 0.673\n",
            "Epoch 141 Iteration 900: discriminator_loss 0.696 generator_loss 0.801\n"
          ]
        },
        {
          "output_type": "stream",
          "name": "stderr",
          "text": [
            "\r 95%|█████████▍| 142/150 [33:20<01:52, 14.08s/it]"
          ]
        },
        {
          "output_type": "stream",
          "name": "stdout",
          "text": [
            "Epoch 141 Iteration 938: discriminator_loss 0.686 generator_loss 0.658\n",
            "Epoch 142 Iteration 100: discriminator_loss 0.669 generator_loss 0.760\n",
            "Epoch 142 Iteration 200: discriminator_loss 0.682 generator_loss 0.739\n",
            "Epoch 142 Iteration 300: discriminator_loss 0.678 generator_loss 0.631\n",
            "Epoch 142 Iteration 400: discriminator_loss 0.685 generator_loss 0.702\n",
            "Epoch 142 Iteration 500: discriminator_loss 0.690 generator_loss 0.730\n",
            "Epoch 142 Iteration 600: discriminator_loss 0.679 generator_loss 0.859\n",
            "Epoch 142 Iteration 700: discriminator_loss 0.659 generator_loss 0.649\n",
            "Epoch 142 Iteration 800: discriminator_loss 0.686 generator_loss 0.740\n",
            "Epoch 142 Iteration 900: discriminator_loss 0.680 generator_loss 0.693\n"
          ]
        },
        {
          "output_type": "stream",
          "name": "stderr",
          "text": [
            "\r 95%|█████████▌| 143/150 [33:34<01:38, 14.03s/it]"
          ]
        },
        {
          "output_type": "stream",
          "name": "stdout",
          "text": [
            "Epoch 142 Iteration 938: discriminator_loss 0.670 generator_loss 0.642\n",
            "Epoch 143 Iteration 100: discriminator_loss 0.662 generator_loss 0.745\n",
            "Epoch 143 Iteration 200: discriminator_loss 0.678 generator_loss 0.818\n",
            "Epoch 143 Iteration 300: discriminator_loss 0.669 generator_loss 0.793\n",
            "Epoch 143 Iteration 400: discriminator_loss 0.688 generator_loss 0.736\n",
            "Epoch 143 Iteration 500: discriminator_loss 0.678 generator_loss 0.684\n",
            "Epoch 143 Iteration 600: discriminator_loss 0.690 generator_loss 0.709\n",
            "Epoch 143 Iteration 700: discriminator_loss 0.677 generator_loss 0.807\n",
            "Epoch 143 Iteration 800: discriminator_loss 0.681 generator_loss 0.777\n",
            "Epoch 143 Iteration 900: discriminator_loss 0.685 generator_loss 0.592\n"
          ]
        },
        {
          "output_type": "stream",
          "name": "stderr",
          "text": [
            "\r 96%|█████████▌| 144/150 [33:48<01:23, 13.98s/it]"
          ]
        },
        {
          "output_type": "stream",
          "name": "stdout",
          "text": [
            "Epoch 143 Iteration 938: discriminator_loss 0.671 generator_loss 0.660\n",
            "Epoch 144 Iteration 100: discriminator_loss 0.674 generator_loss 0.730\n",
            "Epoch 144 Iteration 200: discriminator_loss 0.693 generator_loss 0.808\n",
            "Epoch 144 Iteration 300: discriminator_loss 0.706 generator_loss 0.839\n",
            "Epoch 144 Iteration 400: discriminator_loss 0.677 generator_loss 0.674\n",
            "Epoch 144 Iteration 500: discriminator_loss 0.678 generator_loss 0.732\n",
            "Epoch 144 Iteration 600: discriminator_loss 0.693 generator_loss 0.856\n",
            "Epoch 144 Iteration 700: discriminator_loss 0.673 generator_loss 0.732\n",
            "Epoch 144 Iteration 800: discriminator_loss 0.654 generator_loss 0.791\n",
            "Epoch 144 Iteration 900: discriminator_loss 0.676 generator_loss 0.729\n"
          ]
        },
        {
          "output_type": "stream",
          "name": "stderr",
          "text": [
            "\r 97%|█████████▋| 145/150 [34:02<01:09, 13.95s/it]"
          ]
        },
        {
          "output_type": "stream",
          "name": "stdout",
          "text": [
            "Epoch 144 Iteration 938: discriminator_loss 0.689 generator_loss 0.848\n",
            "Epoch 145 Iteration 100: discriminator_loss 0.691 generator_loss 0.793\n",
            "Epoch 145 Iteration 200: discriminator_loss 0.652 generator_loss 0.705\n",
            "Epoch 145 Iteration 300: discriminator_loss 0.692 generator_loss 0.813\n",
            "Epoch 145 Iteration 400: discriminator_loss 0.681 generator_loss 0.739\n",
            "Epoch 145 Iteration 500: discriminator_loss 0.657 generator_loss 0.764\n",
            "Epoch 145 Iteration 600: discriminator_loss 0.695 generator_loss 0.775\n",
            "Epoch 145 Iteration 700: discriminator_loss 0.693 generator_loss 0.824\n",
            "Epoch 145 Iteration 800: discriminator_loss 0.649 generator_loss 0.755\n",
            "Epoch 145 Iteration 900: discriminator_loss 0.674 generator_loss 0.809\n"
          ]
        },
        {
          "output_type": "stream",
          "name": "stderr",
          "text": [
            "\r 97%|█████████▋| 146/150 [34:16<00:55, 13.94s/it]"
          ]
        },
        {
          "output_type": "stream",
          "name": "stdout",
          "text": [
            "Epoch 145 Iteration 938: discriminator_loss 0.680 generator_loss 0.658\n",
            "Epoch 146 Iteration 100: discriminator_loss 0.660 generator_loss 0.696\n",
            "Epoch 146 Iteration 200: discriminator_loss 0.678 generator_loss 0.772\n",
            "Epoch 146 Iteration 300: discriminator_loss 0.673 generator_loss 0.782\n",
            "Epoch 146 Iteration 400: discriminator_loss 0.650 generator_loss 0.846\n",
            "Epoch 146 Iteration 500: discriminator_loss 0.668 generator_loss 0.714\n",
            "Epoch 146 Iteration 600: discriminator_loss 0.677 generator_loss 0.800\n",
            "Epoch 146 Iteration 700: discriminator_loss 0.681 generator_loss 0.781\n",
            "Epoch 146 Iteration 800: discriminator_loss 0.706 generator_loss 0.722\n",
            "Epoch 146 Iteration 900: discriminator_loss 0.653 generator_loss 0.791\n"
          ]
        },
        {
          "output_type": "stream",
          "name": "stderr",
          "text": [
            "\r 98%|█████████▊| 147/150 [34:30<00:41, 13.99s/it]"
          ]
        },
        {
          "output_type": "stream",
          "name": "stdout",
          "text": [
            "Epoch 146 Iteration 938: discriminator_loss 0.694 generator_loss 0.762\n",
            "Epoch 147 Iteration 100: discriminator_loss 0.687 generator_loss 0.787\n",
            "Epoch 147 Iteration 200: discriminator_loss 0.675 generator_loss 0.644\n",
            "Epoch 147 Iteration 300: discriminator_loss 0.696 generator_loss 0.820\n",
            "Epoch 147 Iteration 400: discriminator_loss 0.679 generator_loss 0.673\n",
            "Epoch 147 Iteration 500: discriminator_loss 0.671 generator_loss 0.705\n",
            "Epoch 147 Iteration 600: discriminator_loss 0.675 generator_loss 0.736\n",
            "Epoch 147 Iteration 700: discriminator_loss 0.674 generator_loss 0.721\n",
            "Epoch 147 Iteration 800: discriminator_loss 0.693 generator_loss 0.723\n",
            "Epoch 147 Iteration 900: discriminator_loss 0.669 generator_loss 0.779\n"
          ]
        },
        {
          "output_type": "stream",
          "name": "stderr",
          "text": [
            "\r 99%|█████████▊| 148/150 [34:44<00:27, 13.97s/it]"
          ]
        },
        {
          "output_type": "stream",
          "name": "stdout",
          "text": [
            "Epoch 147 Iteration 938: discriminator_loss 0.690 generator_loss 0.732\n",
            "Epoch 148 Iteration 100: discriminator_loss 0.694 generator_loss 0.669\n",
            "Epoch 148 Iteration 200: discriminator_loss 0.667 generator_loss 0.665\n",
            "Epoch 148 Iteration 300: discriminator_loss 0.667 generator_loss 0.731\n",
            "Epoch 148 Iteration 400: discriminator_loss 0.704 generator_loss 0.724\n",
            "Epoch 148 Iteration 500: discriminator_loss 0.681 generator_loss 0.813\n",
            "Epoch 148 Iteration 600: discriminator_loss 0.688 generator_loss 0.822\n",
            "Epoch 148 Iteration 700: discriminator_loss 0.664 generator_loss 0.757\n",
            "Epoch 148 Iteration 800: discriminator_loss 0.688 generator_loss 0.719\n",
            "Epoch 148 Iteration 900: discriminator_loss 0.686 generator_loss 0.772\n"
          ]
        },
        {
          "output_type": "stream",
          "name": "stderr",
          "text": [
            "\r 99%|█████████▉| 149/150 [34:58<00:13, 13.99s/it]"
          ]
        },
        {
          "output_type": "stream",
          "name": "stdout",
          "text": [
            "Epoch 148 Iteration 938: discriminator_loss 0.672 generator_loss 0.754\n",
            "Epoch 149 Iteration 100: discriminator_loss 0.709 generator_loss 0.842\n",
            "Epoch 149 Iteration 200: discriminator_loss 0.712 generator_loss 0.728\n",
            "Epoch 149 Iteration 300: discriminator_loss 0.672 generator_loss 0.728\n",
            "Epoch 149 Iteration 400: discriminator_loss 0.669 generator_loss 0.759\n",
            "Epoch 149 Iteration 500: discriminator_loss 0.675 generator_loss 0.931\n",
            "Epoch 149 Iteration 600: discriminator_loss 0.673 generator_loss 0.666\n",
            "Epoch 149 Iteration 700: discriminator_loss 0.694 generator_loss 0.731\n",
            "Epoch 149 Iteration 800: discriminator_loss 0.690 generator_loss 0.746\n",
            "Epoch 149 Iteration 900: discriminator_loss 0.686 generator_loss 0.665\n"
          ]
        },
        {
          "output_type": "stream",
          "name": "stderr",
          "text": [
            "100%|██████████| 150/150 [35:12<00:00, 14.08s/it]"
          ]
        },
        {
          "output_type": "stream",
          "name": "stdout",
          "text": [
            "Epoch 149 Iteration 938: discriminator_loss 0.724 generator_loss 0.806\n",
            "Model saved.\n"
          ]
        },
        {
          "output_type": "stream",
          "name": "stderr",
          "text": [
            "\n"
          ]
        }
      ]
    },
    {
      "cell_type": "code",
      "source": [
        ""
      ],
      "metadata": {
        "id": "JVEroS8OgLJH"
      },
      "execution_count": 11,
      "outputs": []
    }
  ]
}